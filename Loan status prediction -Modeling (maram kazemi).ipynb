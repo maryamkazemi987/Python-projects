{
 "cells": [
  {
   "cell_type": "markdown",
   "metadata": {},
   "source": [
    "# Changing current working directory"
   ]
  },
  {
   "cell_type": "code",
   "execution_count": 1,
   "metadata": {},
   "outputs": [
    {
     "data": {
      "text/plain": [
       "'E:\\\\Data science course\\\\course 10.  mashine learnning and big data analytics\\\\ML.Python'"
      ]
     },
     "execution_count": 1,
     "metadata": {},
     "output_type": "execute_result"
    }
   ],
   "source": [
    "import os\n",
    "os.chdir(r'E:\\Data science course\\course 10.  mashine learnning and big data analytics\\ML.Python')\n",
    "os.getcwd()"
   ]
  },
  {
   "cell_type": "code",
   "execution_count": 2,
   "metadata": {},
   "outputs": [],
   "source": [
    "import warnings\n",
    "warnings.filterwarnings('ignore')"
   ]
  },
  {
   "cell_type": "markdown",
   "metadata": {},
   "source": [
    "# Importing some basic libraries"
   ]
  },
  {
   "cell_type": "code",
   "execution_count": 2,
   "metadata": {},
   "outputs": [
    {
     "name": "stdout",
     "output_type": "stream",
     "text": [
      "Collecting https://github.com/pandas-profiling/pandas-profiling/archive/master.zip\n",
      "  Using cached https://github.com/pandas-profiling/pandas-profiling/archive/master.zip\n",
      "Requirement already satisfied: joblib~=1.1.0 in c:\\users\\lenovo\\anaconda3\\lib\\site-packages (from pandas-profiling==3.1.1) (1.1.0)\n",
      "Requirement already satisfied: scipy>=1.4.1 in c:\\users\\lenovo\\anaconda3\\lib\\site-packages (from pandas-profiling==3.1.1) (1.7.3)\n",
      "Requirement already satisfied: pandas!=1.0.0,!=1.0.1,!=1.0.2,!=1.1.0,>=0.25.3 in c:\\users\\lenovo\\anaconda3\\lib\\site-packages (from pandas-profiling==3.1.1) (1.2.4)\n",
      "Requirement already satisfied: matplotlib>=3.2.0 in c:\\users\\lenovo\\anaconda3\\lib\\site-packages (from pandas-profiling==3.1.1) (3.3.4)\n",
      "Requirement already satisfied: pydantic>=1.8.1 in c:\\users\\lenovo\\anaconda3\\lib\\site-packages (from pandas-profiling==3.1.1) (1.8.2)\n",
      "Requirement already satisfied: PyYAML>=5.0.0 in c:\\users\\lenovo\\anaconda3\\lib\\site-packages (from pandas-profiling==3.1.1) (5.4.1)\n",
      "Requirement already satisfied: jinja2>=2.11.1 in c:\\users\\lenovo\\anaconda3\\lib\\site-packages (from pandas-profiling==3.1.1) (2.11.3)\n",
      "Requirement already satisfied: markupsafe~=2.0.1 in c:\\users\\lenovo\\anaconda3\\lib\\site-packages (from pandas-profiling==3.1.1) (2.0.1)\n",
      "Requirement already satisfied: visions[type_image_path]==0.7.4 in c:\\users\\lenovo\\anaconda3\\lib\\site-packages (from pandas-profiling==3.1.1) (0.7.4)\n",
      "Requirement already satisfied: numpy>=1.16.0 in c:\\users\\lenovo\\anaconda3\\lib\\site-packages (from pandas-profiling==3.1.1) (1.20.1)\n",
      "Requirement already satisfied: htmlmin>=0.1.12 in c:\\users\\lenovo\\anaconda3\\lib\\site-packages (from pandas-profiling==3.1.1) (0.1.12)\n",
      "Requirement already satisfied: missingno>=0.4.2 in c:\\users\\lenovo\\anaconda3\\lib\\site-packages (from pandas-profiling==3.1.1) (0.5.0)\n",
      "Requirement already satisfied: phik>=0.11.1 in c:\\users\\lenovo\\anaconda3\\lib\\site-packages (from pandas-profiling==3.1.1) (0.12.0)\n",
      "Requirement already satisfied: tangled-up-in-unicode==0.2.0 in c:\\users\\lenovo\\anaconda3\\lib\\site-packages (from pandas-profiling==3.1.1) (0.2.0)\n",
      "Requirement already satisfied: requests>=2.24.0 in c:\\users\\lenovo\\anaconda3\\lib\\site-packages (from pandas-profiling==3.1.1) (2.25.1)\n",
      "Requirement already satisfied: tqdm>=4.48.2 in c:\\users\\lenovo\\anaconda3\\lib\\site-packages (from pandas-profiling==3.1.1) (4.59.0)\n",
      "Requirement already satisfied: seaborn>=0.10.1 in c:\\users\\lenovo\\anaconda3\\lib\\site-packages (from pandas-profiling==3.1.1) (0.11.1)\n",
      "Requirement already satisfied: multimethod>=1.4 in c:\\users\\lenovo\\anaconda3\\lib\\site-packages (from pandas-profiling==3.1.1) (1.6)\n",
      "Requirement already satisfied: attrs>=19.3.0 in c:\\users\\lenovo\\anaconda3\\lib\\site-packages (from visions[type_image_path]==0.7.4->pandas-profiling==3.1.1) (20.3.0)\n",
      "Requirement already satisfied: networkx>=2.4 in c:\\users\\lenovo\\anaconda3\\lib\\site-packages (from visions[type_image_path]==0.7.4->pandas-profiling==3.1.1) (2.5)\n",
      "Requirement already satisfied: Pillow in c:\\users\\lenovo\\anaconda3\\lib\\site-packages (from visions[type_image_path]==0.7.4->pandas-profiling==3.1.1) (8.2.0)\n",
      "Requirement already satisfied: imagehash in c:\\users\\lenovo\\anaconda3\\lib\\site-packages (from visions[type_image_path]==0.7.4->pandas-profiling==3.1.1) (4.2.1)\n",
      "Requirement already satisfied: cycler>=0.10 in c:\\users\\lenovo\\anaconda3\\lib\\site-packages (from matplotlib>=3.2.0->pandas-profiling==3.1.1) (0.10.0)\n",
      "Requirement already satisfied: python-dateutil>=2.1 in c:\\users\\lenovo\\anaconda3\\lib\\site-packages (from matplotlib>=3.2.0->pandas-profiling==3.1.1) (2.8.1)\n",
      "Requirement already satisfied: kiwisolver>=1.0.1 in c:\\users\\lenovo\\anaconda3\\lib\\site-packages (from matplotlib>=3.2.0->pandas-profiling==3.1.1) (1.3.1)\n",
      "Requirement already satisfied: pyparsing!=2.0.4,!=2.1.2,!=2.1.6,>=2.0.3 in c:\\users\\lenovo\\anaconda3\\lib\\site-packages (from matplotlib>=3.2.0->pandas-profiling==3.1.1) (2.4.7)\n",
      "Requirement already satisfied: six in c:\\users\\lenovo\\anaconda3\\lib\\site-packages (from cycler>=0.10->matplotlib>=3.2.0->pandas-profiling==3.1.1) (1.15.0)\n",
      "Requirement already satisfied: decorator>=4.3.0 in c:\\users\\lenovo\\anaconda3\\lib\\site-packages (from networkx>=2.4->visions[type_image_path]==0.7.4->pandas-profiling==3.1.1) (5.0.6)\n",
      "Requirement already satisfied: pytz>=2017.3 in c:\\users\\lenovo\\anaconda3\\lib\\site-packages (from pandas!=1.0.0,!=1.0.1,!=1.0.2,!=1.1.0,>=0.25.3->pandas-profiling==3.1.1) (2021.1)\n",
      "Requirement already satisfied: typing-extensions>=3.7.4.3 in c:\\users\\lenovo\\anaconda3\\lib\\site-packages (from pydantic>=1.8.1->pandas-profiling==3.1.1) (3.7.4.3)\n",
      "Requirement already satisfied: idna<3,>=2.5 in c:\\users\\lenovo\\anaconda3\\lib\\site-packages (from requests>=2.24.0->pandas-profiling==3.1.1) (2.10)\n",
      "Requirement already satisfied: chardet<5,>=3.0.2 in c:\\users\\lenovo\\anaconda3\\lib\\site-packages (from requests>=2.24.0->pandas-profiling==3.1.1) (4.0.0)\n",
      "Requirement already satisfied: certifi>=2017.4.17 in c:\\users\\lenovo\\anaconda3\\lib\\site-packages (from requests>=2.24.0->pandas-profiling==3.1.1) (2020.12.5)\n",
      "Requirement already satisfied: urllib3<1.27,>=1.21.1 in c:\\users\\lenovo\\anaconda3\\lib\\site-packages (from requests>=2.24.0->pandas-profiling==3.1.1) (1.26.4)\n",
      "Requirement already satisfied: PyWavelets in c:\\users\\lenovo\\anaconda3\\lib\\site-packages (from imagehash->visions[type_image_path]==0.7.4->pandas-profiling==3.1.1) (1.1.1)\n"
     ]
    }
   ],
   "source": [
    "# Importing the numpy and pandas package\n",
    "import numpy as np # linear algebra\n",
    "import pandas as pd # data processing, CSV file I/O \n",
    "\n",
    "!pip install https://github.com/pandas-profiling/pandas-profiling/archive/master.zip\n",
    "import pandas_profiling\n",
    "\n",
    "# Data Visualisation\n",
    "import matplotlib.pyplot as plt\n",
    "import seaborn as sns\n",
    "%matplotlib inline"
   ]
  },
  {
   "cell_type": "code",
   "execution_count": 4,
   "metadata": {},
   "outputs": [],
   "source": [
    "# loading csv data to dataframe \n",
    "train= pd.read_csv('cleaned train_Loan status.csv',na_values='NA')\n",
    "test= pd.read_csv('cleaned test_Loan status.csv',na_values='NA')# this a data that we want to predict value of target column for each records of it at the end of the project"
   ]
  },
  {
   "cell_type": "code",
   "execution_count": 5,
   "metadata": {},
   "outputs": [
    {
     "data": {
      "text/html": [
       "<div>\n",
       "<style scoped>\n",
       "    .dataframe tbody tr th:only-of-type {\n",
       "        vertical-align: middle;\n",
       "    }\n",
       "\n",
       "    .dataframe tbody tr th {\n",
       "        vertical-align: top;\n",
       "    }\n",
       "\n",
       "    .dataframe thead th {\n",
       "        text-align: right;\n",
       "    }\n",
       "</style>\n",
       "<table border=\"1\" class=\"dataframe\">\n",
       "  <thead>\n",
       "    <tr style=\"text-align: right;\">\n",
       "      <th></th>\n",
       "      <th>Unnamed: 0</th>\n",
       "      <th>Annual Income</th>\n",
       "      <th>Bankruptcies</th>\n",
       "      <th>Credit Score</th>\n",
       "      <th>Current Credit Balance</th>\n",
       "      <th>Current Loan Amount</th>\n",
       "      <th>Months since last delinquent</th>\n",
       "      <th>Number of Open Accounts</th>\n",
       "      <th>Tax Liens</th>\n",
       "      <th>Term</th>\n",
       "      <th>...</th>\n",
       "      <th>Purpose_Medical Bills</th>\n",
       "      <th>Purpose_major_purchase</th>\n",
       "      <th>Purpose_moving</th>\n",
       "      <th>Purpose_small_business</th>\n",
       "      <th>Purpose_vacation</th>\n",
       "      <th>Purpose_wedding</th>\n",
       "      <th>Is Months since last delinquent Missing</th>\n",
       "      <th>RMI</th>\n",
       "      <th>RMC</th>\n",
       "      <th>Loan Status</th>\n",
       "    </tr>\n",
       "  </thead>\n",
       "  <tbody>\n",
       "    <tr>\n",
       "      <th>0</th>\n",
       "      <td>0</td>\n",
       "      <td>-0.222831</td>\n",
       "      <td>2.543541</td>\n",
       "      <td>-0.371598</td>\n",
       "      <td>-0.206410</td>\n",
       "      <td>0.789041</td>\n",
       "      <td>0.802186</td>\n",
       "      <td>-1.023622</td>\n",
       "      <td>-0.111454</td>\n",
       "      <td>-0.600832</td>\n",
       "      <td>...</td>\n",
       "      <td>-0.105384</td>\n",
       "      <td>-0.061992</td>\n",
       "      <td>-0.038671</td>\n",
       "      <td>-0.053614</td>\n",
       "      <td>-0.07952</td>\n",
       "      <td>-0.033968</td>\n",
       "      <td>0.927432</td>\n",
       "      <td>-1.557362</td>\n",
       "      <td>-0.058881</td>\n",
       "      <td>0.0</td>\n",
       "    </tr>\n",
       "    <tr>\n",
       "      <th>1</th>\n",
       "      <td>1</td>\n",
       "      <td>0.742138</td>\n",
       "      <td>-0.331720</td>\n",
       "      <td>0.310536</td>\n",
       "      <td>-0.198802</td>\n",
       "      <td>-0.254103</td>\n",
       "      <td>-1.227729</td>\n",
       "      <td>4.774885</td>\n",
       "      <td>-0.111454</td>\n",
       "      <td>-0.600832</td>\n",
       "      <td>...</td>\n",
       "      <td>-0.105384</td>\n",
       "      <td>-0.061992</td>\n",
       "      <td>-0.038671</td>\n",
       "      <td>-0.053614</td>\n",
       "      <td>-0.07952</td>\n",
       "      <td>-0.033968</td>\n",
       "      <td>-1.078246</td>\n",
       "      <td>0.649109</td>\n",
       "      <td>-0.058862</td>\n",
       "      <td>0.0</td>\n",
       "    </tr>\n",
       "    <tr>\n",
       "      <th>2</th>\n",
       "      <td>2</td>\n",
       "      <td>1.353771</td>\n",
       "      <td>-0.331720</td>\n",
       "      <td>0.874156</td>\n",
       "      <td>0.090951</td>\n",
       "      <td>0.508388</td>\n",
       "      <td>-0.271939</td>\n",
       "      <td>1.375760</td>\n",
       "      <td>-0.111454</td>\n",
       "      <td>-0.600832</td>\n",
       "      <td>...</td>\n",
       "      <td>-0.105384</td>\n",
       "      <td>-0.061992</td>\n",
       "      <td>-0.038671</td>\n",
       "      <td>-0.053614</td>\n",
       "      <td>-0.07952</td>\n",
       "      <td>-0.033968</td>\n",
       "      <td>-1.078246</td>\n",
       "      <td>-0.183458</td>\n",
       "      <td>-0.058862</td>\n",
       "      <td>0.0</td>\n",
       "    </tr>\n",
       "    <tr>\n",
       "      <th>3</th>\n",
       "      <td>3</td>\n",
       "      <td>-0.756874</td>\n",
       "      <td>-0.331720</td>\n",
       "      <td>0.095559</td>\n",
       "      <td>-0.086543</td>\n",
       "      <td>0.232121</td>\n",
       "      <td>0.210507</td>\n",
       "      <td>-0.423777</td>\n",
       "      <td>-0.111454</td>\n",
       "      <td>1.664359</td>\n",
       "      <td>...</td>\n",
       "      <td>-0.105384</td>\n",
       "      <td>-0.061992</td>\n",
       "      <td>-0.038671</td>\n",
       "      <td>-0.053614</td>\n",
       "      <td>-0.07952</td>\n",
       "      <td>-0.033968</td>\n",
       "      <td>0.927432</td>\n",
       "      <td>-0.542218</td>\n",
       "      <td>-0.058874</td>\n",
       "      <td>0.0</td>\n",
       "    </tr>\n",
       "    <tr>\n",
       "      <th>4</th>\n",
       "      <td>4</td>\n",
       "      <td>0.024321</td>\n",
       "      <td>-0.331720</td>\n",
       "      <td>0.310536</td>\n",
       "      <td>-0.098764</td>\n",
       "      <td>-0.744714</td>\n",
       "      <td>0.064863</td>\n",
       "      <td>0.775914</td>\n",
       "      <td>-0.111454</td>\n",
       "      <td>-0.600832</td>\n",
       "      <td>...</td>\n",
       "      <td>-0.105384</td>\n",
       "      <td>-0.061992</td>\n",
       "      <td>-0.038671</td>\n",
       "      <td>-0.053614</td>\n",
       "      <td>-0.07952</td>\n",
       "      <td>-0.033968</td>\n",
       "      <td>0.927432</td>\n",
       "      <td>0.196769</td>\n",
       "      <td>-0.058855</td>\n",
       "      <td>0.0</td>\n",
       "    </tr>\n",
       "  </tbody>\n",
       "</table>\n",
       "<p>5 rows × 33 columns</p>\n",
       "</div>"
      ],
      "text/plain": [
       "   Unnamed: 0  Annual Income  Bankruptcies  Credit Score  \\\n",
       "0           0      -0.222831      2.543541     -0.371598   \n",
       "1           1       0.742138     -0.331720      0.310536   \n",
       "2           2       1.353771     -0.331720      0.874156   \n",
       "3           3      -0.756874     -0.331720      0.095559   \n",
       "4           4       0.024321     -0.331720      0.310536   \n",
       "\n",
       "   Current Credit Balance  Current Loan Amount  Months since last delinquent  \\\n",
       "0               -0.206410             0.789041                      0.802186   \n",
       "1               -0.198802            -0.254103                     -1.227729   \n",
       "2                0.090951             0.508388                     -0.271939   \n",
       "3               -0.086543             0.232121                      0.210507   \n",
       "4               -0.098764            -0.744714                      0.064863   \n",
       "\n",
       "   Number of Open Accounts  Tax Liens      Term  ...  Purpose_Medical Bills  \\\n",
       "0                -1.023622  -0.111454 -0.600832  ...              -0.105384   \n",
       "1                 4.774885  -0.111454 -0.600832  ...              -0.105384   \n",
       "2                 1.375760  -0.111454 -0.600832  ...              -0.105384   \n",
       "3                -0.423777  -0.111454  1.664359  ...              -0.105384   \n",
       "4                 0.775914  -0.111454 -0.600832  ...              -0.105384   \n",
       "\n",
       "   Purpose_major_purchase  Purpose_moving  Purpose_small_business  \\\n",
       "0               -0.061992       -0.038671               -0.053614   \n",
       "1               -0.061992       -0.038671               -0.053614   \n",
       "2               -0.061992       -0.038671               -0.053614   \n",
       "3               -0.061992       -0.038671               -0.053614   \n",
       "4               -0.061992       -0.038671               -0.053614   \n",
       "\n",
       "   Purpose_vacation  Purpose_wedding  Is Months since last delinquent Missing  \\\n",
       "0          -0.07952        -0.033968                                 0.927432   \n",
       "1          -0.07952        -0.033968                                -1.078246   \n",
       "2          -0.07952        -0.033968                                -1.078246   \n",
       "3          -0.07952        -0.033968                                 0.927432   \n",
       "4          -0.07952        -0.033968                                 0.927432   \n",
       "\n",
       "        RMI       RMC  Loan Status  \n",
       "0 -1.557362 -0.058881          0.0  \n",
       "1  0.649109 -0.058862          0.0  \n",
       "2 -0.183458 -0.058862          0.0  \n",
       "3 -0.542218 -0.058874          0.0  \n",
       "4  0.196769 -0.058855          0.0  \n",
       "\n",
       "[5 rows x 33 columns]"
      ]
     },
     "execution_count": 5,
     "metadata": {},
     "output_type": "execute_result"
    }
   ],
   "source": [
    "train.head()"
   ]
  },
  {
   "cell_type": "code",
   "execution_count": 6,
   "metadata": {},
   "outputs": [
    {
     "data": {
      "text/plain": [
       "Index(['Unnamed: 0', 'Annual Income', 'Bankruptcies', 'Credit Score',\n",
       "       'Current Credit Balance', 'Current Loan Amount',\n",
       "       'Months since last delinquent', 'Number of Open Accounts', 'Tax Liens',\n",
       "       'Term', 'Years in current job', 'Years of Credit History',\n",
       "       'Annual Income outlier', 'Current Credit Balance outlier',\n",
       "       'Maximum Open Credit outlier', 'Monthly Debt outlier',\n",
       "       'Home Ownership_Own Home', 'Home Ownership_Rent', 'Purpose_Buy House',\n",
       "       'Purpose_Buy a Car', 'Purpose_Debt Consolidation',\n",
       "       'Purpose_Educational Expenses', 'Purpose_Home Improvements',\n",
       "       'Purpose_Medical Bills', 'Purpose_major_purchase', 'Purpose_moving',\n",
       "       'Purpose_small_business', 'Purpose_vacation', 'Purpose_wedding',\n",
       "       'Is Months since last delinquent Missing', 'RMI', 'RMC', 'Loan Status'],\n",
       "      dtype='object')"
      ]
     },
     "execution_count": 6,
     "metadata": {},
     "output_type": "execute_result"
    }
   ],
   "source": [
    "train.columns"
   ]
  },
  {
   "cell_type": "code",
   "execution_count": 7,
   "metadata": {},
   "outputs": [],
   "source": [
    "train.drop(labels=['Unnamed: 0'], axis=1, inplace=True)"
   ]
  },
  {
   "cell_type": "code",
   "execution_count": 8,
   "metadata": {},
   "outputs": [
    {
     "data": {
      "text/html": [
       "<div>\n",
       "<style scoped>\n",
       "    .dataframe tbody tr th:only-of-type {\n",
       "        vertical-align: middle;\n",
       "    }\n",
       "\n",
       "    .dataframe tbody tr th {\n",
       "        vertical-align: top;\n",
       "    }\n",
       "\n",
       "    .dataframe thead th {\n",
       "        text-align: right;\n",
       "    }\n",
       "</style>\n",
       "<table border=\"1\" class=\"dataframe\">\n",
       "  <thead>\n",
       "    <tr style=\"text-align: right;\">\n",
       "      <th></th>\n",
       "      <th>Unnamed: 0</th>\n",
       "      <th>Annual Income</th>\n",
       "      <th>Bankruptcies</th>\n",
       "      <th>Credit Score</th>\n",
       "      <th>Current Credit Balance</th>\n",
       "      <th>Current Loan Amount</th>\n",
       "      <th>Months since last delinquent</th>\n",
       "      <th>Number of Open Accounts</th>\n",
       "      <th>Tax Liens</th>\n",
       "      <th>Term</th>\n",
       "      <th>...</th>\n",
       "      <th>Purpose_Medical Bills</th>\n",
       "      <th>Purpose_major_purchase</th>\n",
       "      <th>Purpose_moving</th>\n",
       "      <th>Purpose_small_business</th>\n",
       "      <th>Purpose_vacation</th>\n",
       "      <th>Purpose_wedding</th>\n",
       "      <th>Is Months since last delinquent Missing</th>\n",
       "      <th>RMI</th>\n",
       "      <th>RMC</th>\n",
       "      <th>Loan Status</th>\n",
       "    </tr>\n",
       "  </thead>\n",
       "  <tbody>\n",
       "    <tr>\n",
       "      <th>0</th>\n",
       "      <td>420</td>\n",
       "      <td>0.742138</td>\n",
       "      <td>-0.33172</td>\n",
       "      <td>0.310536</td>\n",
       "      <td>3.340552</td>\n",
       "      <td>1.842088</td>\n",
       "      <td>-0.490406</td>\n",
       "      <td>0.376017</td>\n",
       "      <td>-0.111454</td>\n",
       "      <td>-0.600832</td>\n",
       "      <td>...</td>\n",
       "      <td>-0.105384</td>\n",
       "      <td>-0.061992</td>\n",
       "      <td>-0.038671</td>\n",
       "      <td>-0.053614</td>\n",
       "      <td>-0.07952</td>\n",
       "      <td>-0.033968</td>\n",
       "      <td>0.927432</td>\n",
       "      <td>0.615349</td>\n",
       "      <td>-0.058872</td>\n",
       "      <td>NaN</td>\n",
       "    </tr>\n",
       "    <tr>\n",
       "      <th>1</th>\n",
       "      <td>1003</td>\n",
       "      <td>-0.684012</td>\n",
       "      <td>-0.33172</td>\n",
       "      <td>-0.099090</td>\n",
       "      <td>-0.333885</td>\n",
       "      <td>-1.363682</td>\n",
       "      <td>0.592822</td>\n",
       "      <td>-0.423777</td>\n",
       "      <td>-0.111454</td>\n",
       "      <td>-0.600832</td>\n",
       "      <td>...</td>\n",
       "      <td>-0.105384</td>\n",
       "      <td>-0.061992</td>\n",
       "      <td>-0.038671</td>\n",
       "      <td>-0.053614</td>\n",
       "      <td>-0.07952</td>\n",
       "      <td>-0.033968</td>\n",
       "      <td>-1.078246</td>\n",
       "      <td>-0.515634</td>\n",
       "      <td>-0.058878</td>\n",
       "      <td>NaN</td>\n",
       "    </tr>\n",
       "    <tr>\n",
       "      <th>2</th>\n",
       "      <td>1627</td>\n",
       "      <td>-0.611614</td>\n",
       "      <td>-0.33172</td>\n",
       "      <td>0.310536</td>\n",
       "      <td>-0.191518</td>\n",
       "      <td>-0.533002</td>\n",
       "      <td>0.683850</td>\n",
       "      <td>-0.223828</td>\n",
       "      <td>-0.111454</td>\n",
       "      <td>-0.600832</td>\n",
       "      <td>...</td>\n",
       "      <td>-0.105384</td>\n",
       "      <td>-0.061992</td>\n",
       "      <td>-0.038671</td>\n",
       "      <td>-0.053614</td>\n",
       "      <td>-0.07952</td>\n",
       "      <td>-0.033968</td>\n",
       "      <td>0.927432</td>\n",
       "      <td>-0.483892</td>\n",
       "      <td>-0.058871</td>\n",
       "      <td>NaN</td>\n",
       "    </tr>\n",
       "    <tr>\n",
       "      <th>3</th>\n",
       "      <td>1828</td>\n",
       "      <td>-0.247006</td>\n",
       "      <td>-0.33172</td>\n",
       "      <td>-0.955546</td>\n",
       "      <td>0.423357</td>\n",
       "      <td>1.270126</td>\n",
       "      <td>-0.399378</td>\n",
       "      <td>-0.423777</td>\n",
       "      <td>-0.111454</td>\n",
       "      <td>1.664359</td>\n",
       "      <td>...</td>\n",
       "      <td>-0.105384</td>\n",
       "      <td>-0.061992</td>\n",
       "      <td>-0.038671</td>\n",
       "      <td>-0.053614</td>\n",
       "      <td>-0.07952</td>\n",
       "      <td>-0.033968</td>\n",
       "      <td>0.927432</td>\n",
       "      <td>1.583748</td>\n",
       "      <td>-0.058855</td>\n",
       "      <td>NaN</td>\n",
       "    </tr>\n",
       "    <tr>\n",
       "      <th>4</th>\n",
       "      <td>2216</td>\n",
       "      <td>-0.827203</td>\n",
       "      <td>-0.33172</td>\n",
       "      <td>0.874156</td>\n",
       "      <td>-0.113900</td>\n",
       "      <td>-0.794853</td>\n",
       "      <td>0.720261</td>\n",
       "      <td>-0.023880</td>\n",
       "      <td>-0.111454</td>\n",
       "      <td>-0.600832</td>\n",
       "      <td>...</td>\n",
       "      <td>-0.105384</td>\n",
       "      <td>-0.061992</td>\n",
       "      <td>-0.038671</td>\n",
       "      <td>-0.053614</td>\n",
       "      <td>-0.07952</td>\n",
       "      <td>-0.033968</td>\n",
       "      <td>0.927432</td>\n",
       "      <td>-1.013904</td>\n",
       "      <td>-0.058883</td>\n",
       "      <td>NaN</td>\n",
       "    </tr>\n",
       "  </tbody>\n",
       "</table>\n",
       "<p>5 rows × 33 columns</p>\n",
       "</div>"
      ],
      "text/plain": [
       "   Unnamed: 0  Annual Income  Bankruptcies  Credit Score  \\\n",
       "0         420       0.742138      -0.33172      0.310536   \n",
       "1        1003      -0.684012      -0.33172     -0.099090   \n",
       "2        1627      -0.611614      -0.33172      0.310536   \n",
       "3        1828      -0.247006      -0.33172     -0.955546   \n",
       "4        2216      -0.827203      -0.33172      0.874156   \n",
       "\n",
       "   Current Credit Balance  Current Loan Amount  Months since last delinquent  \\\n",
       "0                3.340552             1.842088                     -0.490406   \n",
       "1               -0.333885            -1.363682                      0.592822   \n",
       "2               -0.191518            -0.533002                      0.683850   \n",
       "3                0.423357             1.270126                     -0.399378   \n",
       "4               -0.113900            -0.794853                      0.720261   \n",
       "\n",
       "   Number of Open Accounts  Tax Liens      Term  ...  Purpose_Medical Bills  \\\n",
       "0                 0.376017  -0.111454 -0.600832  ...              -0.105384   \n",
       "1                -0.423777  -0.111454 -0.600832  ...              -0.105384   \n",
       "2                -0.223828  -0.111454 -0.600832  ...              -0.105384   \n",
       "3                -0.423777  -0.111454  1.664359  ...              -0.105384   \n",
       "4                -0.023880  -0.111454 -0.600832  ...              -0.105384   \n",
       "\n",
       "   Purpose_major_purchase  Purpose_moving  Purpose_small_business  \\\n",
       "0               -0.061992       -0.038671               -0.053614   \n",
       "1               -0.061992       -0.038671               -0.053614   \n",
       "2               -0.061992       -0.038671               -0.053614   \n",
       "3               -0.061992       -0.038671               -0.053614   \n",
       "4               -0.061992       -0.038671               -0.053614   \n",
       "\n",
       "   Purpose_vacation  Purpose_wedding  Is Months since last delinquent Missing  \\\n",
       "0          -0.07952        -0.033968                                 0.927432   \n",
       "1          -0.07952        -0.033968                                -1.078246   \n",
       "2          -0.07952        -0.033968                                 0.927432   \n",
       "3          -0.07952        -0.033968                                 0.927432   \n",
       "4          -0.07952        -0.033968                                 0.927432   \n",
       "\n",
       "        RMI       RMC  Loan Status  \n",
       "0  0.615349 -0.058872          NaN  \n",
       "1 -0.515634 -0.058878          NaN  \n",
       "2 -0.483892 -0.058871          NaN  \n",
       "3  1.583748 -0.058855          NaN  \n",
       "4 -1.013904 -0.058883          NaN  \n",
       "\n",
       "[5 rows x 33 columns]"
      ]
     },
     "execution_count": 8,
     "metadata": {},
     "output_type": "execute_result"
    }
   ],
   "source": [
    "test.head()"
   ]
  },
  {
   "cell_type": "code",
   "execution_count": 9,
   "metadata": {},
   "outputs": [],
   "source": [
    "test.drop(labels=['Unnamed: 0'], axis=1, inplace=True)"
   ]
  },
  {
   "cell_type": "code",
   "execution_count": 10,
   "metadata": {
    "scrolled": true
   },
   "outputs": [
    {
     "data": {
      "text/html": [
       "<div>\n",
       "<style scoped>\n",
       "    .dataframe tbody tr th:only-of-type {\n",
       "        vertical-align: middle;\n",
       "    }\n",
       "\n",
       "    .dataframe tbody tr th {\n",
       "        vertical-align: top;\n",
       "    }\n",
       "\n",
       "    .dataframe thead th {\n",
       "        text-align: right;\n",
       "    }\n",
       "</style>\n",
       "<table border=\"1\" class=\"dataframe\">\n",
       "  <thead>\n",
       "    <tr style=\"text-align: right;\">\n",
       "      <th></th>\n",
       "      <th>count</th>\n",
       "      <th>mean</th>\n",
       "      <th>std</th>\n",
       "      <th>min</th>\n",
       "      <th>25%</th>\n",
       "      <th>50%</th>\n",
       "      <th>75%</th>\n",
       "      <th>max</th>\n",
       "    </tr>\n",
       "  </thead>\n",
       "  <tbody>\n",
       "    <tr>\n",
       "      <th>Annual Income</th>\n",
       "      <td>89606.0</td>\n",
       "      <td>-0.000031</td>\n",
       "      <td>1.000510</td>\n",
       "      <td>-1.838637</td>\n",
       "      <td>-0.632622</td>\n",
       "      <td>-0.271491</td>\n",
       "      <td>0.372676</td>\n",
       "      <td>4.054063</td>\n",
       "    </tr>\n",
       "    <tr>\n",
       "      <th>Bankruptcies</th>\n",
       "      <td>89606.0</td>\n",
       "      <td>-0.000092</td>\n",
       "      <td>1.001211</td>\n",
       "      <td>-0.331720</td>\n",
       "      <td>-0.331720</td>\n",
       "      <td>-0.331720</td>\n",
       "      <td>-0.331720</td>\n",
       "      <td>19.795105</td>\n",
       "    </tr>\n",
       "    <tr>\n",
       "      <th>Credit Score</th>\n",
       "      <td>89606.0</td>\n",
       "      <td>-0.001202</td>\n",
       "      <td>1.000033</td>\n",
       "      <td>-5.198897</td>\n",
       "      <td>-0.488388</td>\n",
       "      <td>0.310536</td>\n",
       "      <td>0.718437</td>\n",
       "      <td>1.263454</td>\n",
       "    </tr>\n",
       "    <tr>\n",
       "      <th>Current Credit Balance</th>\n",
       "      <td>89606.0</td>\n",
       "      <td>-0.000665</td>\n",
       "      <td>0.998027</td>\n",
       "      <td>-1.178458</td>\n",
       "      <td>-0.698666</td>\n",
       "      <td>-0.285161</td>\n",
       "      <td>0.384143</td>\n",
       "      <td>3.639289</td>\n",
       "    </tr>\n",
       "    <tr>\n",
       "      <th>Current Loan Amount</th>\n",
       "      <td>89606.0</td>\n",
       "      <td>-0.000527</td>\n",
       "      <td>0.998917</td>\n",
       "      <td>-1.687204</td>\n",
       "      <td>-0.746594</td>\n",
       "      <td>-0.228532</td>\n",
       "      <td>0.565609</td>\n",
       "      <td>2.748102</td>\n",
       "    </tr>\n",
       "    <tr>\n",
       "      <th>Months since last delinquent</th>\n",
       "      <td>89606.0</td>\n",
       "      <td>0.032812</td>\n",
       "      <td>0.766053</td>\n",
       "      <td>-1.591839</td>\n",
       "      <td>-0.481303</td>\n",
       "      <td>0.001143</td>\n",
       "      <td>0.474487</td>\n",
       "      <td>5.326256</td>\n",
       "    </tr>\n",
       "    <tr>\n",
       "      <th>Number of Open Accounts</th>\n",
       "      <td>89606.0</td>\n",
       "      <td>-0.002092</td>\n",
       "      <td>0.998931</td>\n",
       "      <td>-2.223313</td>\n",
       "      <td>-0.623725</td>\n",
       "      <td>-0.223828</td>\n",
       "      <td>0.575966</td>\n",
       "      <td>12.972774</td>\n",
       "    </tr>\n",
       "    <tr>\n",
       "      <th>Tax Liens</th>\n",
       "      <td>89606.0</td>\n",
       "      <td>0.000920</td>\n",
       "      <td>1.004984</td>\n",
       "      <td>-0.111454</td>\n",
       "      <td>-0.111454</td>\n",
       "      <td>-0.111454</td>\n",
       "      <td>-0.111454</td>\n",
       "      <td>57.892221</td>\n",
       "    </tr>\n",
       "    <tr>\n",
       "      <th>Term</th>\n",
       "      <td>89606.0</td>\n",
       "      <td>0.000238</td>\n",
       "      <td>1.000132</td>\n",
       "      <td>-0.600832</td>\n",
       "      <td>-0.600832</td>\n",
       "      <td>-0.600832</td>\n",
       "      <td>1.664359</td>\n",
       "      <td>1.664359</td>\n",
       "    </tr>\n",
       "    <tr>\n",
       "      <th>Years in current job</th>\n",
       "      <td>89606.0</td>\n",
       "      <td>0.001543</td>\n",
       "      <td>0.984956</td>\n",
       "      <td>-1.324931</td>\n",
       "      <td>-0.794177</td>\n",
       "      <td>-0.263424</td>\n",
       "      <td>1.328838</td>\n",
       "      <td>1.328838</td>\n",
       "    </tr>\n",
       "    <tr>\n",
       "      <th>Years of Credit History</th>\n",
       "      <td>89606.0</td>\n",
       "      <td>-0.002062</td>\n",
       "      <td>0.998260</td>\n",
       "      <td>-2.082672</td>\n",
       "      <td>-0.675015</td>\n",
       "      <td>-0.177359</td>\n",
       "      <td>0.490923</td>\n",
       "      <td>7.429677</td>\n",
       "    </tr>\n",
       "    <tr>\n",
       "      <th>Annual Income outlier</th>\n",
       "      <td>89606.0</td>\n",
       "      <td>-0.000603</td>\n",
       "      <td>0.997165</td>\n",
       "      <td>-0.105190</td>\n",
       "      <td>-0.105190</td>\n",
       "      <td>-0.105190</td>\n",
       "      <td>-0.105190</td>\n",
       "      <td>9.506649</td>\n",
       "    </tr>\n",
       "    <tr>\n",
       "      <th>Current Credit Balance outlier</th>\n",
       "      <td>89606.0</td>\n",
       "      <td>-0.000102</td>\n",
       "      <td>0.999649</td>\n",
       "      <td>-0.140403</td>\n",
       "      <td>-0.140403</td>\n",
       "      <td>-0.140403</td>\n",
       "      <td>-0.140403</td>\n",
       "      <td>7.122348</td>\n",
       "    </tr>\n",
       "    <tr>\n",
       "      <th>Maximum Open Credit outlier</th>\n",
       "      <td>89606.0</td>\n",
       "      <td>-0.000071</td>\n",
       "      <td>0.999780</td>\n",
       "      <td>-0.153089</td>\n",
       "      <td>-0.153089</td>\n",
       "      <td>-0.153089</td>\n",
       "      <td>-0.153089</td>\n",
       "      <td>6.532129</td>\n",
       "    </tr>\n",
       "    <tr>\n",
       "      <th>Monthly Debt outlier</th>\n",
       "      <td>89606.0</td>\n",
       "      <td>-0.002078</td>\n",
       "      <td>0.986969</td>\n",
       "      <td>-0.079711</td>\n",
       "      <td>-0.079711</td>\n",
       "      <td>-0.079711</td>\n",
       "      <td>-0.079711</td>\n",
       "      <td>12.545346</td>\n",
       "    </tr>\n",
       "    <tr>\n",
       "      <th>Home Ownership_Own Home</th>\n",
       "      <td>89606.0</td>\n",
       "      <td>0.000405</td>\n",
       "      <td>1.000579</td>\n",
       "      <td>-0.317029</td>\n",
       "      <td>-0.317029</td>\n",
       "      <td>-0.317029</td>\n",
       "      <td>-0.317029</td>\n",
       "      <td>3.154286</td>\n",
       "    </tr>\n",
       "    <tr>\n",
       "      <th>Home Ownership_Rent</th>\n",
       "      <td>89606.0</td>\n",
       "      <td>0.000573</td>\n",
       "      <td>1.000097</td>\n",
       "      <td>-0.853541</td>\n",
       "      <td>-0.853541</td>\n",
       "      <td>-0.853541</td>\n",
       "      <td>1.171590</td>\n",
       "      <td>1.171590</td>\n",
       "    </tr>\n",
       "    <tr>\n",
       "      <th>Purpose_Buy House</th>\n",
       "      <td>89606.0</td>\n",
       "      <td>0.000485</td>\n",
       "      <td>1.002969</td>\n",
       "      <td>-0.081100</td>\n",
       "      <td>-0.081100</td>\n",
       "      <td>-0.081100</td>\n",
       "      <td>-0.081100</td>\n",
       "      <td>12.330507</td>\n",
       "    </tr>\n",
       "    <tr>\n",
       "      <th>Purpose_Buy a Car</th>\n",
       "      <td>89606.0</td>\n",
       "      <td>-0.000657</td>\n",
       "      <td>0.997186</td>\n",
       "      <td>-0.115205</td>\n",
       "      <td>-0.115205</td>\n",
       "      <td>-0.115205</td>\n",
       "      <td>-0.115205</td>\n",
       "      <td>8.680154</td>\n",
       "    </tr>\n",
       "    <tr>\n",
       "      <th>Purpose_Debt Consolidation</th>\n",
       "      <td>89606.0</td>\n",
       "      <td>0.003165</td>\n",
       "      <td>0.997759</td>\n",
       "      <td>-1.932644</td>\n",
       "      <td>0.517426</td>\n",
       "      <td>0.517426</td>\n",
       "      <td>0.517426</td>\n",
       "      <td>0.517426</td>\n",
       "    </tr>\n",
       "    <tr>\n",
       "      <th>Purpose_Educational Expenses</th>\n",
       "      <td>89606.0</td>\n",
       "      <td>-0.000789</td>\n",
       "      <td>0.987795</td>\n",
       "      <td>-0.032456</td>\n",
       "      <td>-0.032456</td>\n",
       "      <td>-0.032456</td>\n",
       "      <td>-0.032456</td>\n",
       "      <td>30.810944</td>\n",
       "    </tr>\n",
       "    <tr>\n",
       "      <th>Purpose_Home Improvements</th>\n",
       "      <td>89606.0</td>\n",
       "      <td>-0.001018</td>\n",
       "      <td>0.998087</td>\n",
       "      <td>-0.249103</td>\n",
       "      <td>-0.249103</td>\n",
       "      <td>-0.249103</td>\n",
       "      <td>-0.249103</td>\n",
       "      <td>4.014404</td>\n",
       "    </tr>\n",
       "    <tr>\n",
       "      <th>Purpose_Medical Bills</th>\n",
       "      <td>89606.0</td>\n",
       "      <td>-0.001094</td>\n",
       "      <td>0.994859</td>\n",
       "      <td>-0.105384</td>\n",
       "      <td>-0.105384</td>\n",
       "      <td>-0.105384</td>\n",
       "      <td>-0.105384</td>\n",
       "      <td>9.489093</td>\n",
       "    </tr>\n",
       "    <tr>\n",
       "      <th>Purpose_major_purchase</th>\n",
       "      <td>89606.0</td>\n",
       "      <td>-0.000369</td>\n",
       "      <td>0.997040</td>\n",
       "      <td>-0.061992</td>\n",
       "      <td>-0.061992</td>\n",
       "      <td>-0.061992</td>\n",
       "      <td>-0.061992</td>\n",
       "      <td>16.131089</td>\n",
       "    </tr>\n",
       "    <tr>\n",
       "      <th>Purpose_moving</th>\n",
       "      <td>89606.0</td>\n",
       "      <td>-0.001966</td>\n",
       "      <td>0.974288</td>\n",
       "      <td>-0.038671</td>\n",
       "      <td>-0.038671</td>\n",
       "      <td>-0.038671</td>\n",
       "      <td>-0.038671</td>\n",
       "      <td>25.858936</td>\n",
       "    </tr>\n",
       "    <tr>\n",
       "      <th>Purpose_small_business</th>\n",
       "      <td>89606.0</td>\n",
       "      <td>-0.000173</td>\n",
       "      <td>0.998392</td>\n",
       "      <td>-0.053614</td>\n",
       "      <td>-0.053614</td>\n",
       "      <td>-0.053614</td>\n",
       "      <td>-0.053614</td>\n",
       "      <td>18.651853</td>\n",
       "    </tr>\n",
       "    <tr>\n",
       "      <th>Purpose_vacation</th>\n",
       "      <td>89606.0</td>\n",
       "      <td>0.002111</td>\n",
       "      <td>1.013108</td>\n",
       "      <td>-0.079520</td>\n",
       "      <td>-0.079520</td>\n",
       "      <td>-0.079520</td>\n",
       "      <td>-0.079520</td>\n",
       "      <td>12.575514</td>\n",
       "    </tr>\n",
       "    <tr>\n",
       "      <th>Purpose_wedding</th>\n",
       "      <td>89606.0</td>\n",
       "      <td>0.001227</td>\n",
       "      <td>1.017879</td>\n",
       "      <td>-0.033968</td>\n",
       "      <td>-0.033968</td>\n",
       "      <td>-0.033968</td>\n",
       "      <td>-0.033968</td>\n",
       "      <td>29.439400</td>\n",
       "    </tr>\n",
       "    <tr>\n",
       "      <th>Is Months since last delinquent Missing</th>\n",
       "      <td>89606.0</td>\n",
       "      <td>-0.000691</td>\n",
       "      <td>1.000057</td>\n",
       "      <td>-1.078246</td>\n",
       "      <td>-1.078246</td>\n",
       "      <td>0.927432</td>\n",
       "      <td>0.927432</td>\n",
       "      <td>0.927432</td>\n",
       "    </tr>\n",
       "    <tr>\n",
       "      <th>RMI</th>\n",
       "      <td>89606.0</td>\n",
       "      <td>-0.002431</td>\n",
       "      <td>0.999607</td>\n",
       "      <td>-2.269549</td>\n",
       "      <td>-0.728227</td>\n",
       "      <td>-0.010715</td>\n",
       "      <td>0.666904</td>\n",
       "      <td>3.045343</td>\n",
       "    </tr>\n",
       "    <tr>\n",
       "      <th>RMC</th>\n",
       "      <td>89606.0</td>\n",
       "      <td>0.000343</td>\n",
       "      <td>0.995373</td>\n",
       "      <td>-0.058890</td>\n",
       "      <td>-0.058876</td>\n",
       "      <td>-0.058867</td>\n",
       "      <td>-0.058851</td>\n",
       "      <td>47.340283</td>\n",
       "    </tr>\n",
       "    <tr>\n",
       "      <th>Loan Status</th>\n",
       "      <td>89606.0</td>\n",
       "      <td>0.252092</td>\n",
       "      <td>0.434217</td>\n",
       "      <td>0.000000</td>\n",
       "      <td>0.000000</td>\n",
       "      <td>0.000000</td>\n",
       "      <td>1.000000</td>\n",
       "      <td>1.000000</td>\n",
       "    </tr>\n",
       "  </tbody>\n",
       "</table>\n",
       "</div>"
      ],
      "text/plain": [
       "                                           count      mean       std  \\\n",
       "Annual Income                            89606.0 -0.000031  1.000510   \n",
       "Bankruptcies                             89606.0 -0.000092  1.001211   \n",
       "Credit Score                             89606.0 -0.001202  1.000033   \n",
       "Current Credit Balance                   89606.0 -0.000665  0.998027   \n",
       "Current Loan Amount                      89606.0 -0.000527  0.998917   \n",
       "Months since last delinquent             89606.0  0.032812  0.766053   \n",
       "Number of Open Accounts                  89606.0 -0.002092  0.998931   \n",
       "Tax Liens                                89606.0  0.000920  1.004984   \n",
       "Term                                     89606.0  0.000238  1.000132   \n",
       "Years in current job                     89606.0  0.001543  0.984956   \n",
       "Years of Credit History                  89606.0 -0.002062  0.998260   \n",
       "Annual Income outlier                    89606.0 -0.000603  0.997165   \n",
       "Current Credit Balance outlier           89606.0 -0.000102  0.999649   \n",
       "Maximum Open Credit outlier              89606.0 -0.000071  0.999780   \n",
       "Monthly Debt outlier                     89606.0 -0.002078  0.986969   \n",
       "Home Ownership_Own Home                  89606.0  0.000405  1.000579   \n",
       "Home Ownership_Rent                      89606.0  0.000573  1.000097   \n",
       "Purpose_Buy House                        89606.0  0.000485  1.002969   \n",
       "Purpose_Buy a Car                        89606.0 -0.000657  0.997186   \n",
       "Purpose_Debt Consolidation               89606.0  0.003165  0.997759   \n",
       "Purpose_Educational Expenses             89606.0 -0.000789  0.987795   \n",
       "Purpose_Home Improvements                89606.0 -0.001018  0.998087   \n",
       "Purpose_Medical Bills                    89606.0 -0.001094  0.994859   \n",
       "Purpose_major_purchase                   89606.0 -0.000369  0.997040   \n",
       "Purpose_moving                           89606.0 -0.001966  0.974288   \n",
       "Purpose_small_business                   89606.0 -0.000173  0.998392   \n",
       "Purpose_vacation                         89606.0  0.002111  1.013108   \n",
       "Purpose_wedding                          89606.0  0.001227  1.017879   \n",
       "Is Months since last delinquent Missing  89606.0 -0.000691  1.000057   \n",
       "RMI                                      89606.0 -0.002431  0.999607   \n",
       "RMC                                      89606.0  0.000343  0.995373   \n",
       "Loan Status                              89606.0  0.252092  0.434217   \n",
       "\n",
       "                                              min       25%       50%  \\\n",
       "Annual Income                           -1.838637 -0.632622 -0.271491   \n",
       "Bankruptcies                            -0.331720 -0.331720 -0.331720   \n",
       "Credit Score                            -5.198897 -0.488388  0.310536   \n",
       "Current Credit Balance                  -1.178458 -0.698666 -0.285161   \n",
       "Current Loan Amount                     -1.687204 -0.746594 -0.228532   \n",
       "Months since last delinquent            -1.591839 -0.481303  0.001143   \n",
       "Number of Open Accounts                 -2.223313 -0.623725 -0.223828   \n",
       "Tax Liens                               -0.111454 -0.111454 -0.111454   \n",
       "Term                                    -0.600832 -0.600832 -0.600832   \n",
       "Years in current job                    -1.324931 -0.794177 -0.263424   \n",
       "Years of Credit History                 -2.082672 -0.675015 -0.177359   \n",
       "Annual Income outlier                   -0.105190 -0.105190 -0.105190   \n",
       "Current Credit Balance outlier          -0.140403 -0.140403 -0.140403   \n",
       "Maximum Open Credit outlier             -0.153089 -0.153089 -0.153089   \n",
       "Monthly Debt outlier                    -0.079711 -0.079711 -0.079711   \n",
       "Home Ownership_Own Home                 -0.317029 -0.317029 -0.317029   \n",
       "Home Ownership_Rent                     -0.853541 -0.853541 -0.853541   \n",
       "Purpose_Buy House                       -0.081100 -0.081100 -0.081100   \n",
       "Purpose_Buy a Car                       -0.115205 -0.115205 -0.115205   \n",
       "Purpose_Debt Consolidation              -1.932644  0.517426  0.517426   \n",
       "Purpose_Educational Expenses            -0.032456 -0.032456 -0.032456   \n",
       "Purpose_Home Improvements               -0.249103 -0.249103 -0.249103   \n",
       "Purpose_Medical Bills                   -0.105384 -0.105384 -0.105384   \n",
       "Purpose_major_purchase                  -0.061992 -0.061992 -0.061992   \n",
       "Purpose_moving                          -0.038671 -0.038671 -0.038671   \n",
       "Purpose_small_business                  -0.053614 -0.053614 -0.053614   \n",
       "Purpose_vacation                        -0.079520 -0.079520 -0.079520   \n",
       "Purpose_wedding                         -0.033968 -0.033968 -0.033968   \n",
       "Is Months since last delinquent Missing -1.078246 -1.078246  0.927432   \n",
       "RMI                                     -2.269549 -0.728227 -0.010715   \n",
       "RMC                                     -0.058890 -0.058876 -0.058867   \n",
       "Loan Status                              0.000000  0.000000  0.000000   \n",
       "\n",
       "                                              75%        max  \n",
       "Annual Income                            0.372676   4.054063  \n",
       "Bankruptcies                            -0.331720  19.795105  \n",
       "Credit Score                             0.718437   1.263454  \n",
       "Current Credit Balance                   0.384143   3.639289  \n",
       "Current Loan Amount                      0.565609   2.748102  \n",
       "Months since last delinquent             0.474487   5.326256  \n",
       "Number of Open Accounts                  0.575966  12.972774  \n",
       "Tax Liens                               -0.111454  57.892221  \n",
       "Term                                     1.664359   1.664359  \n",
       "Years in current job                     1.328838   1.328838  \n",
       "Years of Credit History                  0.490923   7.429677  \n",
       "Annual Income outlier                   -0.105190   9.506649  \n",
       "Current Credit Balance outlier          -0.140403   7.122348  \n",
       "Maximum Open Credit outlier             -0.153089   6.532129  \n",
       "Monthly Debt outlier                    -0.079711  12.545346  \n",
       "Home Ownership_Own Home                 -0.317029   3.154286  \n",
       "Home Ownership_Rent                      1.171590   1.171590  \n",
       "Purpose_Buy House                       -0.081100  12.330507  \n",
       "Purpose_Buy a Car                       -0.115205   8.680154  \n",
       "Purpose_Debt Consolidation               0.517426   0.517426  \n",
       "Purpose_Educational Expenses            -0.032456  30.810944  \n",
       "Purpose_Home Improvements               -0.249103   4.014404  \n",
       "Purpose_Medical Bills                   -0.105384   9.489093  \n",
       "Purpose_major_purchase                  -0.061992  16.131089  \n",
       "Purpose_moving                          -0.038671  25.858936  \n",
       "Purpose_small_business                  -0.053614  18.651853  \n",
       "Purpose_vacation                        -0.079520  12.575514  \n",
       "Purpose_wedding                         -0.033968  29.439400  \n",
       "Is Months since last delinquent Missing  0.927432   0.927432  \n",
       "RMI                                      0.666904   3.045343  \n",
       "RMC                                     -0.058851  47.340283  \n",
       "Loan Status                              1.000000   1.000000  "
      ]
     },
     "execution_count": 10,
     "metadata": {},
     "output_type": "execute_result"
    }
   ],
   "source": [
    "train.describe().T"
   ]
  },
  {
   "cell_type": "code",
   "execution_count": 11,
   "metadata": {},
   "outputs": [
    {
     "data": {
      "text/html": [
       "<div>\n",
       "<style scoped>\n",
       "    .dataframe tbody tr th:only-of-type {\n",
       "        vertical-align: middle;\n",
       "    }\n",
       "\n",
       "    .dataframe tbody tr th {\n",
       "        vertical-align: top;\n",
       "    }\n",
       "\n",
       "    .dataframe thead th {\n",
       "        text-align: right;\n",
       "    }\n",
       "</style>\n",
       "<table border=\"1\" class=\"dataframe\">\n",
       "  <thead>\n",
       "    <tr style=\"text-align: right;\">\n",
       "      <th></th>\n",
       "      <th>count</th>\n",
       "      <th>mean</th>\n",
       "      <th>std</th>\n",
       "      <th>min</th>\n",
       "      <th>25%</th>\n",
       "      <th>50%</th>\n",
       "      <th>75%</th>\n",
       "      <th>max</th>\n",
       "    </tr>\n",
       "  </thead>\n",
       "  <tbody>\n",
       "    <tr>\n",
       "      <th>Annual Income</th>\n",
       "      <td>10177.0</td>\n",
       "      <td>0.000269</td>\n",
       "      <td>0.995599</td>\n",
       "      <td>-1.816629</td>\n",
       "      <td>-0.622069</td>\n",
       "      <td>-0.276050</td>\n",
       "      <td>0.372676</td>\n",
       "      <td>4.054063</td>\n",
       "    </tr>\n",
       "    <tr>\n",
       "      <th>Bankruptcies</th>\n",
       "      <td>10177.0</td>\n",
       "      <td>0.000813</td>\n",
       "      <td>0.989373</td>\n",
       "      <td>-0.331720</td>\n",
       "      <td>-0.331720</td>\n",
       "      <td>-0.331720</td>\n",
       "      <td>-0.331720</td>\n",
       "      <td>11.169323</td>\n",
       "    </tr>\n",
       "    <tr>\n",
       "      <th>Credit Score</th>\n",
       "      <td>10177.0</td>\n",
       "      <td>0.010579</td>\n",
       "      <td>0.999745</td>\n",
       "      <td>-5.198897</td>\n",
       "      <td>-0.488388</td>\n",
       "      <td>0.310536</td>\n",
       "      <td>0.718437</td>\n",
       "      <td>1.263454</td>\n",
       "    </tr>\n",
       "    <tr>\n",
       "      <th>Current Credit Balance</th>\n",
       "      <td>10177.0</td>\n",
       "      <td>0.005859</td>\n",
       "      <td>1.017286</td>\n",
       "      <td>-1.178458</td>\n",
       "      <td>-0.705384</td>\n",
       "      <td>-0.291636</td>\n",
       "      <td>0.394625</td>\n",
       "      <td>3.639289</td>\n",
       "    </tr>\n",
       "    <tr>\n",
       "      <th>Current Loan Amount</th>\n",
       "      <td>10177.0</td>\n",
       "      <td>0.004642</td>\n",
       "      <td>1.009570</td>\n",
       "      <td>-1.637817</td>\n",
       "      <td>-0.748976</td>\n",
       "      <td>-0.228532</td>\n",
       "      <td>0.583596</td>\n",
       "      <td>2.746849</td>\n",
       "    </tr>\n",
       "    <tr>\n",
       "      <th>Months since last delinquent</th>\n",
       "      <td>10177.0</td>\n",
       "      <td>0.020776</td>\n",
       "      <td>0.771452</td>\n",
       "      <td>-1.591839</td>\n",
       "      <td>-0.499508</td>\n",
       "      <td>-0.017062</td>\n",
       "      <td>0.456281</td>\n",
       "      <td>6.418587</td>\n",
       "    </tr>\n",
       "    <tr>\n",
       "      <th>Number of Open Accounts</th>\n",
       "      <td>10177.0</td>\n",
       "      <td>0.018421</td>\n",
       "      <td>1.009277</td>\n",
       "      <td>-2.023365</td>\n",
       "      <td>-0.623725</td>\n",
       "      <td>-0.223828</td>\n",
       "      <td>0.575966</td>\n",
       "      <td>7.174267</td>\n",
       "    </tr>\n",
       "    <tr>\n",
       "      <th>Tax Liens</th>\n",
       "      <td>10177.0</td>\n",
       "      <td>-0.008104</td>\n",
       "      <td>0.955052</td>\n",
       "      <td>-0.111454</td>\n",
       "      <td>-0.111454</td>\n",
       "      <td>-0.111454</td>\n",
       "      <td>-0.111454</td>\n",
       "      <td>34.690751</td>\n",
       "    </tr>\n",
       "    <tr>\n",
       "      <th>Term</th>\n",
       "      <td>10177.0</td>\n",
       "      <td>-0.002093</td>\n",
       "      <td>0.998933</td>\n",
       "      <td>-0.600832</td>\n",
       "      <td>-0.600832</td>\n",
       "      <td>-0.600832</td>\n",
       "      <td>1.664359</td>\n",
       "      <td>1.664359</td>\n",
       "    </tr>\n",
       "    <tr>\n",
       "      <th>Years in current job</th>\n",
       "      <td>10177.0</td>\n",
       "      <td>0.012890</td>\n",
       "      <td>0.987879</td>\n",
       "      <td>-1.324931</td>\n",
       "      <td>-0.794177</td>\n",
       "      <td>-0.263424</td>\n",
       "      <td>1.328838</td>\n",
       "      <td>1.328838</td>\n",
       "    </tr>\n",
       "    <tr>\n",
       "      <th>Years of Credit History</th>\n",
       "      <td>10177.0</td>\n",
       "      <td>0.018160</td>\n",
       "      <td>1.015107</td>\n",
       "      <td>-1.997360</td>\n",
       "      <td>-0.675015</td>\n",
       "      <td>-0.177359</td>\n",
       "      <td>0.519361</td>\n",
       "      <td>6.292177</td>\n",
       "    </tr>\n",
       "    <tr>\n",
       "      <th>Annual Income outlier</th>\n",
       "      <td>10177.0</td>\n",
       "      <td>0.005313</td>\n",
       "      <td>1.024708</td>\n",
       "      <td>-0.105190</td>\n",
       "      <td>-0.105190</td>\n",
       "      <td>-0.105190</td>\n",
       "      <td>-0.105190</td>\n",
       "      <td>9.506649</td>\n",
       "    </tr>\n",
       "    <tr>\n",
       "      <th>Current Credit Balance outlier</th>\n",
       "      <td>10177.0</td>\n",
       "      <td>0.000898</td>\n",
       "      <td>1.003180</td>\n",
       "      <td>-0.140403</td>\n",
       "      <td>-0.140403</td>\n",
       "      <td>-0.140403</td>\n",
       "      <td>-0.140403</td>\n",
       "      <td>7.122348</td>\n",
       "    </tr>\n",
       "    <tr>\n",
       "      <th>Maximum Open Credit outlier</th>\n",
       "      <td>10177.0</td>\n",
       "      <td>0.000624</td>\n",
       "      <td>1.002037</td>\n",
       "      <td>-0.153089</td>\n",
       "      <td>-0.153089</td>\n",
       "      <td>-0.153089</td>\n",
       "      <td>-0.153089</td>\n",
       "      <td>6.532129</td>\n",
       "    </tr>\n",
       "    <tr>\n",
       "      <th>Monthly Debt outlier</th>\n",
       "      <td>10177.0</td>\n",
       "      <td>0.018292</td>\n",
       "      <td>1.108067</td>\n",
       "      <td>-0.079711</td>\n",
       "      <td>-0.079711</td>\n",
       "      <td>-0.079711</td>\n",
       "      <td>-0.079711</td>\n",
       "      <td>12.545346</td>\n",
       "    </tr>\n",
       "    <tr>\n",
       "      <th>Home Ownership_Own Home</th>\n",
       "      <td>10177.0</td>\n",
       "      <td>-0.003563</td>\n",
       "      <td>0.994975</td>\n",
       "      <td>-0.317029</td>\n",
       "      <td>-0.317029</td>\n",
       "      <td>-0.317029</td>\n",
       "      <td>-0.317029</td>\n",
       "      <td>3.154286</td>\n",
       "    </tr>\n",
       "    <tr>\n",
       "      <th>Home Ownership_Rent</th>\n",
       "      <td>10177.0</td>\n",
       "      <td>-0.005044</td>\n",
       "      <td>0.999234</td>\n",
       "      <td>-0.853541</td>\n",
       "      <td>-0.853541</td>\n",
       "      <td>-0.853541</td>\n",
       "      <td>1.171590</td>\n",
       "      <td>1.171590</td>\n",
       "    </tr>\n",
       "    <tr>\n",
       "      <th>Purpose_Buy House</th>\n",
       "      <td>10177.0</td>\n",
       "      <td>-0.004266</td>\n",
       "      <td>0.973557</td>\n",
       "      <td>-0.081100</td>\n",
       "      <td>-0.081100</td>\n",
       "      <td>-0.081100</td>\n",
       "      <td>-0.081100</td>\n",
       "      <td>12.330507</td>\n",
       "    </tr>\n",
       "    <tr>\n",
       "      <th>Purpose_Buy a Car</th>\n",
       "      <td>10177.0</td>\n",
       "      <td>0.005788</td>\n",
       "      <td>1.024522</td>\n",
       "      <td>-0.115205</td>\n",
       "      <td>-0.115205</td>\n",
       "      <td>-0.115205</td>\n",
       "      <td>-0.115205</td>\n",
       "      <td>8.680154</td>\n",
       "    </tr>\n",
       "    <tr>\n",
       "      <th>Purpose_Debt Consolidation</th>\n",
       "      <td>10177.0</td>\n",
       "      <td>-0.027863</td>\n",
       "      <td>1.019195</td>\n",
       "      <td>-1.932644</td>\n",
       "      <td>0.517426</td>\n",
       "      <td>0.517426</td>\n",
       "      <td>0.517426</td>\n",
       "      <td>0.517426</td>\n",
       "    </tr>\n",
       "    <tr>\n",
       "      <th>Purpose_Educational Expenses</th>\n",
       "      <td>10177.0</td>\n",
       "      <td>0.006943</td>\n",
       "      <td>1.101711</td>\n",
       "      <td>-0.032456</td>\n",
       "      <td>-0.032456</td>\n",
       "      <td>-0.032456</td>\n",
       "      <td>-0.032456</td>\n",
       "      <td>30.810944</td>\n",
       "    </tr>\n",
       "    <tr>\n",
       "      <th>Purpose_Home Improvements</th>\n",
       "      <td>10177.0</td>\n",
       "      <td>0.008961</td>\n",
       "      <td>1.016741</td>\n",
       "      <td>-0.249103</td>\n",
       "      <td>-0.249103</td>\n",
       "      <td>-0.249103</td>\n",
       "      <td>-0.249103</td>\n",
       "      <td>4.014404</td>\n",
       "    </tr>\n",
       "    <tr>\n",
       "      <th>Purpose_Medical Bills</th>\n",
       "      <td>10177.0</td>\n",
       "      <td>0.009633</td>\n",
       "      <td>1.044224</td>\n",
       "      <td>-0.105384</td>\n",
       "      <td>-0.105384</td>\n",
       "      <td>-0.105384</td>\n",
       "      <td>-0.105384</td>\n",
       "      <td>9.489093</td>\n",
       "    </tr>\n",
       "    <tr>\n",
       "      <th>Purpose_major_purchase</th>\n",
       "      <td>10177.0</td>\n",
       "      <td>0.003245</td>\n",
       "      <td>1.025785</td>\n",
       "      <td>-0.061992</td>\n",
       "      <td>-0.061992</td>\n",
       "      <td>-0.061992</td>\n",
       "      <td>-0.061992</td>\n",
       "      <td>16.131089</td>\n",
       "    </tr>\n",
       "    <tr>\n",
       "      <th>Purpose_moving</th>\n",
       "      <td>10177.0</td>\n",
       "      <td>0.017312</td>\n",
       "      <td>1.202853</td>\n",
       "      <td>-0.038671</td>\n",
       "      <td>-0.038671</td>\n",
       "      <td>-0.038671</td>\n",
       "      <td>-0.038671</td>\n",
       "      <td>25.858936</td>\n",
       "    </tr>\n",
       "    <tr>\n",
       "      <th>Purpose_small_business</th>\n",
       "      <td>10177.0</td>\n",
       "      <td>0.001526</td>\n",
       "      <td>1.014144</td>\n",
       "      <td>-0.053614</td>\n",
       "      <td>-0.053614</td>\n",
       "      <td>-0.053614</td>\n",
       "      <td>-0.053614</td>\n",
       "      <td>18.651853</td>\n",
       "    </tr>\n",
       "    <tr>\n",
       "      <th>Purpose_vacation</th>\n",
       "      <td>10177.0</td>\n",
       "      <td>-0.018588</td>\n",
       "      <td>0.876042</td>\n",
       "      <td>-0.079520</td>\n",
       "      <td>-0.079520</td>\n",
       "      <td>-0.079520</td>\n",
       "      <td>-0.079520</td>\n",
       "      <td>12.575514</td>\n",
       "    </tr>\n",
       "    <tr>\n",
       "      <th>Purpose_wedding</th>\n",
       "      <td>10177.0</td>\n",
       "      <td>-0.010799</td>\n",
       "      <td>0.826067</td>\n",
       "      <td>-0.033968</td>\n",
       "      <td>-0.033968</td>\n",
       "      <td>-0.033968</td>\n",
       "      <td>-0.033968</td>\n",
       "      <td>29.439400</td>\n",
       "    </tr>\n",
       "    <tr>\n",
       "      <th>Is Months since last delinquent Missing</th>\n",
       "      <td>10177.0</td>\n",
       "      <td>0.006086</td>\n",
       "      <td>0.999572</td>\n",
       "      <td>-1.078246</td>\n",
       "      <td>-1.078246</td>\n",
       "      <td>0.927432</td>\n",
       "      <td>0.927432</td>\n",
       "      <td>0.927432</td>\n",
       "    </tr>\n",
       "    <tr>\n",
       "      <th>RMI</th>\n",
       "      <td>10177.0</td>\n",
       "      <td>0.021401</td>\n",
       "      <td>1.003301</td>\n",
       "      <td>-2.269549</td>\n",
       "      <td>-0.701629</td>\n",
       "      <td>0.028285</td>\n",
       "      <td>0.694369</td>\n",
       "      <td>3.045343</td>\n",
       "    </tr>\n",
       "    <tr>\n",
       "      <th>RMC</th>\n",
       "      <td>10177.0</td>\n",
       "      <td>-0.003023</td>\n",
       "      <td>1.039944</td>\n",
       "      <td>-0.058890</td>\n",
       "      <td>-0.058876</td>\n",
       "      <td>-0.058867</td>\n",
       "      <td>-0.058851</td>\n",
       "      <td>44.914549</td>\n",
       "    </tr>\n",
       "    <tr>\n",
       "      <th>Loan Status</th>\n",
       "      <td>0.0</td>\n",
       "      <td>NaN</td>\n",
       "      <td>NaN</td>\n",
       "      <td>NaN</td>\n",
       "      <td>NaN</td>\n",
       "      <td>NaN</td>\n",
       "      <td>NaN</td>\n",
       "      <td>NaN</td>\n",
       "    </tr>\n",
       "  </tbody>\n",
       "</table>\n",
       "</div>"
      ],
      "text/plain": [
       "                                           count      mean       std  \\\n",
       "Annual Income                            10177.0  0.000269  0.995599   \n",
       "Bankruptcies                             10177.0  0.000813  0.989373   \n",
       "Credit Score                             10177.0  0.010579  0.999745   \n",
       "Current Credit Balance                   10177.0  0.005859  1.017286   \n",
       "Current Loan Amount                      10177.0  0.004642  1.009570   \n",
       "Months since last delinquent             10177.0  0.020776  0.771452   \n",
       "Number of Open Accounts                  10177.0  0.018421  1.009277   \n",
       "Tax Liens                                10177.0 -0.008104  0.955052   \n",
       "Term                                     10177.0 -0.002093  0.998933   \n",
       "Years in current job                     10177.0  0.012890  0.987879   \n",
       "Years of Credit History                  10177.0  0.018160  1.015107   \n",
       "Annual Income outlier                    10177.0  0.005313  1.024708   \n",
       "Current Credit Balance outlier           10177.0  0.000898  1.003180   \n",
       "Maximum Open Credit outlier              10177.0  0.000624  1.002037   \n",
       "Monthly Debt outlier                     10177.0  0.018292  1.108067   \n",
       "Home Ownership_Own Home                  10177.0 -0.003563  0.994975   \n",
       "Home Ownership_Rent                      10177.0 -0.005044  0.999234   \n",
       "Purpose_Buy House                        10177.0 -0.004266  0.973557   \n",
       "Purpose_Buy a Car                        10177.0  0.005788  1.024522   \n",
       "Purpose_Debt Consolidation               10177.0 -0.027863  1.019195   \n",
       "Purpose_Educational Expenses             10177.0  0.006943  1.101711   \n",
       "Purpose_Home Improvements                10177.0  0.008961  1.016741   \n",
       "Purpose_Medical Bills                    10177.0  0.009633  1.044224   \n",
       "Purpose_major_purchase                   10177.0  0.003245  1.025785   \n",
       "Purpose_moving                           10177.0  0.017312  1.202853   \n",
       "Purpose_small_business                   10177.0  0.001526  1.014144   \n",
       "Purpose_vacation                         10177.0 -0.018588  0.876042   \n",
       "Purpose_wedding                          10177.0 -0.010799  0.826067   \n",
       "Is Months since last delinquent Missing  10177.0  0.006086  0.999572   \n",
       "RMI                                      10177.0  0.021401  1.003301   \n",
       "RMC                                      10177.0 -0.003023  1.039944   \n",
       "Loan Status                                  0.0       NaN       NaN   \n",
       "\n",
       "                                              min       25%       50%  \\\n",
       "Annual Income                           -1.816629 -0.622069 -0.276050   \n",
       "Bankruptcies                            -0.331720 -0.331720 -0.331720   \n",
       "Credit Score                            -5.198897 -0.488388  0.310536   \n",
       "Current Credit Balance                  -1.178458 -0.705384 -0.291636   \n",
       "Current Loan Amount                     -1.637817 -0.748976 -0.228532   \n",
       "Months since last delinquent            -1.591839 -0.499508 -0.017062   \n",
       "Number of Open Accounts                 -2.023365 -0.623725 -0.223828   \n",
       "Tax Liens                               -0.111454 -0.111454 -0.111454   \n",
       "Term                                    -0.600832 -0.600832 -0.600832   \n",
       "Years in current job                    -1.324931 -0.794177 -0.263424   \n",
       "Years of Credit History                 -1.997360 -0.675015 -0.177359   \n",
       "Annual Income outlier                   -0.105190 -0.105190 -0.105190   \n",
       "Current Credit Balance outlier          -0.140403 -0.140403 -0.140403   \n",
       "Maximum Open Credit outlier             -0.153089 -0.153089 -0.153089   \n",
       "Monthly Debt outlier                    -0.079711 -0.079711 -0.079711   \n",
       "Home Ownership_Own Home                 -0.317029 -0.317029 -0.317029   \n",
       "Home Ownership_Rent                     -0.853541 -0.853541 -0.853541   \n",
       "Purpose_Buy House                       -0.081100 -0.081100 -0.081100   \n",
       "Purpose_Buy a Car                       -0.115205 -0.115205 -0.115205   \n",
       "Purpose_Debt Consolidation              -1.932644  0.517426  0.517426   \n",
       "Purpose_Educational Expenses            -0.032456 -0.032456 -0.032456   \n",
       "Purpose_Home Improvements               -0.249103 -0.249103 -0.249103   \n",
       "Purpose_Medical Bills                   -0.105384 -0.105384 -0.105384   \n",
       "Purpose_major_purchase                  -0.061992 -0.061992 -0.061992   \n",
       "Purpose_moving                          -0.038671 -0.038671 -0.038671   \n",
       "Purpose_small_business                  -0.053614 -0.053614 -0.053614   \n",
       "Purpose_vacation                        -0.079520 -0.079520 -0.079520   \n",
       "Purpose_wedding                         -0.033968 -0.033968 -0.033968   \n",
       "Is Months since last delinquent Missing -1.078246 -1.078246  0.927432   \n",
       "RMI                                     -2.269549 -0.701629  0.028285   \n",
       "RMC                                     -0.058890 -0.058876 -0.058867   \n",
       "Loan Status                                   NaN       NaN       NaN   \n",
       "\n",
       "                                              75%        max  \n",
       "Annual Income                            0.372676   4.054063  \n",
       "Bankruptcies                            -0.331720  11.169323  \n",
       "Credit Score                             0.718437   1.263454  \n",
       "Current Credit Balance                   0.394625   3.639289  \n",
       "Current Loan Amount                      0.583596   2.746849  \n",
       "Months since last delinquent             0.456281   6.418587  \n",
       "Number of Open Accounts                  0.575966   7.174267  \n",
       "Tax Liens                               -0.111454  34.690751  \n",
       "Term                                     1.664359   1.664359  \n",
       "Years in current job                     1.328838   1.328838  \n",
       "Years of Credit History                  0.519361   6.292177  \n",
       "Annual Income outlier                   -0.105190   9.506649  \n",
       "Current Credit Balance outlier          -0.140403   7.122348  \n",
       "Maximum Open Credit outlier             -0.153089   6.532129  \n",
       "Monthly Debt outlier                    -0.079711  12.545346  \n",
       "Home Ownership_Own Home                 -0.317029   3.154286  \n",
       "Home Ownership_Rent                      1.171590   1.171590  \n",
       "Purpose_Buy House                       -0.081100  12.330507  \n",
       "Purpose_Buy a Car                       -0.115205   8.680154  \n",
       "Purpose_Debt Consolidation               0.517426   0.517426  \n",
       "Purpose_Educational Expenses            -0.032456  30.810944  \n",
       "Purpose_Home Improvements               -0.249103   4.014404  \n",
       "Purpose_Medical Bills                   -0.105384   9.489093  \n",
       "Purpose_major_purchase                  -0.061992  16.131089  \n",
       "Purpose_moving                          -0.038671  25.858936  \n",
       "Purpose_small_business                  -0.053614  18.651853  \n",
       "Purpose_vacation                        -0.079520  12.575514  \n",
       "Purpose_wedding                         -0.033968  29.439400  \n",
       "Is Months since last delinquent Missing  0.927432   0.927432  \n",
       "RMI                                      0.694369   3.045343  \n",
       "RMC                                     -0.058851  44.914549  \n",
       "Loan Status                                   NaN        NaN  "
      ]
     },
     "execution_count": 11,
     "metadata": {},
     "output_type": "execute_result"
    }
   ],
   "source": [
    "test.describe().T"
   ]
  },
  {
   "cell_type": "markdown",
   "metadata": {},
   "source": [
    "# Splitting data frame"
   ]
  },
  {
   "cell_type": "code",
   "execution_count": 12,
   "metadata": {},
   "outputs": [],
   "source": [
    "from sklearn.model_selection import train_test_split"
   ]
  },
  {
   "cell_type": "code",
   "execution_count": 13,
   "metadata": {},
   "outputs": [],
   "source": [
    "### I split my train dataset and keep 10% of train to evaluate my selected model at the end of this project"
   ]
  },
  {
   "cell_type": "code",
   "execution_count": 14,
   "metadata": {},
   "outputs": [
    {
     "data": {
      "text/plain": [
       "((80645, 32), (8961, 32))"
      ]
     },
     "execution_count": 14,
     "metadata": {},
     "output_type": "execute_result"
    }
   ],
   "source": [
    "df, Evaluation_df = train_test_split(train, test_size=0.1, random_state=0)\n",
    "df.shape , Evaluation_df.shape"
   ]
  },
  {
   "cell_type": "code",
   "execution_count": 15,
   "metadata": {},
   "outputs": [],
   "source": [
    "#separating target and predictors\n",
    "X=df.drop('Loan Status',axis=1)\n",
    "y=df['Loan Status']"
   ]
  },
  {
   "cell_type": "code",
   "execution_count": 16,
   "metadata": {},
   "outputs": [],
   "source": [
    "#splitting test and training sets for modeling\n",
    "from sklearn.model_selection import train_test_split\n",
    "X_train, X_test, y_train,y_test = train_test_split(X, y,test_size=0.2, random_state=0)"
   ]
  },
  {
   "cell_type": "code",
   "execution_count": 17,
   "metadata": {},
   "outputs": [
    {
     "data": {
      "text/plain": [
       "0.0    48322\n",
       "1.0    16194\n",
       "Name: Loan Status, dtype: int64"
      ]
     },
     "execution_count": 17,
     "metadata": {},
     "output_type": "execute_result"
    }
   ],
   "source": [
    "y_train.value_counts()"
   ]
  },
  {
   "cell_type": "markdown",
   "metadata": {},
   "source": [
    "# \"\"\" Modeling\"\"\""
   ]
  },
  {
   "cell_type": "markdown",
   "metadata": {},
   "source": [
    "# scaling"
   ]
  },
  {
   "cell_type": "markdown",
   "metadata": {},
   "source": [
    "# \"\"\" Logistic Regression\"\"\""
   ]
  },
  {
   "cell_type": "code",
   "execution_count": 18,
   "metadata": {},
   "outputs": [],
   "source": [
    "#import classifier\n",
    "from sklearn.linear_model import LogisticRegression\n",
    "\n",
    "#create an instanse\n",
    "model1 = LogisticRegression()\n",
    "\n",
    "#train model\n",
    "model1.fit(X_train,y_train)\n",
    "\n",
    "#predict on test set\n",
    "y_pred = model1.predict(X_test)\n",
    "y_pred_probs = model1.predict_proba(X_test)\n"
   ]
  },
  {
   "cell_type": "markdown",
   "metadata": {},
   "source": [
    "### Model evaluation"
   ]
  },
  {
   "cell_type": "code",
   "execution_count": 19,
   "metadata": {},
   "outputs": [],
   "source": [
    "from sklearn.metrics import confusion_matrix, accuracy_score, precision_score, recall_score, classification_report,f1_score"
   ]
  },
  {
   "cell_type": "code",
   "execution_count": 20,
   "metadata": {},
   "outputs": [
    {
     "name": "stdout",
     "output_type": "stream",
     "text": [
      "accuracy_score =\n"
     ]
    },
    {
     "data": {
      "text/plain": [
       "0.7483414966829933"
      ]
     },
     "execution_count": 20,
     "metadata": {},
     "output_type": "execute_result"
    }
   ],
   "source": [
    "print('accuracy_score =')\n",
    "accuracy_score(y_test,y_pred)"
   ]
  },
  {
   "cell_type": "code",
   "execution_count": 21,
   "metadata": {},
   "outputs": [
    {
     "name": "stdout",
     "output_type": "stream",
     "text": [
      "confusion_matrix =\n"
     ]
    },
    {
     "data": {
      "text/plain": [
       "array([[12070,     0],\n",
       "       [ 4059,     0]], dtype=int64)"
      ]
     },
     "execution_count": 21,
     "metadata": {},
     "output_type": "execute_result"
    }
   ],
   "source": [
    "'''\n",
    "        Predicted\n",
    "          0   1\n",
    "Actual  0 TN  FP\n",
    "        1 FN  TP\n",
    "\n",
    "'''\n",
    "print('confusion_matrix =')\n",
    "confusion_matrix(y_test,y_pred)"
   ]
  },
  {
   "cell_type": "raw",
   "metadata": {},
   "source": [
    "As you can see since this data is imbalaced data the algorithm find the best acuracy when it predicted TRUE for all records and means this model is naot able to distingueshed between positive and nagative class "
   ]
  },
  {
   "cell_type": "code",
   "execution_count": 22,
   "metadata": {},
   "outputs": [
    {
     "name": "stdout",
     "output_type": "stream",
     "text": [
      "              precision    recall  f1-score   support\n",
      "\n",
      "         0.0       0.75      1.00      0.86     12070\n",
      "         1.0       0.00      0.00      0.00      4059\n",
      "\n",
      "    accuracy                           0.75     16129\n",
      "   macro avg       0.37      0.50      0.43     16129\n",
      "weighted avg       0.56      0.75      0.64     16129\n",
      "\n"
     ]
    }
   ],
   "source": [
    "print(classification_report(y_test,y_pred))"
   ]
  },
  {
   "cell_type": "raw",
   "metadata": {},
   "source": [
    "In another way of data that I prepred it differently I got following result:"
   ]
  },
  {
   "attachments": {
    "image.png": {
     "image/png": "[encoded data removed]"
    }
   },
   "cell_type": "markdown",
   "metadata": {},
   "source": [
    "![image.png](attachment:image.png)"
   ]
  },
  {
   "cell_type": "raw",
   "metadata": {},
   "source": [
    "Our model has 75% overall accuracy, but is it because it's predicting more the majority class. you can see f1_score is equal to 0 here or close to 7% in another way of data preptration .\n",
    "So we have to balance data."
   ]
  },
  {
   "cell_type": "code",
   "execution_count": 23,
   "metadata": {},
   "outputs": [
    {
     "data": {
      "text/plain": [
       "array([0.74883444, 0.74887158, 0.74887158, 0.74887158])"
      ]
     },
     "execution_count": 23,
     "metadata": {},
     "output_type": "execute_result"
    }
   ],
   "source": [
    "\"\"\"K-FOLD CROSSVALIDATION\"\"\"\n",
    "from sklearn.model_selection import cross_val_score\n",
    "clf = LogisticRegression()\n",
    "cross_val_score(clf,X,y,cv=4)"
   ]
  },
  {
   "cell_type": "code",
   "execution_count": 24,
   "metadata": {},
   "outputs": [
    {
     "data": {
      "text/plain": [
       "0.7488622980700235"
      ]
     },
     "execution_count": 24,
     "metadata": {},
     "output_type": "execute_result"
    }
   ],
   "source": [
    "cross_val_score(clf,X,y,cv=4).mean()"
   ]
  },
  {
   "cell_type": "code",
   "execution_count": 25,
   "metadata": {},
   "outputs": [
    {
     "data": {
      "text/plain": [
       "0.7488622977245954"
      ]
     },
     "execution_count": 25,
     "metadata": {},
     "output_type": "execute_result"
    }
   ],
   "source": [
    "LR = LogisticRegression()\n",
    "scores=cross_val_score(LR,X,y,cv=5)\n",
    "LR_score=scores.mean()\n",
    "LR_score"
   ]
  },
  {
   "cell_type": "code",
   "execution_count": 26,
   "metadata": {},
   "outputs": [
    {
     "data": {
      "text/plain": [
       "0.0"
      ]
     },
     "execution_count": 26,
     "metadata": {},
     "output_type": "execute_result"
    }
   ],
   "source": [
    "LR = LogisticRegression()\n",
    "scores=cross_val_score(LR,X,y,cv=5,scoring='f1')\n",
    "LR_f1score=scores.mean()\n",
    "LR_f1score"
   ]
  },
  {
   "cell_type": "markdown",
   "metadata": {},
   "source": [
    "# \"\"\"Handel imbalanced classes\"\"\""
   ]
  },
  {
   "cell_type": "markdown",
   "metadata": {},
   "source": [
    "## Method1: Down-sample Majority Class method"
   ]
  },
  {
   "cell_type": "raw",
   "metadata": {},
   "source": [
    "# Down-sampling involves randomly removing observations from the majority class to prevent its signal from dominating the learning algorithm."
   ]
  },
  {
   "cell_type": "code",
   "execution_count": 27,
   "metadata": {},
   "outputs": [
    {
     "data": {
      "text/plain": [
       "0.0    60392\n",
       "1.0    20253\n",
       "Name: Loan Status, dtype: int64"
      ]
     },
     "execution_count": 27,
     "metadata": {},
     "output_type": "execute_result"
    }
   ],
   "source": [
    "df['Loan Status'].value_counts()"
   ]
  },
  {
   "cell_type": "code",
   "execution_count": 28,
   "metadata": {},
   "outputs": [
    {
     "data": {
      "text/plain": [
       "20253"
      ]
     },
     "execution_count": 28,
     "metadata": {},
     "output_type": "execute_result"
    }
   ],
   "source": [
    "n1=df['Loan Status'].value_counts()[1]\n",
    "n1"
   ]
  },
  {
   "cell_type": "code",
   "execution_count": 29,
   "metadata": {},
   "outputs": [],
   "source": [
    "# Separate majority and minority classes\n",
    "df_majority = df[df['Loan Status']==0]\n",
    "df_minority = df[df['Loan Status']==1]"
   ]
  },
  {
   "cell_type": "code",
   "execution_count": 30,
   "metadata": {},
   "outputs": [],
   "source": [
    "from sklearn.utils import resample\n",
    "# Downsample majority class\n",
    "df_majority_downsampled = resample(df_majority, \n",
    "                                 replace=False,    # sample without replacement\n",
    "                                 n_samples=n1,     # to match minority class\n",
    "                                 random_state=0) # reproducible results"
   ]
  },
  {
   "cell_type": "code",
   "execution_count": 31,
   "metadata": {},
   "outputs": [],
   "source": [
    "# Combine majority class with upsampled minority class\n",
    "dfb = pd.concat([df_majority_downsampled, df_minority])"
   ]
  },
  {
   "cell_type": "code",
   "execution_count": 32,
   "metadata": {},
   "outputs": [
    {
     "data": {
      "text/plain": [
       "1.0    20253\n",
       "0.0    20253\n",
       "Name: Loan Status, dtype: int64"
      ]
     },
     "execution_count": 32,
     "metadata": {},
     "output_type": "execute_result"
    }
   ],
   "source": [
    "dfb['Loan Status'].value_counts()"
   ]
  },
  {
   "cell_type": "code",
   "execution_count": 33,
   "metadata": {},
   "outputs": [],
   "source": [
    "Xb=dfb.drop('Loan Status',axis=1)\n",
    "\n",
    "yb=dfb['Loan Status']"
   ]
  },
  {
   "cell_type": "code",
   "execution_count": 34,
   "metadata": {},
   "outputs": [],
   "source": [
    "#splitting test and training sets\n",
    "from sklearn.model_selection import train_test_split\n",
    "Xb_train, Xb_test, yb_train,yb_test = train_test_split(Xb, yb, random_state=0)"
   ]
  },
  {
   "cell_type": "markdown",
   "metadata": {},
   "source": [
    "### Modeling on down sampling balanced data"
   ]
  },
  {
   "cell_type": "code",
   "execution_count": 35,
   "metadata": {},
   "outputs": [
    {
     "data": {
      "text/plain": [
       "0.5042215669483314"
      ]
     },
     "execution_count": 35,
     "metadata": {},
     "output_type": "execute_result"
    }
   ],
   "source": [
    "LR = LogisticRegression()\n",
    "scores=cross_val_score(LR,Xb,yb,cv=5)\n",
    "LR_DS_score=scores.mean()\n",
    "LR_DS_score"
   ]
  },
  {
   "cell_type": "code",
   "execution_count": 36,
   "metadata": {},
   "outputs": [
    {
     "data": {
      "text/plain": [
       "0.526127829493773"
      ]
     },
     "execution_count": 36,
     "metadata": {},
     "output_type": "execute_result"
    }
   ],
   "source": [
    "LR = LogisticRegression()\n",
    "scores=cross_val_score(LR,Xb,yb,cv=5,scoring='f1')\n",
    "LR_DS_f1score=scores.mean()\n",
    "LR_DS_f1score"
   ]
  },
  {
   "cell_type": "markdown",
   "metadata": {},
   "source": [
    "# Method 2: Over Sampling"
   ]
  },
  {
   "cell_type": "code",
   "execution_count": 37,
   "metadata": {},
   "outputs": [
    {
     "name": "stdout",
     "output_type": "stream",
     "text": [
      "Requirement already satisfied: tensorflow in c:\\users\\hmdra\\appdata\\local\\continuum\\anaconda3\\lib\\site-packages (2.0.0)\n",
      "Requirement already satisfied: opt-einsum>=2.3.2 in c:\\users\\hmdra\\appdata\\local\\continuum\\anaconda3\\lib\\site-packages (from tensorflow) (3.1.0)\n",
      "Requirement already satisfied: protobuf>=3.6.1 in c:\\users\\hmdra\\appdata\\local\\continuum\\anaconda3\\lib\\site-packages (from tensorflow) (3.10.0)\n",
      "Requirement already satisfied: astor>=0.6.0 in c:\\users\\hmdra\\appdata\\local\\continuum\\anaconda3\\lib\\site-packages (from tensorflow) (0.8.0)\n",
      "Requirement already satisfied: wrapt>=1.11.1 in c:\\users\\hmdra\\appdata\\local\\continuum\\anaconda3\\lib\\site-packages (from tensorflow) (1.11.2)\n",
      "Requirement already satisfied: numpy<2.0,>=1.16.0 in c:\\users\\hmdra\\appdata\\local\\continuum\\anaconda3\\lib\\site-packages (from tensorflow) (1.21.4)\n",
      "Requirement already satisfied: tensorboard<2.1.0,>=2.0.0 in c:\\users\\hmdra\\appdata\\local\\continuum\\anaconda3\\lib\\site-packages (from tensorflow) (2.0.1)\n",
      "Requirement already satisfied: gast==0.2.2 in c:\\users\\hmdra\\appdata\\local\\continuum\\anaconda3\\lib\\site-packages (from tensorflow) (0.2.2)\n",
      "Requirement already satisfied: six>=1.10.0 in c:\\users\\hmdra\\appdata\\local\\continuum\\anaconda3\\lib\\site-packages (from tensorflow) (1.12.0)\n",
      "Requirement already satisfied: tensorflow-estimator<2.1.0,>=2.0.0 in c:\\users\\hmdra\\appdata\\local\\continuum\\anaconda3\\lib\\site-packages (from tensorflow) (2.0.1)\n",
      "Requirement already satisfied: grpcio>=1.8.6 in c:\\users\\hmdra\\appdata\\local\\continuum\\anaconda3\\lib\\site-packages (from tensorflow) (1.25.0)\n",
      "Requirement already satisfied: wheel>=0.26 in c:\\users\\hmdra\\appdata\\local\\continuum\\anaconda3\\lib\\site-packages (from tensorflow) (0.33.6)\n",
      "Requirement already satisfied: termcolor>=1.1.0 in c:\\users\\hmdra\\appdata\\local\\continuum\\anaconda3\\lib\\site-packages (from tensorflow) (1.1.0)\n",
      "Requirement already satisfied: google-pasta>=0.1.6 in c:\\users\\hmdra\\appdata\\local\\continuum\\anaconda3\\lib\\site-packages (from tensorflow) (0.1.8)\n",
      "Requirement already satisfied: keras-preprocessing>=1.0.5 in c:\\users\\hmdra\\appdata\\local\\continuum\\anaconda3\\lib\\site-packages (from tensorflow) (1.1.0)\n",
      "Requirement already satisfied: keras-applications>=1.0.8 in c:\\users\\hmdra\\appdata\\local\\continuum\\anaconda3\\lib\\site-packages (from tensorflow) (1.0.8)\n",
      "Requirement already satisfied: absl-py>=0.7.0 in c:\\users\\hmdra\\appdata\\local\\continuum\\anaconda3\\lib\\site-packages (from tensorflow) (0.8.1)\n",
      "Requirement already satisfied: setuptools in c:\\users\\hmdra\\appdata\\local\\continuum\\anaconda3\\lib\\site-packages (from protobuf>=3.6.1->tensorflow) (41.4.0)\n",
      "Requirement already satisfied: markdown>=2.6.8 in c:\\users\\hmdra\\appdata\\local\\continuum\\anaconda3\\lib\\site-packages (from tensorboard<2.1.0,>=2.0.0->tensorflow) (3.1.1)\n",
      "Requirement already satisfied: google-auth-oauthlib<0.5,>=0.4.1 in c:\\users\\hmdra\\appdata\\local\\continuum\\anaconda3\\lib\\site-packages (from tensorboard<2.1.0,>=2.0.0->tensorflow) (0.4.1)\n",
      "Requirement already satisfied: google-auth<2,>=1.6.3 in c:\\users\\hmdra\\appdata\\local\\continuum\\anaconda3\\lib\\site-packages (from tensorboard<2.1.0,>=2.0.0->tensorflow) (1.7.1)\n",
      "Requirement already satisfied: werkzeug>=0.11.15 in c:\\users\\hmdra\\appdata\\local\\continuum\\anaconda3\\lib\\site-packages (from tensorboard<2.1.0,>=2.0.0->tensorflow) (0.16.0)\n",
      "Requirement already satisfied: h5py in c:\\users\\hmdra\\appdata\\local\\continuum\\anaconda3\\lib\\site-packages (from keras-applications>=1.0.8->tensorflow) (2.9.0)\n",
      "Requirement already satisfied: requests-oauthlib>=0.7.0 in c:\\users\\hmdra\\appdata\\local\\continuum\\anaconda3\\lib\\site-packages (from google-auth-oauthlib<0.5,>=0.4.1->tensorboard<2.1.0,>=2.0.0->tensorflow) (1.3.0)\n",
      "Requirement already satisfied: pyasn1-modules>=0.2.1 in c:\\users\\hmdra\\appdata\\local\\continuum\\anaconda3\\lib\\site-packages (from google-auth<2,>=1.6.3->tensorboard<2.1.0,>=2.0.0->tensorflow) (0.2.7)\n",
      "Requirement already satisfied: rsa<4.1,>=3.1.4 in c:\\users\\hmdra\\appdata\\local\\continuum\\anaconda3\\lib\\site-packages (from google-auth<2,>=1.6.3->tensorboard<2.1.0,>=2.0.0->tensorflow) (4.0)\n",
      "Requirement already satisfied: cachetools<3.2,>=2.0.0 in c:\\users\\hmdra\\appdata\\local\\continuum\\anaconda3\\lib\\site-packages (from google-auth<2,>=1.6.3->tensorboard<2.1.0,>=2.0.0->tensorflow) (3.1.1)\n",
      "Requirement already satisfied: requests>=2.0.0 in c:\\users\\hmdra\\appdata\\local\\continuum\\anaconda3\\lib\\site-packages (from requests-oauthlib>=0.7.0->google-auth-oauthlib<0.5,>=0.4.1->tensorboard<2.1.0,>=2.0.0->tensorflow) (2.24.0)\n",
      "Requirement already satisfied: oauthlib>=3.0.0 in c:\\users\\hmdra\\appdata\\local\\continuum\\anaconda3\\lib\\site-packages (from requests-oauthlib>=0.7.0->google-auth-oauthlib<0.5,>=0.4.1->tensorboard<2.1.0,>=2.0.0->tensorflow) (3.1.0)\n",
      "Requirement already satisfied: pyasn1<0.5.0,>=0.4.6 in c:\\users\\hmdra\\appdata\\local\\continuum\\anaconda3\\lib\\site-packages (from pyasn1-modules>=0.2.1->google-auth<2,>=1.6.3->tensorboard<2.1.0,>=2.0.0->tensorflow) (0.4.8)\n",
      "Requirement already satisfied: idna<3,>=2.5 in c:\\users\\hmdra\\appdata\\local\\continuum\\anaconda3\\lib\\site-packages (from requests>=2.0.0->requests-oauthlib>=0.7.0->google-auth-oauthlib<0.5,>=0.4.1->tensorboard<2.1.0,>=2.0.0->tensorflow) (2.8)\n",
      "Requirement already satisfied: chardet<4,>=3.0.2 in c:\\users\\hmdra\\appdata\\local\\continuum\\anaconda3\\lib\\site-packages (from requests>=2.0.0->requests-oauthlib>=0.7.0->google-auth-oauthlib<0.5,>=0.4.1->tensorboard<2.1.0,>=2.0.0->tensorflow) (3.0.4)\n",
      "Requirement already satisfied: certifi>=2017.4.17 in c:\\users\\hmdra\\appdata\\local\\continuum\\anaconda3\\lib\\site-packages (from requests>=2.0.0->requests-oauthlib>=0.7.0->google-auth-oauthlib<0.5,>=0.4.1->tensorboard<2.1.0,>=2.0.0->tensorflow) (2020.6.20)\n",
      "Requirement already satisfied: urllib3!=1.25.0,!=1.25.1,<1.26,>=1.21.1 in c:\\users\\hmdra\\appdata\\local\\continuum\\anaconda3\\lib\\site-packages (from requests>=2.0.0->requests-oauthlib>=0.7.0->google-auth-oauthlib<0.5,>=0.4.1->tensorboard<2.1.0,>=2.0.0->tensorflow) (1.24.2)\n"
     ]
    }
   ],
   "source": [
    "! pip install tensorflow"
   ]
  },
  {
   "cell_type": "code",
   "execution_count": 38,
   "metadata": {},
   "outputs": [
    {
     "name": "stdout",
     "output_type": "stream",
     "text": [
      "Requirement already satisfied: imblearn in c:\\users\\hmdra\\appdata\\local\\continuum\\anaconda3\\lib\\site-packages (0.0)\n",
      "Requirement already satisfied: imbalanced-learn in c:\\users\\hmdra\\appdata\\local\\continuum\\anaconda3\\lib\\site-packages (from imblearn) (0.6.2)\n",
      "Requirement already satisfied: scipy>=0.17 in c:\\users\\hmdra\\appdata\\local\\continuum\\anaconda3\\lib\\site-packages (from imbalanced-learn->imblearn) (1.7.3)\n",
      "Requirement already satisfied: numpy>=1.11 in c:\\users\\hmdra\\appdata\\local\\continuum\\anaconda3\\lib\\site-packages (from imbalanced-learn->imblearn) (1.21.4)\n",
      "Requirement already satisfied: joblib>=0.11 in c:\\users\\hmdra\\appdata\\local\\continuum\\anaconda3\\lib\\site-packages (from imbalanced-learn->imblearn) (1.1.0)\n",
      "Requirement already satisfied: scikit-learn>=0.22 in c:\\users\\hmdra\\appdata\\local\\continuum\\anaconda3\\lib\\site-packages (from imbalanced-learn->imblearn) (0.22.2.post1)\n"
     ]
    }
   ],
   "source": [
    "!pip install imblearn"
   ]
  },
  {
   "cell_type": "code",
   "execution_count": 39,
   "metadata": {},
   "outputs": [
    {
     "name": "stderr",
     "output_type": "stream",
     "text": [
      "Using TensorFlow backend.\n"
     ]
    }
   ],
   "source": [
    "from imblearn.over_sampling import SMOTE\n",
    "sm  = SMOTE(random_state=42)\n",
    "Xb2, yb2 = sm.fit_sample(X, y)\n",
    "Xb2_train, Xb2_test, yb2_train, yb2_test = train_test_split(Xb2, yb2, test_size= 0.2, random_state=7)"
   ]
  },
  {
   "cell_type": "code",
   "execution_count": 40,
   "metadata": {},
   "outputs": [],
   "source": [
    "#create an instanse\n",
    "model1b2 = LogisticRegression()\n",
    "\n",
    "#train model\n",
    "model1b2.fit(Xb2_train,yb2_train)\n",
    "\n",
    "#predict on test set\n",
    "yb2_pred = model1b2.predict(Xb2_test)\n",
    "yb2_pred_probs = model1b2.predict_proba(Xb2_test)"
   ]
  },
  {
   "cell_type": "code",
   "execution_count": 41,
   "metadata": {},
   "outputs": [
    {
     "name": "stdout",
     "output_type": "stream",
     "text": [
      "confusion_matrix =\n"
     ]
    },
    {
     "data": {
      "text/plain": [
       "array([[5079, 7037],\n",
       "       [4882, 7159]], dtype=int64)"
      ]
     },
     "execution_count": 41,
     "metadata": {},
     "output_type": "execute_result"
    }
   ],
   "source": [
    "print('confusion_matrix =')\n",
    "confusion_matrix(yb2_test,yb2_pred)"
   ]
  },
  {
   "cell_type": "code",
   "execution_count": 42,
   "metadata": {},
   "outputs": [
    {
     "name": "stdout",
     "output_type": "stream",
     "text": [
      "              precision    recall  f1-score   support\n",
      "\n",
      "         0.0       0.51      0.42      0.46     12116\n",
      "         1.0       0.50      0.59      0.55     12041\n",
      "\n",
      "    accuracy                           0.51     24157\n",
      "   macro avg       0.51      0.51      0.50     24157\n",
      "weighted avg       0.51      0.51      0.50     24157\n",
      "\n"
     ]
    }
   ],
   "source": [
    "print(classification_report(yb2_test,yb2_pred))"
   ]
  },
  {
   "cell_type": "code",
   "execution_count": 43,
   "metadata": {},
   "outputs": [
    {
     "data": {
      "text/plain": [
       "0.5085110365300001"
      ]
     },
     "execution_count": 43,
     "metadata": {},
     "output_type": "execute_result"
    }
   ],
   "source": [
    "LR2 = LogisticRegression()\n",
    "scores=cross_val_score(LR2,Xb2,yb2,cv=5)\n",
    "LR_OS_score=scores.mean()\n",
    "LR_OS_score"
   ]
  },
  {
   "cell_type": "code",
   "execution_count": 44,
   "metadata": {},
   "outputs": [
    {
     "data": {
      "text/plain": [
       "0.5440218603946476"
      ]
     },
     "execution_count": 44,
     "metadata": {},
     "output_type": "execute_result"
    }
   ],
   "source": [
    "LR2 = LogisticRegression()\n",
    "scores=cross_val_score(LR2,Xb2,yb2,cv=5,scoring='f1')\n",
    "LR2_f1=scores.mean()\n",
    "LR_OS_f1score=scores.mean()\n",
    "LR_OS_f1score"
   ]
  },
  {
   "cell_type": "markdown",
   "metadata": {},
   "source": [
    "## Method 3: Penalize Algorithms (Cost-Sensitive Training)"
   ]
  },
  {
   "cell_type": "code",
   "execution_count": 45,
   "metadata": {},
   "outputs": [
    {
     "data": {
      "text/plain": [
       "0.47132494264988534"
      ]
     },
     "execution_count": 45,
     "metadata": {},
     "output_type": "execute_result"
    }
   ],
   "source": [
    "LR = LogisticRegression( class_weight='balanced')\n",
    "scores=cross_val_score(LR,X,y,cv=5)\n",
    "LR_WB_score=scores.mean()\n",
    "LR_WB_score"
   ]
  },
  {
   "cell_type": "code",
   "execution_count": 46,
   "metadata": {},
   "outputs": [
    {
     "data": {
      "text/plain": [
       "0.34568521767737126"
      ]
     },
     "execution_count": 46,
     "metadata": {},
     "output_type": "execute_result"
    }
   ],
   "source": [
    "LR = LogisticRegression(class_weight='balanced')\n",
    "scores=cross_val_score(LR,X,y,cv=5,scoring='f1')\n",
    "LR_WB_f1score=scores.mean()\n",
    "LR_WB_f1score"
   ]
  },
  {
   "cell_type": "code",
   "execution_count": 47,
   "metadata": {},
   "outputs": [],
   "source": [
    "#for Down-sample Majority Class method \n",
    "X=Xb\n",
    "y=yb\n",
    "X_train=Xb_train\n",
    "X_test= Xb_test\n",
    "y_train=yb_train\n",
    "y_test=yb_test\n",
    "\n",
    "#for class_weight='balanced' and for not balanced data\n",
    "X1=X\n",
    "y1=y\n",
    "X1_train=X_train\n",
    "X1_test=X_test\n",
    "y1_train=y_train\n",
    "y1_test=y_test\n",
    "\n",
    "\n",
    "#for oversampling(SMOTE) method \n",
    "X2=Xb2\n",
    "y2=yb2\n",
    "X2_train=Xb2_train\n",
    "X2_test= Xb2_test\n",
    "y2_train=yb2_train\n",
    "y2_test=yb2_test"
   ]
  },
  {
   "cell_type": "markdown",
   "metadata": {},
   "source": [
    "# \"\"\"Decision Tree \"\"\""
   ]
  },
  {
   "cell_type": "code",
   "execution_count": 48,
   "metadata": {},
   "outputs": [],
   "source": [
    "from sklearn.tree import DecisionTreeClassifier"
   ]
  },
  {
   "cell_type": "markdown",
   "metadata": {},
   "source": [
    "## Visualize decision tree"
   ]
  },
  {
   "cell_type": "raw",
   "metadata": {},
   "source": [
    "For not sceled data and Cost-Sensitive Training"
   ]
  },
  {
   "cell_type": "code",
   "execution_count": 49,
   "metadata": {},
   "outputs": [],
   "source": [
    "# loading csv data to dataframe \n",
    "df_c= pd.read_csv('df_not scaled_Loan_status.csv',na_values='NA')"
   ]
  },
  {
   "cell_type": "code",
   "execution_count": 50,
   "metadata": {},
   "outputs": [
    {
     "name": "stdout",
     "output_type": "stream",
     "text": [
      "<class 'pandas.core.frame.DataFrame'>\n",
      "RangeIndex: 99783 entries, 0 to 99782\n",
      "Data columns (total 34 columns):\n",
      " #   Column                                   Non-Null Count  Dtype  \n",
      "---  ------                                   --------------  -----  \n",
      " 0   Unnamed: 0                               99783 non-null  int64  \n",
      " 1   Annual Income                            99783 non-null  float64\n",
      " 2   Bankruptcies                             99783 non-null  float64\n",
      " 3   Credit Score                             99783 non-null  float64\n",
      " 4   Current Credit Balance                   99783 non-null  float64\n",
      " 5   Current Loan Amount                      99783 non-null  float64\n",
      " 6   Months since last delinquent             46140 non-null  float64\n",
      " 7   Number of Open Accounts                  99783 non-null  float64\n",
      " 8   Tax Liens                                99783 non-null  float64\n",
      " 9   Term                                     99783 non-null  int64  \n",
      " 10  Years in current job                     95554 non-null  float64\n",
      " 11  Years of Credit History                  99783 non-null  float64\n",
      " 12  source                                   99783 non-null  int64  \n",
      " 13  Annual Income outlier                    99783 non-null  int64  \n",
      " 14  Current Credit Balance outlier           99783 non-null  int64  \n",
      " 15  Maximum Open Credit outlier              99783 non-null  int64  \n",
      " 16  Monthly Debt outlier                     99783 non-null  int64  \n",
      " 17  Home Ownership_Own Home                  99783 non-null  int64  \n",
      " 18  Home Ownership_Rent                      99783 non-null  int64  \n",
      " 19  Purpose_Buy House                        99783 non-null  int64  \n",
      " 20  Purpose_Buy a Car                        99783 non-null  int64  \n",
      " 21  Purpose_Debt Consolidation               99783 non-null  int64  \n",
      " 22  Purpose_Educational Expenses             99783 non-null  int64  \n",
      " 23  Purpose_Home Improvements                99783 non-null  int64  \n",
      " 24  Purpose_Medical Bills                    99783 non-null  int64  \n",
      " 25  Purpose_major_purchase                   99783 non-null  int64  \n",
      " 26  Purpose_moving                           99783 non-null  int64  \n",
      " 27  Purpose_small_business                   99783 non-null  int64  \n",
      " 28  Purpose_vacation                         99783 non-null  int64  \n",
      " 29  Purpose_wedding                          99783 non-null  int64  \n",
      " 30  Is Months since last delinquent Missing  99783 non-null  int64  \n",
      " 31  RMI                                      99783 non-null  float64\n",
      " 32  RMC                                      99783 non-null  float64\n",
      " 33  Loan Status                              89783 non-null  float64\n",
      "dtypes: float64(13), int64(21)\n",
      "memory usage: 25.9 MB\n"
     ]
    }
   ],
   "source": [
    "df_c.info()"
   ]
  },
  {
   "cell_type": "code",
   "execution_count": 51,
   "metadata": {},
   "outputs": [
    {
     "data": {
      "text/plain": [
       "Unnamed: 0                                     0\n",
       "Annual Income                                  0\n",
       "Bankruptcies                                   0\n",
       "Credit Score                                   0\n",
       "Current Credit Balance                         0\n",
       "Current Loan Amount                            0\n",
       "Months since last delinquent               53643\n",
       "Number of Open Accounts                        0\n",
       "Tax Liens                                      0\n",
       "Term                                           0\n",
       "Years in current job                        4229\n",
       "Years of Credit History                        0\n",
       "source                                         0\n",
       "Annual Income outlier                          0\n",
       "Current Credit Balance outlier                 0\n",
       "Maximum Open Credit outlier                    0\n",
       "Monthly Debt outlier                           0\n",
       "Home Ownership_Own Home                        0\n",
       "Home Ownership_Rent                            0\n",
       "Purpose_Buy House                              0\n",
       "Purpose_Buy a Car                              0\n",
       "Purpose_Debt Consolidation                     0\n",
       "Purpose_Educational Expenses                   0\n",
       "Purpose_Home Improvements                      0\n",
       "Purpose_Medical Bills                          0\n",
       "Purpose_major_purchase                         0\n",
       "Purpose_moving                                 0\n",
       "Purpose_small_business                         0\n",
       "Purpose_vacation                               0\n",
       "Purpose_wedding                                0\n",
       "Is Months since last delinquent Missing        0\n",
       "RMI                                            0\n",
       "RMC                                            0\n",
       "Loan Status                                10000\n",
       "dtype: int64"
      ]
     },
     "execution_count": 51,
     "metadata": {},
     "output_type": "execute_result"
    }
   ],
   "source": [
    "# counting missing values\n",
    "df_c.apply(lambda x: sum(x.isnull()))"
   ]
  },
  {
   "cell_type": "code",
   "execution_count": 52,
   "metadata": {},
   "outputs": [],
   "source": [
    "df_c= df_c.drop(df_c[(df_c['Loan Status'].isnull())].index)"
   ]
  },
  {
   "cell_type": "code",
   "execution_count": 53,
   "metadata": {},
   "outputs": [
    {
     "data": {
      "text/html": [
       "<div>\n",
       "<style scoped>\n",
       "    .dataframe tbody tr th:only-of-type {\n",
       "        vertical-align: middle;\n",
       "    }\n",
       "\n",
       "    .dataframe tbody tr th {\n",
       "        vertical-align: top;\n",
       "    }\n",
       "\n",
       "    .dataframe thead th {\n",
       "        text-align: right;\n",
       "    }\n",
       "</style>\n",
       "<table border=\"1\" class=\"dataframe\">\n",
       "  <thead>\n",
       "    <tr style=\"text-align: right;\">\n",
       "      <th></th>\n",
       "      <th>Unnamed: 0</th>\n",
       "      <th>Annual Income</th>\n",
       "      <th>Bankruptcies</th>\n",
       "      <th>Credit Score</th>\n",
       "      <th>Current Credit Balance</th>\n",
       "      <th>Current Loan Amount</th>\n",
       "      <th>Months since last delinquent</th>\n",
       "      <th>Number of Open Accounts</th>\n",
       "      <th>Tax Liens</th>\n",
       "      <th>Term</th>\n",
       "      <th>...</th>\n",
       "      <th>Purpose_Medical Bills</th>\n",
       "      <th>Purpose_major_purchase</th>\n",
       "      <th>Purpose_moving</th>\n",
       "      <th>Purpose_small_business</th>\n",
       "      <th>Purpose_vacation</th>\n",
       "      <th>Purpose_wedding</th>\n",
       "      <th>Is Months since last delinquent Missing</th>\n",
       "      <th>RMI</th>\n",
       "      <th>RMC</th>\n",
       "      <th>Loan Status</th>\n",
       "    </tr>\n",
       "  </thead>\n",
       "  <tbody>\n",
       "    <tr>\n",
       "      <th>0</th>\n",
       "      <td>0</td>\n",
       "      <td>1167493.0</td>\n",
       "      <td>1.0</td>\n",
       "      <td>709.000000</td>\n",
       "      <td>228190.0</td>\n",
       "      <td>445412.0</td>\n",
       "      <td>NaN</td>\n",
       "      <td>6.0</td>\n",
       "      <td>0.0</td>\n",
       "      <td>0</td>\n",
       "      <td>...</td>\n",
       "      <td>0</td>\n",
       "      <td>0</td>\n",
       "      <td>0</td>\n",
       "      <td>0</td>\n",
       "      <td>0</td>\n",
       "      <td>0</td>\n",
       "      <td>1</td>\n",
       "      <td>0.004467</td>\n",
       "      <td>0.012513</td>\n",
       "      <td>0.0</td>\n",
       "    </tr>\n",
       "    <tr>\n",
       "      <th>1</th>\n",
       "      <td>1</td>\n",
       "      <td>1818965.0</td>\n",
       "      <td>0.0</td>\n",
       "      <td>726.522159</td>\n",
       "      <td>229976.0</td>\n",
       "      <td>262328.0</td>\n",
       "      <td>8.0</td>\n",
       "      <td>35.0</td>\n",
       "      <td>0.0</td>\n",
       "      <td>0</td>\n",
       "      <td>...</td>\n",
       "      <td>0</td>\n",
       "      <td>0</td>\n",
       "      <td>0</td>\n",
       "      <td>0</td>\n",
       "      <td>0</td>\n",
       "      <td>0</td>\n",
       "      <td>0</td>\n",
       "      <td>0.018305</td>\n",
       "      <td>0.039136</td>\n",
       "      <td>0.0</td>\n",
       "    </tr>\n",
       "    <tr>\n",
       "      <th>2</th>\n",
       "      <td>2</td>\n",
       "      <td>2231892.0</td>\n",
       "      <td>0.0</td>\n",
       "      <td>741.000000</td>\n",
       "      <td>297996.0</td>\n",
       "      <td>396154.0</td>\n",
       "      <td>29.0</td>\n",
       "      <td>18.0</td>\n",
       "      <td>0.0</td>\n",
       "      <td>0</td>\n",
       "      <td>...</td>\n",
       "      <td>0</td>\n",
       "      <td>0</td>\n",
       "      <td>0</td>\n",
       "      <td>0</td>\n",
       "      <td>0</td>\n",
       "      <td>0</td>\n",
       "      <td>0</td>\n",
       "      <td>0.013083</td>\n",
       "      <td>0.038929</td>\n",
       "      <td>0.0</td>\n",
       "    </tr>\n",
       "    <tr>\n",
       "      <th>3</th>\n",
       "      <td>3</td>\n",
       "      <td>806949.0</td>\n",
       "      <td>0.0</td>\n",
       "      <td>721.000000</td>\n",
       "      <td>256329.0</td>\n",
       "      <td>347666.0</td>\n",
       "      <td>NaN</td>\n",
       "      <td>9.0</td>\n",
       "      <td>0.0</td>\n",
       "      <td>1</td>\n",
       "      <td>...</td>\n",
       "      <td>0</td>\n",
       "      <td>0</td>\n",
       "      <td>0</td>\n",
       "      <td>0</td>\n",
       "      <td>0</td>\n",
       "      <td>0</td>\n",
       "      <td>1</td>\n",
       "      <td>0.010833</td>\n",
       "      <td>0.022591</td>\n",
       "      <td>0.0</td>\n",
       "    </tr>\n",
       "    <tr>\n",
       "      <th>4</th>\n",
       "      <td>4</td>\n",
       "      <td>1334351.0</td>\n",
       "      <td>0.0</td>\n",
       "      <td>726.522159</td>\n",
       "      <td>253460.0</td>\n",
       "      <td>176220.0</td>\n",
       "      <td>NaN</td>\n",
       "      <td>15.0</td>\n",
       "      <td>0.0</td>\n",
       "      <td>0</td>\n",
       "      <td>...</td>\n",
       "      <td>0</td>\n",
       "      <td>0</td>\n",
       "      <td>0</td>\n",
       "      <td>0</td>\n",
       "      <td>0</td>\n",
       "      <td>0</td>\n",
       "      <td>1</td>\n",
       "      <td>0.015468</td>\n",
       "      <td>0.048317</td>\n",
       "      <td>0.0</td>\n",
       "    </tr>\n",
       "  </tbody>\n",
       "</table>\n",
       "<p>5 rows × 34 columns</p>\n",
       "</div>"
      ],
      "text/plain": [
       "   Unnamed: 0  Annual Income  Bankruptcies  Credit Score  \\\n",
       "0           0      1167493.0           1.0    709.000000   \n",
       "1           1      1818965.0           0.0    726.522159   \n",
       "2           2      2231892.0           0.0    741.000000   \n",
       "3           3       806949.0           0.0    721.000000   \n",
       "4           4      1334351.0           0.0    726.522159   \n",
       "\n",
       "   Current Credit Balance  Current Loan Amount  Months since last delinquent  \\\n",
       "0                228190.0             445412.0                           NaN   \n",
       "1                229976.0             262328.0                           8.0   \n",
       "2                297996.0             396154.0                          29.0   \n",
       "3                256329.0             347666.0                           NaN   \n",
       "4                253460.0             176220.0                           NaN   \n",
       "\n",
       "   Number of Open Accounts  Tax Liens  Term  ...  Purpose_Medical Bills  \\\n",
       "0                      6.0        0.0     0  ...                      0   \n",
       "1                     35.0        0.0     0  ...                      0   \n",
       "2                     18.0        0.0     0  ...                      0   \n",
       "3                      9.0        0.0     1  ...                      0   \n",
       "4                     15.0        0.0     0  ...                      0   \n",
       "\n",
       "   Purpose_major_purchase  Purpose_moving  Purpose_small_business  \\\n",
       "0                       0               0                       0   \n",
       "1                       0               0                       0   \n",
       "2                       0               0                       0   \n",
       "3                       0               0                       0   \n",
       "4                       0               0                       0   \n",
       "\n",
       "   Purpose_vacation  Purpose_wedding  Is Months since last delinquent Missing  \\\n",
       "0                 0                0                                        1   \n",
       "1                 0                0                                        0   \n",
       "2                 0                0                                        0   \n",
       "3                 0                0                                        1   \n",
       "4                 0                0                                        1   \n",
       "\n",
       "        RMI       RMC  Loan Status  \n",
       "0  0.004467  0.012513          0.0  \n",
       "1  0.018305  0.039136          0.0  \n",
       "2  0.013083  0.038929          0.0  \n",
       "3  0.010833  0.022591          0.0  \n",
       "4  0.015468  0.048317          0.0  \n",
       "\n",
       "[5 rows x 34 columns]"
      ]
     },
     "execution_count": 53,
     "metadata": {},
     "output_type": "execute_result"
    }
   ],
   "source": [
    "df_c.head()"
   ]
  },
  {
   "cell_type": "code",
   "execution_count": 54,
   "metadata": {},
   "outputs": [],
   "source": [
    "df_c=df_c.drop(['Unnamed: 0','source'],axis=1)"
   ]
  },
  {
   "cell_type": "code",
   "execution_count": 55,
   "metadata": {},
   "outputs": [],
   "source": [
    "df_c['Months since last delinquent'] = df_c.groupby('Bankruptcies')['Months since last delinquent'].transform(lambda x: x.fillna(x.mode()[0]))"
   ]
  },
  {
   "cell_type": "code",
   "execution_count": 56,
   "metadata": {},
   "outputs": [
    {
     "name": "stdout",
     "output_type": "stream",
     "text": [
      "Years in current job                       1.000000\n",
      "Years of Credit History                    0.244336\n",
      "Current Credit Balance                     0.144644\n",
      "Current Loan Amount                        0.124678\n",
      "Annual Income                              0.112433\n",
      "RMI                                        0.069042\n",
      "Term                                       0.068322\n",
      "Number of Open Accounts                    0.054778\n",
      "Maximum Open Credit outlier                0.046818\n",
      "Purpose_Debt Consolidation                 0.041354\n",
      "Bankruptcies                               0.041277\n",
      "Current Credit Balance outlier             0.040409\n",
      "Purpose_Home Improvements                  0.030530\n",
      "Tax Liens                                  0.013372\n",
      "Home Ownership_Own Home                    0.011676\n",
      "Monthly Debt outlier                       0.010682\n",
      "Annual Income outlier                      0.004991\n",
      "Purpose_vacation                          -0.000210\n",
      "RMC                                       -0.001659\n",
      "Loan Status                               -0.003553\n",
      "Purpose_Medical Bills                     -0.005293\n",
      "Purpose_small_business                    -0.009814\n",
      "Purpose_moving                            -0.011247\n",
      "Months since last delinquent              -0.015444\n",
      "Purpose_major_purchase                    -0.016259\n",
      "Purpose_Educational Expenses              -0.017038\n",
      "Credit Score                              -0.017622\n",
      "Purpose_Buy House                         -0.019193\n",
      "Purpose_wedding                           -0.019279\n",
      "Purpose_Buy a Car                         -0.030123\n",
      "Is Months since last delinquent Missing   -0.066369\n",
      "Home Ownership_Rent                       -0.209282\n",
      "Name: Years in current job, dtype: float64\n"
     ]
    }
   ],
   "source": [
    "# Find all correlations between Features and 'Years in current job' \n",
    "cor = df.corr()['Years in current job'].sort_values(ascending=False)\n",
    "\n",
    "# Print the correlations\n",
    "print(cor)"
   ]
  },
  {
   "cell_type": "code",
   "execution_count": 57,
   "metadata": {},
   "outputs": [],
   "source": [
    "df_c['Years of Credit History_discrete']=pd.cut(df_c['Years of Credit History'],10)#binning Years of Credit History into 10 groups with simmilar "
   ]
  },
  {
   "cell_type": "code",
   "execution_count": 58,
   "metadata": {},
   "outputs": [],
   "source": [
    "# group by 'Years of Credit History_discrete' and fill in missing value by median of 'Years in current job' \n",
    "\n",
    "df_c['Years in current job'] = df_c.groupby('Years of Credit History_discrete')['Years in current job'].transform(lambda x: x.fillna(x.median()))"
   ]
  },
  {
   "cell_type": "code",
   "execution_count": 59,
   "metadata": {},
   "outputs": [],
   "source": [
    "df_c=df_c.drop('Years of Credit History_discrete',axis=1)"
   ]
  },
  {
   "cell_type": "code",
   "execution_count": 60,
   "metadata": {},
   "outputs": [
    {
     "data": {
      "text/plain": [
       "Annual Income                              0\n",
       "Bankruptcies                               0\n",
       "Credit Score                               0\n",
       "Current Credit Balance                     0\n",
       "Current Loan Amount                        0\n",
       "Months since last delinquent               0\n",
       "Number of Open Accounts                    0\n",
       "Tax Liens                                  0\n",
       "Term                                       0\n",
       "Years in current job                       0\n",
       "Years of Credit History                    0\n",
       "Annual Income outlier                      0\n",
       "Current Credit Balance outlier             0\n",
       "Maximum Open Credit outlier                0\n",
       "Monthly Debt outlier                       0\n",
       "Home Ownership_Own Home                    0\n",
       "Home Ownership_Rent                        0\n",
       "Purpose_Buy House                          0\n",
       "Purpose_Buy a Car                          0\n",
       "Purpose_Debt Consolidation                 0\n",
       "Purpose_Educational Expenses               0\n",
       "Purpose_Home Improvements                  0\n",
       "Purpose_Medical Bills                      0\n",
       "Purpose_major_purchase                     0\n",
       "Purpose_moving                             0\n",
       "Purpose_small_business                     0\n",
       "Purpose_vacation                           0\n",
       "Purpose_wedding                            0\n",
       "Is Months since last delinquent Missing    0\n",
       "RMI                                        0\n",
       "RMC                                        0\n",
       "Loan Status                                0\n",
       "dtype: int64"
      ]
     },
     "execution_count": 60,
     "metadata": {},
     "output_type": "execute_result"
    }
   ],
   "source": [
    "# counting missing values\n",
    "df_c.apply(lambda x: sum(x.isnull()))"
   ]
  },
  {
   "cell_type": "code",
   "execution_count": 61,
   "metadata": {},
   "outputs": [],
   "source": [
    "XNS=df_c.drop('Loan Status',axis=1)\n",
    "yNS=df_c['Loan Status']"
   ]
  },
  {
   "cell_type": "code",
   "execution_count": 62,
   "metadata": {},
   "outputs": [],
   "source": [
    "#splitting test and training sets\n",
    "XNS_train, XNS_test, yNS_train,yNS_test = train_test_split(XNS, yNS, random_state=0)"
   ]
  },
  {
   "cell_type": "code",
   "execution_count": 63,
   "metadata": {},
   "outputs": [
    {
     "data": {
      "text/plain": [
       "DecisionTreeClassifier(ccp_alpha=0.0, class_weight='balanced', criterion='gini',\n",
       "                       max_depth=3, max_features=None, max_leaf_nodes=None,\n",
       "                       min_impurity_decrease=0.0, min_impurity_split=None,\n",
       "                       min_samples_leaf=1, min_samples_split=2,\n",
       "                       min_weight_fraction_leaf=0.0, presort='deprecated',\n",
       "                       random_state=None, splitter='best')"
      ]
     },
     "execution_count": 63,
     "metadata": {},
     "output_type": "execute_result"
    }
   ],
   "source": [
    "DT = DecisionTreeClassifier(class_weight='balanced',max_depth=3)#max_depth=3 that means 3 questions\n",
    "DT.fit(XNS_train,yNS_train)"
   ]
  },
  {
   "cell_type": "code",
   "execution_count": 64,
   "metadata": {},
   "outputs": [],
   "source": [
    "yNS_pred = DT.predict(XNS_test)"
   ]
  },
  {
   "cell_type": "code",
   "execution_count": 65,
   "metadata": {},
   "outputs": [
    {
     "name": "stdout",
     "output_type": "stream",
     "text": [
      "0.5322997416020672\n"
     ]
    }
   ],
   "source": [
    "print(accuracy_score(yNS_test,yNS_pred))"
   ]
  },
  {
   "cell_type": "code",
   "execution_count": 66,
   "metadata": {},
   "outputs": [
    {
     "name": "stdout",
     "output_type": "stream",
     "text": [
      "              precision    recall  f1-score   support\n",
      "\n",
      "         0.0       0.81      0.49      0.61     16748\n",
      "         1.0       0.31      0.67      0.42      5698\n",
      "\n",
      "    accuracy                           0.53     22446\n",
      "   macro avg       0.56      0.58      0.51     22446\n",
      "weighted avg       0.68      0.53      0.56     22446\n",
      "\n"
     ]
    }
   ],
   "source": [
    "print(classification_report(yNS_test,yNS_pred))"
   ]
  },
  {
   "cell_type": "code",
   "execution_count": 67,
   "metadata": {},
   "outputs": [
    {
     "name": "stdout",
     "output_type": "stream",
     "text": [
      "Requirement already satisfied: graphviz in c:\\users\\hmdra\\appdata\\local\\continuum\\anaconda3\\lib\\site-packages (0.13.2)\n",
      "Note: you may need to restart the kernel to use updated packages.\n"
     ]
    }
   ],
   "source": [
    "pip install graphviz"
   ]
  },
  {
   "cell_type": "code",
   "execution_count": 68,
   "metadata": {},
   "outputs": [
    {
     "name": "stdout",
     "output_type": "stream",
     "text": [
      "Requirement already satisfied: pydotplus in c:\\users\\hmdra\\appdata\\local\\continuum\\anaconda3\\lib\\site-packages (2.0.2)\n",
      "Requirement already satisfied: pyparsing>=2.0.1 in c:\\users\\hmdra\\appdata\\local\\continuum\\anaconda3\\lib\\site-packages (from pydotplus) (2.4.2)\n",
      "Note: you may need to restart the kernel to use updated packages.\n"
     ]
    }
   ],
   "source": [
    "pip install pydotplus"
   ]
  },
  {
   "cell_type": "code",
   "execution_count": 69,
   "metadata": {},
   "outputs": [
    {
     "name": "stdout",
     "output_type": "stream",
     "text": [
      "Requirement already satisfied: graphviz in c:\\users\\hmdra\\appdata\\local\\continuum\\anaconda3\\lib\\site-packages (0.13.2)\n"
     ]
    }
   ],
   "source": [
    "!python -m pip install graphviz"
   ]
  },
  {
   "cell_type": "code",
   "execution_count": 70,
   "metadata": {},
   "outputs": [],
   "source": [
    "from sklearn.tree import export_graphviz\n",
    "from sklearn.externals.six import StringIO\n",
    "from IPython.display import Image\n",
    "import pydotplus"
   ]
  },
  {
   "cell_type": "code",
   "execution_count": 71,
   "metadata": {},
   "outputs": [
    {
     "data": {
      "text/plain": [
       "Index(['Annual Income', 'Bankruptcies', 'Credit Score',\n",
       "       'Current Credit Balance', 'Current Loan Amount',\n",
       "       'Months since last delinquent', 'Number of Open Accounts', 'Tax Liens',\n",
       "       'Term', 'Years in current job', 'Years of Credit History',\n",
       "       'Annual Income outlier', 'Current Credit Balance outlier',\n",
       "       'Maximum Open Credit outlier', 'Monthly Debt outlier',\n",
       "       'Home Ownership_Own Home', 'Home Ownership_Rent', 'Purpose_Buy House',\n",
       "       'Purpose_Buy a Car', 'Purpose_Debt Consolidation',\n",
       "       'Purpose_Educational Expenses', 'Purpose_Home Improvements',\n",
       "       'Purpose_Medical Bills', 'Purpose_major_purchase', 'Purpose_moving',\n",
       "       'Purpose_small_business', 'Purpose_vacation', 'Purpose_wedding',\n",
       "       'Is Months since last delinquent Missing', 'RMI', 'RMC', 'Loan Status'],\n",
       "      dtype='object')"
      ]
     },
     "execution_count": 71,
     "metadata": {},
     "output_type": "execute_result"
    }
   ],
   "source": [
    "df_c.columns"
   ]
  },
  {
   "cell_type": "code",
   "execution_count": 72,
   "metadata": {},
   "outputs": [
    {
     "data": {
      "text/plain": [
       "pandas.core.indexes.base.Index"
      ]
     },
     "execution_count": 72,
     "metadata": {},
     "output_type": "execute_result"
    }
   ],
   "source": [
    "type(df_c.columns)"
   ]
  },
  {
   "cell_type": "code",
   "execution_count": 73,
   "metadata": {},
   "outputs": [],
   "source": [
    "feature_names1=['Annual Income', 'Bankruptcies', 'Credit Score',\n",
    "       'Current Credit Balance', 'Current Loan Amount',\n",
    "       'Months since last delinquent', 'Number of Open Accounts', 'Tax Liens',\n",
    "       'Term', 'Years in current job', 'Years of Credit History',\n",
    "       'Annual Income outlier', 'Current Credit Balance outlier',\n",
    "       'Maximum Open Credit outlier', 'Monthly Debt outlier',\n",
    "       'Home Ownership_Own Home', 'Home Ownership_Rent', 'Purpose_Buy House',\n",
    "       'Purpose_Buy a Car', 'Purpose_Debt Consolidation',\n",
    "       'Purpose_Educational Expenses', 'Purpose_Home Improvements',\n",
    "       'Purpose_Medical Bills', 'Purpose_major_purchase', 'Purpose_moving',\n",
    "       'Purpose_small_business', 'Purpose_vacation', 'Purpose_wedding',\n",
    "       'Is Months since last delinquent Missing', 'RMI', 'RMC']"
   ]
  },
  {
   "cell_type": "code",
   "execution_count": 74,
   "metadata": {},
   "outputs": [],
   "source": [
    "dot_data = StringIO()\n",
    "export_graphviz(DT,\n",
    "                out_file=dot_data,\n",
    "                feature_names=feature_names1, # the feature names\n",
    "                filled=True,# Whether to fill in the boxes with colours\n",
    "                rounded=True,# Whether to round the corners of the boxes\n",
    "               special_characters=True,class_names=['0','1'])"
   ]
  },
  {
   "cell_type": "code",
   "execution_count": 75,
   "metadata": {},
   "outputs": [],
   "source": [
    "graph=pydotplus.graph_from_dot_data(dot_data.getvalue())"
   ]
  },
  {
   "cell_type": "code",
   "execution_count": 76,
   "metadata": {},
   "outputs": [],
   "source": [
    "import os\n",
    "os.environ[\"PATH\"]  +=os.pathsep + 'C:/Users/hmdra/AppData/Local/Continuum/anaconda3/Library/bin/graphviz'"
   ]
  },
  {
   "cell_type": "code",
   "execution_count": 77,
   "metadata": {},
   "outputs": [
    {
     "data": {
      "image/png": "[encoded data removed]",
      "text/plain": [
       "<IPython.core.display.Image object>"
      ]
     },
     "execution_count": 77,
     "metadata": {},
     "output_type": "execute_result"
    }
   ],
   "source": [
    "Image(graph.create_png())"
   ]
  },
  {
   "cell_type": "markdown",
   "metadata": {},
   "source": [
    "### For down sampling balanced and scaled data"
   ]
  },
  {
   "cell_type": "raw",
   "metadata": {},
   "source": [
    "let's first find the best max_depth"
   ]
  },
  {
   "cell_type": "code",
   "execution_count": 78,
   "metadata": {},
   "outputs": [],
   "source": [
    "scores = []\n",
    "for i in range(1,15):\n",
    "    dt = DecisionTreeClassifier(max_depth=i)\n",
    "    scores.append(cross_val_score(dt,X,y,cv=4).mean())"
   ]
  },
  {
   "cell_type": "code",
   "execution_count": 79,
   "metadata": {},
   "outputs": [
    {
     "data": {
      "text/plain": [
       "Text(0.5, 1.0, 'Finding optimal max_depth')"
      ]
     },
     "execution_count": 79,
     "metadata": {},
     "output_type": "execute_result"
    },
    {
     "data": {
      "image/png": "[encoded data removed]",
      "text/plain": [
       "<Figure size 432x288 with 1 Axes>"
      ]
     },
     "metadata": {
      "needs_background": "light"
     },
     "output_type": "display_data"
    }
   ],
   "source": [
    "import matplotlib.pyplot as plt\n",
    "plt.plot(range(1,15),scores)\n",
    "plt.xlabel(\"max_depth\")\n",
    "plt.ylabel(\"Accuracy\")\n",
    "plt.title(\"Finding optimal max_depth\")"
   ]
  },
  {
   "cell_type": "code",
   "execution_count": 80,
   "metadata": {},
   "outputs": [
    {
     "data": {
      "text/plain": [
       "0.5025180845178148"
      ]
     },
     "execution_count": 80,
     "metadata": {},
     "output_type": "execute_result"
    }
   ],
   "source": [
    "max(scores)"
   ]
  },
  {
   "cell_type": "code",
   "execution_count": 81,
   "metadata": {},
   "outputs": [
    {
     "data": {
      "text/plain": [
       "5"
      ]
     },
     "execution_count": 81,
     "metadata": {},
     "output_type": "execute_result"
    }
   ],
   "source": [
    "scores.index(max(scores))#since indexes start from 0 [1,2,3,4,5,6,...]==> max depth=6"
   ]
  },
  {
   "cell_type": "code",
   "execution_count": 82,
   "metadata": {},
   "outputs": [],
   "source": [
    "scores = []\n",
    "for i in range(1,15):\n",
    "    dt = DecisionTreeClassifier(max_depth=i)\n",
    "    scores.append(cross_val_score(dt,X,y,cv=4,scoring='f1').mean())"
   ]
  },
  {
   "cell_type": "code",
   "execution_count": 83,
   "metadata": {},
   "outputs": [
    {
     "data": {
      "text/plain": [
       "Text(0.5, 1.0, 'Finding optimal max_depth')"
      ]
     },
     "execution_count": 83,
     "metadata": {},
     "output_type": "execute_result"
    },
    {
     "data": {
      "image/png": "[encoded data removed]",
      "text/plain": [
       "<Figure size 432x288 with 1 Axes>"
      ]
     },
     "metadata": {
      "needs_background": "light"
     },
     "output_type": "display_data"
    }
   ],
   "source": [
    "plt.plot(range(1,15),scores)\n",
    "plt.xlabel(\"max_depth\")\n",
    "plt.ylabel(\"f1\")\n",
    "plt.title(\"Finding optimal max_depth\")"
   ]
  },
  {
   "cell_type": "code",
   "execution_count": 84,
   "metadata": {},
   "outputs": [
    {
     "data": {
      "text/plain": [
       "DecisionTreeClassifier(ccp_alpha=0.0, class_weight=None, criterion='gini',\n",
       "                       max_depth=6, max_features=None, max_leaf_nodes=None,\n",
       "                       min_impurity_decrease=0.0, min_impurity_split=None,\n",
       "                       min_samples_leaf=1, min_samples_split=2,\n",
       "                       min_weight_fraction_leaf=0.0, presort='deprecated',\n",
       "                       random_state=None, splitter='best')"
      ]
     },
     "execution_count": 84,
     "metadata": {},
     "output_type": "execute_result"
    }
   ],
   "source": [
    "model2 = DecisionTreeClassifier(max_depth=6)\n",
    "model2.fit(X_train,y_train)"
   ]
  },
  {
   "cell_type": "code",
   "execution_count": 85,
   "metadata": {},
   "outputs": [],
   "source": [
    "y_pred2 = model2.predict(X_test)"
   ]
  },
  {
   "cell_type": "markdown",
   "metadata": {},
   "source": [
    "### Model evaluation"
   ]
  },
  {
   "cell_type": "code",
   "execution_count": 86,
   "metadata": {},
   "outputs": [
    {
     "name": "stdout",
     "output_type": "stream",
     "text": [
      "0.5174956384344448\n"
     ]
    }
   ],
   "source": [
    "print(accuracy_score(y_train,model2.predict(X_train)))"
   ]
  },
  {
   "cell_type": "code",
   "execution_count": 87,
   "metadata": {},
   "outputs": [
    {
     "name": "stdout",
     "output_type": "stream",
     "text": [
      "0.503604226325664\n"
     ]
    }
   ],
   "source": [
    "print(accuracy_score(y_test,y_pred2))"
   ]
  },
  {
   "cell_type": "code",
   "execution_count": 88,
   "metadata": {},
   "outputs": [
    {
     "name": "stdout",
     "output_type": "stream",
     "text": [
      "confusion_matrix =\n"
     ]
    },
    {
     "data": {
      "text/plain": [
       "array([[1869, 3160],\n",
       "       [1867, 3231]], dtype=int64)"
      ]
     },
     "execution_count": 88,
     "metadata": {},
     "output_type": "execute_result"
    }
   ],
   "source": [
    "print('confusion_matrix =')\n",
    "confusion_matrix(y_test,y_pred2)"
   ]
  },
  {
   "cell_type": "code",
   "execution_count": 89,
   "metadata": {},
   "outputs": [
    {
     "name": "stdout",
     "output_type": "stream",
     "text": [
      "              precision    recall  f1-score   support\n",
      "\n",
      "         0.0       0.50      0.37      0.43      5029\n",
      "         1.0       0.51      0.63      0.56      5098\n",
      "\n",
      "    accuracy                           0.50     10127\n",
      "   macro avg       0.50      0.50      0.49     10127\n",
      "weighted avg       0.50      0.50      0.49     10127\n",
      "\n"
     ]
    }
   ],
   "source": [
    "print(classification_report(y_test,y_pred2))"
   ]
  },
  {
   "cell_type": "code",
   "execution_count": 90,
   "metadata": {},
   "outputs": [
    {
     "data": {
      "text/plain": [
       "0.5016538699535495"
      ]
     },
     "execution_count": 90,
     "metadata": {},
     "output_type": "execute_result"
    }
   ],
   "source": [
    "\"\"\"K-FOLD CROSSVALIDATION\"\"\"\n",
    "DT =DecisionTreeClassifier(max_depth=6)\n",
    "scores=cross_val_score(DT,X,y,cv=5)\n",
    "scores.mean()"
   ]
  },
  {
   "cell_type": "code",
   "execution_count": 91,
   "metadata": {},
   "outputs": [
    {
     "data": {
      "text/plain": [
       "0.582827932802099"
      ]
     },
     "execution_count": 91,
     "metadata": {},
     "output_type": "execute_result"
    }
   ],
   "source": [
    "DT =DecisionTreeClassifier(max_depth=6)\n",
    "scores=cross_val_score(DT,X,y,cv=5,scoring='f1')\n",
    "scores.mean()"
   ]
  },
  {
   "cell_type": "markdown",
   "metadata": {},
   "source": [
    "# \"\"\"Tuning\"\"\""
   ]
  },
  {
   "cell_type": "markdown",
   "metadata": {},
   "source": [
    "### Hyperparameter Tuning with Grid Search and Cross Validation"
   ]
  },
  {
   "cell_type": "code",
   "execution_count": 92,
   "metadata": {},
   "outputs": [],
   "source": [
    "from sklearn.model_selection import GridSearchCV"
   ]
  },
  {
   "cell_type": "markdown",
   "metadata": {},
   "source": [
    "### For down sampling balanced data"
   ]
  },
  {
   "cell_type": "code",
   "execution_count": 93,
   "metadata": {},
   "outputs": [
    {
     "data": {
      "text/plain": [
       "{'criterion': 'gini',\n",
       " 'max_depth': 7,\n",
       " 'min_samples_leaf': 3,\n",
       " 'min_samples_split': 5}"
      ]
     },
     "execution_count": 93,
     "metadata": {},
     "output_type": "execute_result"
    }
   ],
   "source": [
    "DT =DecisionTreeClassifier()\n",
    "param= {'criterion':['gini','entropy'],'max_depth':[3,4,5,6,7,8],'min_samples_split':[3,4,5,6],'min_samples_leaf':[2,3,4]}\n",
    "model=GridSearchCV(DT,param,cv=5,scoring='f1')\n",
    "model.fit(X_train,y_train)\n",
    "model.best_params_"
   ]
  },
  {
   "cell_type": "code",
   "execution_count": 94,
   "metadata": {},
   "outputs": [
    {
     "data": {
      "text/plain": [
       "0.5013329737246235"
      ]
     },
     "execution_count": 94,
     "metadata": {},
     "output_type": "execute_result"
    }
   ],
   "source": [
    "DT = DecisionTreeClassifier(criterion= 'gini',\n",
    "                            max_depth=7,\n",
    "                            min_samples_leaf=3,\n",
    "                            min_samples_split= 6)\n",
    "scores=cross_val_score(DT,X,y,cv=5)\n",
    "DT_DS_score=scores.mean()\n",
    "DT_DS_score"
   ]
  },
  {
   "cell_type": "code",
   "execution_count": 95,
   "metadata": {},
   "outputs": [
    {
     "data": {
      "text/plain": [
       "0.5846269887361061"
      ]
     },
     "execution_count": 95,
     "metadata": {},
     "output_type": "execute_result"
    }
   ],
   "source": [
    "DT = DecisionTreeClassifier(criterion='gini',\n",
    "                                max_depth=7,\n",
    "                                min_samples_leaf= 3,\n",
    "                                min_samples_split= 3)\n",
    "scores=cross_val_score(DT,X,y,cv=5,scoring='f1')\n",
    "DT_DS_f1score=scores.mean()\n",
    "DT_DS_f1score"
   ]
  },
  {
   "cell_type": "markdown",
   "metadata": {},
   "source": [
    "### For balanced data with SMOTE method (over sampling balanced data)"
   ]
  },
  {
   "cell_type": "code",
   "execution_count": 96,
   "metadata": {},
   "outputs": [
    {
     "data": {
      "text/plain": [
       "{'criterion': 'gini',\n",
       " 'max_depth': 7,\n",
       " 'min_samples_leaf': 3,\n",
       " 'min_samples_split': 5}"
      ]
     },
     "execution_count": 96,
     "metadata": {},
     "output_type": "execute_result"
    }
   ],
   "source": [
    "DT =DecisionTreeClassifier()\n",
    "param= {'criterion':['gini','entropy'],'max_depth':[3,4,5,6,7,8],'min_samples_split':[3,4,5,6],'min_samples_leaf':[2,3,4]}\n",
    "model=GridSearchCV(DT,param,cv=5,scoring='f1')\n",
    "model.fit(X2_train,y2_train)\n",
    "model.best_params_"
   ]
  },
  {
   "cell_type": "code",
   "execution_count": 97,
   "metadata": {},
   "outputs": [
    {
     "data": {
      "text/plain": [
       "0.582511307621872"
      ]
     },
     "execution_count": 97,
     "metadata": {},
     "output_type": "execute_result"
    }
   ],
   "source": [
    "DT = DecisionTreeClassifier(criterion='gini',\n",
    "                            max_depth= 7,\n",
    "                            min_samples_leaf=3 ,\n",
    "                            min_samples_split=5 )\n",
    "scores=cross_val_score(DT,X2,y2,cv=5)\n",
    "DT_OS_score=scores.mean()\n",
    "DT_OS_score"
   ]
  },
  {
   "cell_type": "code",
   "execution_count": 98,
   "metadata": {},
   "outputs": [
    {
     "data": {
      "text/plain": [
       "0.6676579148365868"
      ]
     },
     "execution_count": 98,
     "metadata": {},
     "output_type": "execute_result"
    }
   ],
   "source": [
    "DT = DecisionTreeClassifier(criterion='entropy',\n",
    "                                max_depth= 7,\n",
    "                                min_samples_leaf= 3,\n",
    "                                min_samples_split= 5)\n",
    "scores=cross_val_score(DT,X2,y2,cv=5,scoring='f1')\n",
    "DT_OS_f1score=scores.mean()\n",
    "DT_OS_f1score"
   ]
  },
  {
   "cell_type": "markdown",
   "metadata": {},
   "source": [
    "### For class_weight='balanced' (Cost-Sensitive Training)"
   ]
  },
  {
   "cell_type": "code",
   "execution_count": 99,
   "metadata": {},
   "outputs": [
    {
     "ename": "KeyboardInterrupt",
     "evalue": "",
     "output_type": "error",
     "traceback": [
      "\u001b[1;31m---------------------------------------------------------------------------\u001b[0m",
      "\u001b[1;31mKeyboardInterrupt\u001b[0m                         Traceback (most recent call last)",
      "\u001b[1;32m<ipython-input-99-722c54dd2a55>\u001b[0m in \u001b[0;36m<module>\u001b[1;34m\u001b[0m\n\u001b[0;32m      2\u001b[0m \u001b[0mparam\u001b[0m\u001b[1;33m=\u001b[0m \u001b[1;33m{\u001b[0m\u001b[1;34m'criterion'\u001b[0m\u001b[1;33m:\u001b[0m\u001b[1;33m[\u001b[0m\u001b[1;34m'gini'\u001b[0m\u001b[1;33m,\u001b[0m\u001b[1;34m'entropy'\u001b[0m\u001b[1;33m]\u001b[0m\u001b[1;33m,\u001b[0m\u001b[1;34m'max_depth'\u001b[0m\u001b[1;33m:\u001b[0m\u001b[1;33m[\u001b[0m\u001b[1;36m3\u001b[0m\u001b[1;33m,\u001b[0m\u001b[1;36m4\u001b[0m\u001b[1;33m,\u001b[0m\u001b[1;36m5\u001b[0m\u001b[1;33m,\u001b[0m\u001b[1;36m6\u001b[0m\u001b[1;33m,\u001b[0m\u001b[1;36m7\u001b[0m\u001b[1;33m,\u001b[0m\u001b[1;36m8\u001b[0m\u001b[1;33m]\u001b[0m\u001b[1;33m,\u001b[0m\u001b[1;34m'min_samples_split'\u001b[0m\u001b[1;33m:\u001b[0m\u001b[1;33m[\u001b[0m\u001b[1;36m3\u001b[0m\u001b[1;33m,\u001b[0m\u001b[1;36m4\u001b[0m\u001b[1;33m,\u001b[0m\u001b[1;36m5\u001b[0m\u001b[1;33m,\u001b[0m\u001b[1;36m6\u001b[0m\u001b[1;33m]\u001b[0m\u001b[1;33m,\u001b[0m\u001b[1;34m'min_samples_leaf'\u001b[0m\u001b[1;33m:\u001b[0m\u001b[1;33m[\u001b[0m\u001b[1;36m2\u001b[0m\u001b[1;33m,\u001b[0m\u001b[1;36m3\u001b[0m\u001b[1;33m,\u001b[0m\u001b[1;36m4\u001b[0m\u001b[1;33m]\u001b[0m\u001b[1;33m}\u001b[0m\u001b[1;33m\u001b[0m\u001b[1;33m\u001b[0m\u001b[0m\n\u001b[0;32m      3\u001b[0m \u001b[0mmodel\u001b[0m\u001b[1;33m=\u001b[0m\u001b[0mGridSearchCV\u001b[0m\u001b[1;33m(\u001b[0m\u001b[0mDT\u001b[0m\u001b[1;33m,\u001b[0m\u001b[0mparam\u001b[0m\u001b[1;33m,\u001b[0m\u001b[0mcv\u001b[0m\u001b[1;33m=\u001b[0m\u001b[1;36m5\u001b[0m\u001b[1;33m,\u001b[0m\u001b[0mscoring\u001b[0m\u001b[1;33m=\u001b[0m\u001b[1;34m'f1'\u001b[0m\u001b[1;33m)\u001b[0m\u001b[1;33m\u001b[0m\u001b[1;33m\u001b[0m\u001b[0m\n\u001b[1;32m----> 4\u001b[1;33m \u001b[0mmodel\u001b[0m\u001b[1;33m.\u001b[0m\u001b[0mfit\u001b[0m\u001b[1;33m(\u001b[0m\u001b[0mX1_train\u001b[0m\u001b[1;33m,\u001b[0m\u001b[0my1_train\u001b[0m\u001b[1;33m)\u001b[0m\u001b[1;33m\u001b[0m\u001b[1;33m\u001b[0m\u001b[0m\n\u001b[0m\u001b[0;32m      5\u001b[0m \u001b[0mmodel\u001b[0m\u001b[1;33m.\u001b[0m\u001b[0mbest_params_\u001b[0m\u001b[1;33m\u001b[0m\u001b[1;33m\u001b[0m\u001b[0m\n",
      "\u001b[1;32m~\\AppData\\Local\\Continuum\\anaconda3\\lib\\site-packages\\sklearn\\model_selection\\_search.py\u001b[0m in \u001b[0;36mfit\u001b[1;34m(self, X, y, groups, **fit_params)\u001b[0m\n\u001b[0;32m    708\u001b[0m                 \u001b[1;32mreturn\u001b[0m \u001b[0mresults\u001b[0m\u001b[1;33m\u001b[0m\u001b[1;33m\u001b[0m\u001b[0m\n\u001b[0;32m    709\u001b[0m \u001b[1;33m\u001b[0m\u001b[0m\n\u001b[1;32m--> 710\u001b[1;33m             \u001b[0mself\u001b[0m\u001b[1;33m.\u001b[0m\u001b[0m_run_search\u001b[0m\u001b[1;33m(\u001b[0m\u001b[0mevaluate_candidates\u001b[0m\u001b[1;33m)\u001b[0m\u001b[1;33m\u001b[0m\u001b[1;33m\u001b[0m\u001b[0m\n\u001b[0m\u001b[0;32m    711\u001b[0m \u001b[1;33m\u001b[0m\u001b[0m\n\u001b[0;32m    712\u001b[0m         \u001b[1;31m# For multi-metric evaluation, store the best_index_, best_params_ and\u001b[0m\u001b[1;33m\u001b[0m\u001b[1;33m\u001b[0m\u001b[1;33m\u001b[0m\u001b[0m\n",
      "\u001b[1;32m~\\AppData\\Local\\Continuum\\anaconda3\\lib\\site-packages\\sklearn\\model_selection\\_search.py\u001b[0m in \u001b[0;36m_run_search\u001b[1;34m(self, evaluate_candidates)\u001b[0m\n\u001b[0;32m   1149\u001b[0m     \u001b[1;32mdef\u001b[0m \u001b[0m_run_search\u001b[0m\u001b[1;33m(\u001b[0m\u001b[0mself\u001b[0m\u001b[1;33m,\u001b[0m \u001b[0mevaluate_candidates\u001b[0m\u001b[1;33m)\u001b[0m\u001b[1;33m:\u001b[0m\u001b[1;33m\u001b[0m\u001b[1;33m\u001b[0m\u001b[0m\n\u001b[0;32m   1150\u001b[0m         \u001b[1;34m\"\"\"Search all candidates in param_grid\"\"\"\u001b[0m\u001b[1;33m\u001b[0m\u001b[1;33m\u001b[0m\u001b[0m\n\u001b[1;32m-> 1151\u001b[1;33m         \u001b[0mevaluate_candidates\u001b[0m\u001b[1;33m(\u001b[0m\u001b[0mParameterGrid\u001b[0m\u001b[1;33m(\u001b[0m\u001b[0mself\u001b[0m\u001b[1;33m.\u001b[0m\u001b[0mparam_grid\u001b[0m\u001b[1;33m)\u001b[0m\u001b[1;33m)\u001b[0m\u001b[1;33m\u001b[0m\u001b[1;33m\u001b[0m\u001b[0m\n\u001b[0m\u001b[0;32m   1152\u001b[0m \u001b[1;33m\u001b[0m\u001b[0m\n\u001b[0;32m   1153\u001b[0m \u001b[1;33m\u001b[0m\u001b[0m\n",
      "\u001b[1;32m~\\AppData\\Local\\Continuum\\anaconda3\\lib\\site-packages\\sklearn\\model_selection\\_search.py\u001b[0m in \u001b[0;36mevaluate_candidates\u001b[1;34m(candidate_params)\u001b[0m\n\u001b[0;32m    687\u001b[0m                                \u001b[1;32mfor\u001b[0m \u001b[0mparameters\u001b[0m\u001b[1;33m,\u001b[0m \u001b[1;33m(\u001b[0m\u001b[0mtrain\u001b[0m\u001b[1;33m,\u001b[0m \u001b[0mtest\u001b[0m\u001b[1;33m)\u001b[0m\u001b[1;33m\u001b[0m\u001b[1;33m\u001b[0m\u001b[0m\n\u001b[0;32m    688\u001b[0m                                in product(candidate_params,\n\u001b[1;32m--> 689\u001b[1;33m                                           cv.split(X, y, groups)))\n\u001b[0m\u001b[0;32m    690\u001b[0m \u001b[1;33m\u001b[0m\u001b[0m\n\u001b[0;32m    691\u001b[0m                 \u001b[1;32mif\u001b[0m \u001b[0mlen\u001b[0m\u001b[1;33m(\u001b[0m\u001b[0mout\u001b[0m\u001b[1;33m)\u001b[0m \u001b[1;33m<\u001b[0m \u001b[1;36m1\u001b[0m\u001b[1;33m:\u001b[0m\u001b[1;33m\u001b[0m\u001b[1;33m\u001b[0m\u001b[0m\n",
      "\u001b[1;32m~\\AppData\\Local\\Continuum\\anaconda3\\lib\\site-packages\\joblib\\parallel.py\u001b[0m in \u001b[0;36m__call__\u001b[1;34m(self, iterable)\u001b[0m\n\u001b[0;32m   1044\u001b[0m                 \u001b[0mself\u001b[0m\u001b[1;33m.\u001b[0m\u001b[0m_iterating\u001b[0m \u001b[1;33m=\u001b[0m \u001b[0mself\u001b[0m\u001b[1;33m.\u001b[0m\u001b[0m_original_iterator\u001b[0m \u001b[1;32mis\u001b[0m \u001b[1;32mnot\u001b[0m \u001b[1;32mNone\u001b[0m\u001b[1;33m\u001b[0m\u001b[1;33m\u001b[0m\u001b[0m\n\u001b[0;32m   1045\u001b[0m \u001b[1;33m\u001b[0m\u001b[0m\n\u001b[1;32m-> 1046\u001b[1;33m             \u001b[1;32mwhile\u001b[0m \u001b[0mself\u001b[0m\u001b[1;33m.\u001b[0m\u001b[0mdispatch_one_batch\u001b[0m\u001b[1;33m(\u001b[0m\u001b[0miterator\u001b[0m\u001b[1;33m)\u001b[0m\u001b[1;33m:\u001b[0m\u001b[1;33m\u001b[0m\u001b[1;33m\u001b[0m\u001b[0m\n\u001b[0m\u001b[0;32m   1047\u001b[0m                 \u001b[1;32mpass\u001b[0m\u001b[1;33m\u001b[0m\u001b[1;33m\u001b[0m\u001b[0m\n\u001b[0;32m   1048\u001b[0m \u001b[1;33m\u001b[0m\u001b[0m\n",
      "\u001b[1;32m~\\AppData\\Local\\Continuum\\anaconda3\\lib\\site-packages\\joblib\\parallel.py\u001b[0m in \u001b[0;36mdispatch_one_batch\u001b[1;34m(self, iterator)\u001b[0m\n\u001b[0;32m    859\u001b[0m                 \u001b[1;32mreturn\u001b[0m \u001b[1;32mFalse\u001b[0m\u001b[1;33m\u001b[0m\u001b[1;33m\u001b[0m\u001b[0m\n\u001b[0;32m    860\u001b[0m             \u001b[1;32melse\u001b[0m\u001b[1;33m:\u001b[0m\u001b[1;33m\u001b[0m\u001b[1;33m\u001b[0m\u001b[0m\n\u001b[1;32m--> 861\u001b[1;33m                 \u001b[0mself\u001b[0m\u001b[1;33m.\u001b[0m\u001b[0m_dispatch\u001b[0m\u001b[1;33m(\u001b[0m\u001b[0mtasks\u001b[0m\u001b[1;33m)\u001b[0m\u001b[1;33m\u001b[0m\u001b[1;33m\u001b[0m\u001b[0m\n\u001b[0m\u001b[0;32m    862\u001b[0m                 \u001b[1;32mreturn\u001b[0m \u001b[1;32mTrue\u001b[0m\u001b[1;33m\u001b[0m\u001b[1;33m\u001b[0m\u001b[0m\n\u001b[0;32m    863\u001b[0m \u001b[1;33m\u001b[0m\u001b[0m\n",
      "\u001b[1;32m~\\AppData\\Local\\Continuum\\anaconda3\\lib\\site-packages\\joblib\\parallel.py\u001b[0m in \u001b[0;36m_dispatch\u001b[1;34m(self, batch)\u001b[0m\n\u001b[0;32m    777\u001b[0m         \u001b[1;32mwith\u001b[0m \u001b[0mself\u001b[0m\u001b[1;33m.\u001b[0m\u001b[0m_lock\u001b[0m\u001b[1;33m:\u001b[0m\u001b[1;33m\u001b[0m\u001b[1;33m\u001b[0m\u001b[0m\n\u001b[0;32m    778\u001b[0m             \u001b[0mjob_idx\u001b[0m \u001b[1;33m=\u001b[0m \u001b[0mlen\u001b[0m\u001b[1;33m(\u001b[0m\u001b[0mself\u001b[0m\u001b[1;33m.\u001b[0m\u001b[0m_jobs\u001b[0m\u001b[1;33m)\u001b[0m\u001b[1;33m\u001b[0m\u001b[1;33m\u001b[0m\u001b[0m\n\u001b[1;32m--> 779\u001b[1;33m             \u001b[0mjob\u001b[0m \u001b[1;33m=\u001b[0m \u001b[0mself\u001b[0m\u001b[1;33m.\u001b[0m\u001b[0m_backend\u001b[0m\u001b[1;33m.\u001b[0m\u001b[0mapply_async\u001b[0m\u001b[1;33m(\u001b[0m\u001b[0mbatch\u001b[0m\u001b[1;33m,\u001b[0m \u001b[0mcallback\u001b[0m\u001b[1;33m=\u001b[0m\u001b[0mcb\u001b[0m\u001b[1;33m)\u001b[0m\u001b[1;33m\u001b[0m\u001b[1;33m\u001b[0m\u001b[0m\n\u001b[0m\u001b[0;32m    780\u001b[0m             \u001b[1;31m# A job can complete so quickly than its callback is\u001b[0m\u001b[1;33m\u001b[0m\u001b[1;33m\u001b[0m\u001b[1;33m\u001b[0m\u001b[0m\n\u001b[0;32m    781\u001b[0m             \u001b[1;31m# called before we get here, causing self._jobs to\u001b[0m\u001b[1;33m\u001b[0m\u001b[1;33m\u001b[0m\u001b[1;33m\u001b[0m\u001b[0m\n",
      "\u001b[1;32m~\\AppData\\Local\\Continuum\\anaconda3\\lib\\site-packages\\joblib\\_parallel_backends.py\u001b[0m in \u001b[0;36mapply_async\u001b[1;34m(self, func, callback)\u001b[0m\n\u001b[0;32m    206\u001b[0m     \u001b[1;32mdef\u001b[0m \u001b[0mapply_async\u001b[0m\u001b[1;33m(\u001b[0m\u001b[0mself\u001b[0m\u001b[1;33m,\u001b[0m \u001b[0mfunc\u001b[0m\u001b[1;33m,\u001b[0m \u001b[0mcallback\u001b[0m\u001b[1;33m=\u001b[0m\u001b[1;32mNone\u001b[0m\u001b[1;33m)\u001b[0m\u001b[1;33m:\u001b[0m\u001b[1;33m\u001b[0m\u001b[1;33m\u001b[0m\u001b[0m\n\u001b[0;32m    207\u001b[0m         \u001b[1;34m\"\"\"Schedule a func to be run\"\"\"\u001b[0m\u001b[1;33m\u001b[0m\u001b[1;33m\u001b[0m\u001b[0m\n\u001b[1;32m--> 208\u001b[1;33m         \u001b[0mresult\u001b[0m \u001b[1;33m=\u001b[0m \u001b[0mImmediateResult\u001b[0m\u001b[1;33m(\u001b[0m\u001b[0mfunc\u001b[0m\u001b[1;33m)\u001b[0m\u001b[1;33m\u001b[0m\u001b[1;33m\u001b[0m\u001b[0m\n\u001b[0m\u001b[0;32m    209\u001b[0m         \u001b[1;32mif\u001b[0m \u001b[0mcallback\u001b[0m\u001b[1;33m:\u001b[0m\u001b[1;33m\u001b[0m\u001b[1;33m\u001b[0m\u001b[0m\n\u001b[0;32m    210\u001b[0m             \u001b[0mcallback\u001b[0m\u001b[1;33m(\u001b[0m\u001b[0mresult\u001b[0m\u001b[1;33m)\u001b[0m\u001b[1;33m\u001b[0m\u001b[1;33m\u001b[0m\u001b[0m\n",
      "\u001b[1;32m~\\AppData\\Local\\Continuum\\anaconda3\\lib\\site-packages\\joblib\\_parallel_backends.py\u001b[0m in \u001b[0;36m__init__\u001b[1;34m(self, batch)\u001b[0m\n\u001b[0;32m    570\u001b[0m         \u001b[1;31m# Don't delay the application, to avoid keeping the input\u001b[0m\u001b[1;33m\u001b[0m\u001b[1;33m\u001b[0m\u001b[1;33m\u001b[0m\u001b[0m\n\u001b[0;32m    571\u001b[0m         \u001b[1;31m# arguments in memory\u001b[0m\u001b[1;33m\u001b[0m\u001b[1;33m\u001b[0m\u001b[1;33m\u001b[0m\u001b[0m\n\u001b[1;32m--> 572\u001b[1;33m         \u001b[0mself\u001b[0m\u001b[1;33m.\u001b[0m\u001b[0mresults\u001b[0m \u001b[1;33m=\u001b[0m \u001b[0mbatch\u001b[0m\u001b[1;33m(\u001b[0m\u001b[1;33m)\u001b[0m\u001b[1;33m\u001b[0m\u001b[1;33m\u001b[0m\u001b[0m\n\u001b[0m\u001b[0;32m    573\u001b[0m \u001b[1;33m\u001b[0m\u001b[0m\n\u001b[0;32m    574\u001b[0m     \u001b[1;32mdef\u001b[0m \u001b[0mget\u001b[0m\u001b[1;33m(\u001b[0m\u001b[0mself\u001b[0m\u001b[1;33m)\u001b[0m\u001b[1;33m:\u001b[0m\u001b[1;33m\u001b[0m\u001b[1;33m\u001b[0m\u001b[0m\n",
      "\u001b[1;32m~\\AppData\\Local\\Continuum\\anaconda3\\lib\\site-packages\\joblib\\parallel.py\u001b[0m in \u001b[0;36m__call__\u001b[1;34m(self)\u001b[0m\n\u001b[0;32m    261\u001b[0m         \u001b[1;32mwith\u001b[0m \u001b[0mparallel_backend\u001b[0m\u001b[1;33m(\u001b[0m\u001b[0mself\u001b[0m\u001b[1;33m.\u001b[0m\u001b[0m_backend\u001b[0m\u001b[1;33m,\u001b[0m \u001b[0mn_jobs\u001b[0m\u001b[1;33m=\u001b[0m\u001b[0mself\u001b[0m\u001b[1;33m.\u001b[0m\u001b[0m_n_jobs\u001b[0m\u001b[1;33m)\u001b[0m\u001b[1;33m:\u001b[0m\u001b[1;33m\u001b[0m\u001b[1;33m\u001b[0m\u001b[0m\n\u001b[0;32m    262\u001b[0m             return [func(*args, **kwargs)\n\u001b[1;32m--> 263\u001b[1;33m                     for func, args, kwargs in self.items]\n\u001b[0m\u001b[0;32m    264\u001b[0m \u001b[1;33m\u001b[0m\u001b[0m\n\u001b[0;32m    265\u001b[0m     \u001b[1;32mdef\u001b[0m \u001b[0m__reduce__\u001b[0m\u001b[1;33m(\u001b[0m\u001b[0mself\u001b[0m\u001b[1;33m)\u001b[0m\u001b[1;33m:\u001b[0m\u001b[1;33m\u001b[0m\u001b[1;33m\u001b[0m\u001b[0m\n",
      "\u001b[1;32m~\\AppData\\Local\\Continuum\\anaconda3\\lib\\site-packages\\joblib\\parallel.py\u001b[0m in \u001b[0;36m<listcomp>\u001b[1;34m(.0)\u001b[0m\n\u001b[0;32m    261\u001b[0m         \u001b[1;32mwith\u001b[0m \u001b[0mparallel_backend\u001b[0m\u001b[1;33m(\u001b[0m\u001b[0mself\u001b[0m\u001b[1;33m.\u001b[0m\u001b[0m_backend\u001b[0m\u001b[1;33m,\u001b[0m \u001b[0mn_jobs\u001b[0m\u001b[1;33m=\u001b[0m\u001b[0mself\u001b[0m\u001b[1;33m.\u001b[0m\u001b[0m_n_jobs\u001b[0m\u001b[1;33m)\u001b[0m\u001b[1;33m:\u001b[0m\u001b[1;33m\u001b[0m\u001b[1;33m\u001b[0m\u001b[0m\n\u001b[0;32m    262\u001b[0m             return [func(*args, **kwargs)\n\u001b[1;32m--> 263\u001b[1;33m                     for func, args, kwargs in self.items]\n\u001b[0m\u001b[0;32m    264\u001b[0m \u001b[1;33m\u001b[0m\u001b[0m\n\u001b[0;32m    265\u001b[0m     \u001b[1;32mdef\u001b[0m \u001b[0m__reduce__\u001b[0m\u001b[1;33m(\u001b[0m\u001b[0mself\u001b[0m\u001b[1;33m)\u001b[0m\u001b[1;33m:\u001b[0m\u001b[1;33m\u001b[0m\u001b[1;33m\u001b[0m\u001b[0m\n",
      "\u001b[1;32m~\\AppData\\Local\\Continuum\\anaconda3\\lib\\site-packages\\sklearn\\model_selection\\_validation.py\u001b[0m in \u001b[0;36m_fit_and_score\u001b[1;34m(estimator, X, y, scorer, train, test, verbose, parameters, fit_params, return_train_score, return_parameters, return_n_test_samples, return_times, return_estimator, error_score)\u001b[0m\n\u001b[0;32m    513\u001b[0m             \u001b[0mestimator\u001b[0m\u001b[1;33m.\u001b[0m\u001b[0mfit\u001b[0m\u001b[1;33m(\u001b[0m\u001b[0mX_train\u001b[0m\u001b[1;33m,\u001b[0m \u001b[1;33m**\u001b[0m\u001b[0mfit_params\u001b[0m\u001b[1;33m)\u001b[0m\u001b[1;33m\u001b[0m\u001b[1;33m\u001b[0m\u001b[0m\n\u001b[0;32m    514\u001b[0m         \u001b[1;32melse\u001b[0m\u001b[1;33m:\u001b[0m\u001b[1;33m\u001b[0m\u001b[1;33m\u001b[0m\u001b[0m\n\u001b[1;32m--> 515\u001b[1;33m             \u001b[0mestimator\u001b[0m\u001b[1;33m.\u001b[0m\u001b[0mfit\u001b[0m\u001b[1;33m(\u001b[0m\u001b[0mX_train\u001b[0m\u001b[1;33m,\u001b[0m \u001b[0my_train\u001b[0m\u001b[1;33m,\u001b[0m \u001b[1;33m**\u001b[0m\u001b[0mfit_params\u001b[0m\u001b[1;33m)\u001b[0m\u001b[1;33m\u001b[0m\u001b[1;33m\u001b[0m\u001b[0m\n\u001b[0m\u001b[0;32m    516\u001b[0m \u001b[1;33m\u001b[0m\u001b[0m\n\u001b[0;32m    517\u001b[0m     \u001b[1;32mexcept\u001b[0m \u001b[0mException\u001b[0m \u001b[1;32mas\u001b[0m \u001b[0me\u001b[0m\u001b[1;33m:\u001b[0m\u001b[1;33m\u001b[0m\u001b[1;33m\u001b[0m\u001b[0m\n",
      "\u001b[1;32m~\\AppData\\Local\\Continuum\\anaconda3\\lib\\site-packages\\sklearn\\tree\\_classes.py\u001b[0m in \u001b[0;36mfit\u001b[1;34m(self, X, y, sample_weight, check_input, X_idx_sorted)\u001b[0m\n\u001b[0;32m    875\u001b[0m             \u001b[0msample_weight\u001b[0m\u001b[1;33m=\u001b[0m\u001b[0msample_weight\u001b[0m\u001b[1;33m,\u001b[0m\u001b[1;33m\u001b[0m\u001b[1;33m\u001b[0m\u001b[0m\n\u001b[0;32m    876\u001b[0m             \u001b[0mcheck_input\u001b[0m\u001b[1;33m=\u001b[0m\u001b[0mcheck_input\u001b[0m\u001b[1;33m,\u001b[0m\u001b[1;33m\u001b[0m\u001b[1;33m\u001b[0m\u001b[0m\n\u001b[1;32m--> 877\u001b[1;33m             X_idx_sorted=X_idx_sorted)\n\u001b[0m\u001b[0;32m    878\u001b[0m         \u001b[1;32mreturn\u001b[0m \u001b[0mself\u001b[0m\u001b[1;33m\u001b[0m\u001b[1;33m\u001b[0m\u001b[0m\n\u001b[0;32m    879\u001b[0m \u001b[1;33m\u001b[0m\u001b[0m\n",
      "\u001b[1;32m~\\AppData\\Local\\Continuum\\anaconda3\\lib\\site-packages\\sklearn\\tree\\_classes.py\u001b[0m in \u001b[0;36mfit\u001b[1;34m(self, X, y, sample_weight, check_input, X_idx_sorted)\u001b[0m\n\u001b[0;32m    365\u001b[0m                                            min_impurity_split)\n\u001b[0;32m    366\u001b[0m \u001b[1;33m\u001b[0m\u001b[0m\n\u001b[1;32m--> 367\u001b[1;33m         \u001b[0mbuilder\u001b[0m\u001b[1;33m.\u001b[0m\u001b[0mbuild\u001b[0m\u001b[1;33m(\u001b[0m\u001b[0mself\u001b[0m\u001b[1;33m.\u001b[0m\u001b[0mtree_\u001b[0m\u001b[1;33m,\u001b[0m \u001b[0mX\u001b[0m\u001b[1;33m,\u001b[0m \u001b[0my\u001b[0m\u001b[1;33m,\u001b[0m \u001b[0msample_weight\u001b[0m\u001b[1;33m,\u001b[0m \u001b[0mX_idx_sorted\u001b[0m\u001b[1;33m)\u001b[0m\u001b[1;33m\u001b[0m\u001b[1;33m\u001b[0m\u001b[0m\n\u001b[0m\u001b[0;32m    368\u001b[0m \u001b[1;33m\u001b[0m\u001b[0m\n\u001b[0;32m    369\u001b[0m         \u001b[1;32mif\u001b[0m \u001b[0mself\u001b[0m\u001b[1;33m.\u001b[0m\u001b[0mn_outputs_\u001b[0m \u001b[1;33m==\u001b[0m \u001b[1;36m1\u001b[0m \u001b[1;32mand\u001b[0m \u001b[0mis_classifier\u001b[0m\u001b[1;33m(\u001b[0m\u001b[0mself\u001b[0m\u001b[1;33m)\u001b[0m\u001b[1;33m:\u001b[0m\u001b[1;33m\u001b[0m\u001b[1;33m\u001b[0m\u001b[0m\n",
      "\u001b[1;31mKeyboardInterrupt\u001b[0m: "
     ]
    }
   ],
   "source": [
    "DT =DecisionTreeClassifier(class_weight='balanced',)\n",
    "param= {'criterion':['gini','entropy'],'max_depth':[3,4,5,6,7,8],'min_samples_split':[3,4,5,6],'min_samples_leaf':[2,3,4]}\n",
    "model=GridSearchCV(DT,param,cv=5,scoring='f1')\n",
    "model.fit(X1_train,y1_train)\n",
    "model.best_params_"
   ]
  },
  {
   "cell_type": "code",
   "execution_count": null,
   "metadata": {},
   "outputs": [],
   "source": [
    "\"\"\"K-FOLD CROSSVALIDATION for class_weight='balanced'\"\"\"\n",
    "DT =DecisionTreeClassifier(class_weight='balanced',\n",
    "                                criterion='gini',\n",
    "                                max_depth= 3,\n",
    "                                min_samples_leaf= 2,\n",
    "                                min_samples_split= 3)\n",
    "scores=cross_val_score(DT,X1,y1,cv=5)\n",
    "DT_WB_score=scores.mean()\n",
    "DT_WB_score"
   ]
  },
  {
   "cell_type": "code",
   "execution_count": null,
   "metadata": {},
   "outputs": [],
   "source": [
    "DT =DecisionTreeClassifier(class_weight='balanced',\n",
    "                                criterion='gini',\n",
    "                                max_depth= 3,\n",
    "                                min_samples_leaf= 2,\n",
    "                                min_samples_split= 3)\n",
    "scores=cross_val_score(DT,X1,y1,cv=5,scoring='f1')\n",
    "DT_WB_f1score=scores.mean()\n",
    "DT_WB_f1score"
   ]
  },
  {
   "cell_type": "markdown",
   "metadata": {},
   "source": [
    "### For not balanced data"
   ]
  },
  {
   "cell_type": "code",
   "execution_count": null,
   "metadata": {
    "scrolled": false
   },
   "outputs": [],
   "source": [
    "DT =DecisionTreeClassifier()\n",
    "param= {'criterion':['gini','entropy'],'max_depth':[3,4,5,6,7,8],'min_samples_split':[3,4,5,6],'min_samples_leaf':[2,3,4]}\n",
    "model=GridSearchCV(DT,param,cv=5,scoring='f1')\n",
    "model.fit(X1_train,y1_train)\n",
    "model.best_params_"
   ]
  },
  {
   "cell_type": "code",
   "execution_count": null,
   "metadata": {},
   "outputs": [],
   "source": [
    "\"\"\"K-FOLD CROSSVALIDATION without balancing'\"\"\"\n",
    "DT =DecisionTreeClassifier(criterion='gini',\n",
    "                            max_depth= 7,\n",
    "                            min_samples_leaf= 2,\n",
    "                            min_samples_split= 5)\n",
    "scores=cross_val_score(DT,X1,y1,cv=5)\n",
    "DT_score=scores.mean()\n",
    "DT_score"
   ]
  },
  {
   "cell_type": "code",
   "execution_count": null,
   "metadata": {},
   "outputs": [],
   "source": [
    "DT =DecisionTreeClassifier(criterion='gini',\n",
    "                            max_depth= 7,\n",
    "                            min_samples_leaf= 2,\n",
    "                            min_samples_split= 5)\n",
    "scores=cross_val_score(DT,X1,y1,cv=5,scoring='f1')\n",
    "DT_f1score=scores.mean()\n",
    "DT_f1score"
   ]
  },
  {
   "cell_type": "markdown",
   "metadata": {},
   "source": [
    "# \"\"\" Perceptron \"\"\""
   ]
  },
  {
   "cell_type": "code",
   "execution_count": null,
   "metadata": {},
   "outputs": [],
   "source": [
    "from sklearn.linear_model import Perceptron\n",
    "model5 = Perceptron()#default max_iter=1000 ,eta0=1.0\n",
    "\n",
    "model5.fit(X_train,y_train)\n",
    "\n",
    "y_pred5 = model5.predict(X_test)"
   ]
  },
  {
   "cell_type": "markdown",
   "metadata": {},
   "source": [
    "### Model evaluation"
   ]
  },
  {
   "cell_type": "code",
   "execution_count": null,
   "metadata": {},
   "outputs": [],
   "source": [
    "accuracy_score(y_test,y_pred5)"
   ]
  },
  {
   "cell_type": "code",
   "execution_count": null,
   "metadata": {},
   "outputs": [],
   "source": [
    "model5.coef_"
   ]
  },
  {
   "cell_type": "code",
   "execution_count": null,
   "metadata": {},
   "outputs": [],
   "source": [
    "model5.intercept_"
   ]
  },
  {
   "cell_type": "code",
   "execution_count": null,
   "metadata": {},
   "outputs": [],
   "source": [
    "confusion_matrix(y_test,y_pred5)"
   ]
  },
  {
   "cell_type": "code",
   "execution_count": null,
   "metadata": {},
   "outputs": [],
   "source": [
    "print(classification_report(y_test,y_pred5))"
   ]
  },
  {
   "cell_type": "markdown",
   "metadata": {},
   "source": [
    "### \"Tunning\""
   ]
  },
  {
   "cell_type": "markdown",
   "metadata": {},
   "source": [
    "### For down sampling balanced data"
   ]
  },
  {
   "cell_type": "code",
   "execution_count": null,
   "metadata": {},
   "outputs": [],
   "source": [
    "perc = Perceptron()\n",
    "param= {\"eta0\":[1.0,0.1,0.01]}\n",
    "model=GridSearchCV(perc,param,cv=5,scoring='f1')\n",
    "model.fit(X_train,y_train)\n",
    "model.best_params_"
   ]
  },
  {
   "cell_type": "code",
   "execution_count": null,
   "metadata": {},
   "outputs": [],
   "source": [
    "\"\"\"K-FOLD CROSSVALIDATION\"\"\"\n",
    "PERC=  Perceptron()##default max_iter=1000 ,eta0=1.0\n",
    "scores=cross_val_score( PERC,X,y,cv=5)\n",
    "PERC_DS_score=scores.mean()\n",
    "PERC_DS_score"
   ]
  },
  {
   "cell_type": "code",
   "execution_count": null,
   "metadata": {},
   "outputs": [],
   "source": [
    "PERC=  Perceptron()\n",
    "scores=cross_val_score( PERC,X,y,cv=5,scoring='f1')\n",
    "PERC_DS_f1score=scores.mean()\n",
    "PERC_DS_f1score"
   ]
  },
  {
   "cell_type": "markdown",
   "metadata": {},
   "source": [
    "### For over sampling balanced data"
   ]
  },
  {
   "cell_type": "code",
   "execution_count": null,
   "metadata": {},
   "outputs": [],
   "source": [
    "perc = Perceptron()\n",
    "param= {\"eta0\":[1.0,0.1,0.01]}\n",
    "model=GridSearchCV(perc,param,cv=5,scoring='f1')\n",
    "model.fit(X2_train,y2_train)\n",
    "model.best_params_"
   ]
  },
  {
   "cell_type": "code",
   "execution_count": null,
   "metadata": {},
   "outputs": [],
   "source": [
    "PERC=  Perceptron(eta0=0.01)\n",
    "scores=cross_val_score( PERC,X2,y2,cv=5)\n",
    "PERC_OS_score=scores.mean()\n",
    "PERC_OS_score"
   ]
  },
  {
   "cell_type": "code",
   "execution_count": null,
   "metadata": {},
   "outputs": [],
   "source": [
    "PERC=  Perceptron(eta0=0.01)\n",
    "scores=cross_val_score( PERC,X2,y2,cv=5,scoring='f1')\n",
    "PERC_OS_f1score=scores.mean()\n",
    "PERC_OS_f1score"
   ]
  },
  {
   "cell_type": "markdown",
   "metadata": {},
   "source": [
    "### For class_weight='balanced' (Cost-Sensitive Training)"
   ]
  },
  {
   "cell_type": "code",
   "execution_count": null,
   "metadata": {},
   "outputs": [],
   "source": [
    "perc = Perceptron(class_weight='balanced')\n",
    "param= {\"eta0\":[1.0,0.1,0.01]}\n",
    "model=GridSearchCV(perc,param,cv=5,scoring='f1')\n",
    "model.fit(X1_train,y1_train)\n",
    "model.best_params_"
   ]
  },
  {
   "cell_type": "code",
   "execution_count": null,
   "metadata": {},
   "outputs": [],
   "source": [
    "\"\"\"K-FOLD CROSSVALIDATION for class_weight='balanced'\"\"\"\n",
    "PERC=  Perceptron(class_weight='balanced')##default max_iter=1000 ,eta0=1.0\n",
    "scores=cross_val_score( PERC,X1,y1,cv=5)\n",
    "PERC_WB_score=scores.mean()\n",
    "PERC_WB_score"
   ]
  },
  {
   "cell_type": "code",
   "execution_count": null,
   "metadata": {},
   "outputs": [],
   "source": [
    "PERC=  Perceptron(class_weight='balanced')\n",
    "scores=cross_val_score( PERC,X1,y1,cv=5,scoring='f1')\n",
    "PERC_WB_f1score=scores.mean()\n",
    "PERC_WB_f1score"
   ]
  },
  {
   "cell_type": "markdown",
   "metadata": {},
   "source": [
    "### For not balanced data"
   ]
  },
  {
   "cell_type": "code",
   "execution_count": null,
   "metadata": {},
   "outputs": [],
   "source": [
    "perc = Perceptron()\n",
    "param= {\"eta0\":[1.0,0.1,0.01]}\n",
    "model=GridSearchCV(perc,param,cv=5,scoring='f1')\n",
    "model.fit(X1_train,y1_train)\n",
    "model.best_params_"
   ]
  },
  {
   "cell_type": "code",
   "execution_count": null,
   "metadata": {},
   "outputs": [],
   "source": [
    "\"\"\"K-FOLD CROSSVALIDATION for not balanced data\"\"\"\n",
    "PERC=  Perceptron()#default max_iter=1000 ,eta0=1.0\n",
    "scores=cross_val_score( PERC,X1,y1,cv=5)\n",
    "PERC_score=scores.mean()\n",
    "PERC_score"
   ]
  },
  {
   "cell_type": "code",
   "execution_count": null,
   "metadata": {},
   "outputs": [],
   "source": [
    "PERC=  Perceptron()#default max_iter=1000 ,eta0=1.0\n",
    "scores=cross_val_score( PERC,X1,y1,cv=5,scoring='f1')\n",
    "PERC_f1score=scores.mean()\n",
    "PERC_f1score"
   ]
  },
  {
   "cell_type": "markdown",
   "metadata": {},
   "source": [
    "# \"\"\" SGD (Stochastic Gradient Descent)\"\"\""
   ]
  },
  {
   "cell_type": "code",
   "execution_count": null,
   "metadata": {},
   "outputs": [],
   "source": [
    "from sklearn.linear_model import SGDClassifier"
   ]
  },
  {
   "cell_type": "code",
   "execution_count": null,
   "metadata": {},
   "outputs": [],
   "source": [
    "sgd= SGDClassifier(loss='log',learning_rate='constant',eta0=0.25 )#This estimator implements regularized linear models with stochastic\n",
    "\n",
    "#gradient descent (SGD) learning\n",
    "#Defaults to 'hinge', which gives a linear SVM.\n",
    "#The 'log' loss gives logistic regression , a probabilistic classifier\n",
    "#'modified_huber' is another smooth loss that brings tolerance to outliers as well as probability estimates.\n",
    "# 'squared_hinge' is like hinge but is quadratically penalized.\n",
    "#perceptron' is the linear loss used by the perceptron algorithm.\n",
    "sgd.fit(X_train,y_train)\n",
    "y_pred4 = sgd.predict(X_test)"
   ]
  },
  {
   "cell_type": "code",
   "execution_count": null,
   "metadata": {},
   "outputs": [],
   "source": [
    "accuracy_score(y_test,y_pred4)"
   ]
  },
  {
   "cell_type": "code",
   "execution_count": null,
   "metadata": {},
   "outputs": [],
   "source": [
    "cm4 = confusion_matrix(y_test,y_pred4)\n",
    "cm4"
   ]
  },
  {
   "cell_type": "code",
   "execution_count": null,
   "metadata": {},
   "outputs": [],
   "source": [
    "print(classification_report(y_test,y_pred4))"
   ]
  },
  {
   "cell_type": "markdown",
   "metadata": {},
   "source": [
    "# \"\"\"Tuning\"\"\""
   ]
  },
  {
   "cell_type": "markdown",
   "metadata": {},
   "source": [
    "### For down samplling balanced data"
   ]
  },
  {
   "cell_type": "code",
   "execution_count": null,
   "metadata": {},
   "outputs": [],
   "source": [
    "param_grid={'loss':['hinge', 'log', 'modified_huber', 'squared_hinge'],'eta0':[.001,.01,.1],'alpha':[0.01,0.001,0.0001,0.00001],'learning_rate':['constant','optimal','invscaling']}\n",
    "\n",
    "sgd2 = SGDClassifier()\n",
    "grid=GridSearchCV(sgd2,param_grid,cv=5,scoring='f1')\n",
    "\n",
    "grid.fit(X_train,y_train)"
   ]
  },
  {
   "cell_type": "code",
   "execution_count": null,
   "metadata": {},
   "outputs": [],
   "source": [
    "grid.best_params_"
   ]
  },
  {
   "cell_type": "code",
   "execution_count": null,
   "metadata": {},
   "outputs": [],
   "source": [
    "grid.cv_results_ "
   ]
  },
  {
   "cell_type": "code",
   "execution_count": null,
   "metadata": {},
   "outputs": [],
   "source": [
    "grid.best_estimator_"
   ]
  },
  {
   "cell_type": "code",
   "execution_count": null,
   "metadata": {},
   "outputs": [],
   "source": [
    "grid.best_score_ "
   ]
  },
  {
   "cell_type": "code",
   "execution_count": null,
   "metadata": {},
   "outputs": [],
   "source": [
    "sgd2= SGDClassifier(loss='hinge',alpha=0.001,learning_rate='constant',eta0=0.01)\n",
    "sgd2.fit(X,y)\n",
    "y_pred4 = sgd.predict(X_test)"
   ]
  },
  {
   "cell_type": "markdown",
   "metadata": {},
   "source": [
    "### Model evaluation"
   ]
  },
  {
   "cell_type": "code",
   "execution_count": null,
   "metadata": {},
   "outputs": [],
   "source": [
    "accuracy_score(y_train,sgd2.predict(X_train))"
   ]
  },
  {
   "cell_type": "code",
   "execution_count": null,
   "metadata": {},
   "outputs": [],
   "source": [
    "accuracy_score(y_test,y_pred4)"
   ]
  },
  {
   "cell_type": "code",
   "execution_count": null,
   "metadata": {},
   "outputs": [],
   "source": [
    "cm4 = confusion_matrix(y_test,y_pred4)\n",
    "cm4"
   ]
  },
  {
   "cell_type": "code",
   "execution_count": null,
   "metadata": {},
   "outputs": [],
   "source": [
    "print(classification_report(y_test,y_pred4))"
   ]
  },
  {
   "cell_type": "code",
   "execution_count": null,
   "metadata": {},
   "outputs": [],
   "source": [
    "\"\"\"K-FOLD CROSSVALIDATION\"\"\"\n",
    "SGD =SGDClassifier(loss='hinge',alpha=0.001,learning_rate='constant',eta0=0.01)\n",
    "scores=cross_val_score(SGD,X,y,cv=5)\n",
    "SGD_DS_score=scores.mean()\n",
    "SGD_DS_score"
   ]
  },
  {
   "cell_type": "code",
   "execution_count": null,
   "metadata": {},
   "outputs": [],
   "source": [
    "SGD =SGDClassifier(loss='hinge',alpha=0.001,learning_rate='constant',eta0=0.01)\n",
    "scores=cross_val_score(SGD,X,y,cv=5,scoring='f1')\n",
    "SGD_DS_f1score=scores.mean()\n",
    "SGD_DS_f1score"
   ]
  },
  {
   "cell_type": "markdown",
   "metadata": {},
   "source": [
    "### For over sampling balanced data"
   ]
  },
  {
   "cell_type": "code",
   "execution_count": null,
   "metadata": {},
   "outputs": [],
   "source": [
    "param_grid={'loss':['hinge', 'log', 'modified_huber', 'squared_hinge'],'eta0':[.001,.01,.1],'alpha':[0.01,0.001,0.0001,0.00001],'learning_rate':['constant','optimal','invscaling']}\n",
    "\n",
    "sgd2 = SGDClassifier()\n",
    "grid=GridSearchCV(sgd2,param_grid,cv=5,scoring='f1')\n",
    "\n",
    "grid.fit(X2_train,y2_train)\n",
    "\n",
    "grid.best_params_"
   ]
  },
  {
   "cell_type": "code",
   "execution_count": null,
   "metadata": {},
   "outputs": [],
   "source": [
    "SGD =SGDClassifier(loss='hinge',alpha= 0.01,learning_rate='optimal',eta0=0.1)\n",
    "scores=cross_val_score(SGD,X2,y2,cv=5)\n",
    "SGD_OS_score=scores.mean()\n",
    "SGD_OS_score"
   ]
  },
  {
   "cell_type": "code",
   "execution_count": null,
   "metadata": {},
   "outputs": [],
   "source": [
    "SGD =SGDClassifier(loss='hinge',alpha= 0.01,learning_rate='optimal',eta0=0.1)\n",
    "scores=cross_val_score(SGD,X2,y2,cv=5,scoring='f1')\n",
    "SGD_OS_f1score=scores.mean()\n",
    "SGD_OS_f1score"
   ]
  },
  {
   "cell_type": "markdown",
   "metadata": {},
   "source": [
    "### For not balanced data"
   ]
  },
  {
   "cell_type": "code",
   "execution_count": null,
   "metadata": {},
   "outputs": [],
   "source": [
    "param_grid={'loss':['hinge', 'log', 'modified_huber', 'squared_hinge'],'eta0':[.001,.01,.1],'alpha':[0.01,0.001,0.0001,0.00001],'learning_rate':['constant','optimal','invscaling']}\n",
    "\n",
    "sgd2 = SGDClassifier()\n",
    "grid=GridSearchCV(sgd2,param_grid,cv=5,scoring='f1')\n",
    "\n",
    "grid.fit(X1_train,y1_train)\n",
    "\n",
    "grid.best_params_"
   ]
  },
  {
   "cell_type": "code",
   "execution_count": null,
   "metadata": {},
   "outputs": [],
   "source": [
    "\"\"\"K-FOLD CROSSVALIDATION for not balanced data,\"\"\"\n",
    "SGD =SGDClassifier(loss='squared_hinge',alpha= 0.001,learning_rate='invscaling',eta0=0.01)\n",
    "scores=cross_val_score(SGD,X1,y1,cv=5)\n",
    "SGD_score=scores.mean()\n",
    "SGD_score"
   ]
  },
  {
   "cell_type": "code",
   "execution_count": null,
   "metadata": {},
   "outputs": [],
   "source": [
    "SGD =SGDClassifier(loss='squared_hinge',alpha= 0.001,learning_rate='invscaling',eta0=0.01)\n",
    "scores=cross_val_score(SGD,X1,y1,cv=5,scoring='f1')\n",
    "SGD_f1score=scores.mean()\n",
    "SGD_f1score"
   ]
  },
  {
   "cell_type": "markdown",
   "metadata": {},
   "source": [
    "## For class_weight='balanced' (Cost-Sensitive Training)"
   ]
  },
  {
   "cell_type": "code",
   "execution_count": null,
   "metadata": {},
   "outputs": [],
   "source": [
    "param_grid={'loss':['hinge', 'log', 'modified_huber', 'squared_hinge'],'eta0':[.001,.01,.1],'alpha':[0.01,0.001,0.0001,0.00001],'learning_rate':['constant','optimal','invscaling']}\n",
    "\n",
    "sgd2 = SGDClassifier(class_weight='balanced')\n",
    "grid=GridSearchCV(sgd2,param_grid,cv=5,scoring='f1')\n",
    "\n",
    "grid.fit(X1_train,y1_train)"
   ]
  },
  {
   "cell_type": "code",
   "execution_count": null,
   "metadata": {},
   "outputs": [],
   "source": [
    "grid.best_params_"
   ]
  },
  {
   "cell_type": "code",
   "execution_count": null,
   "metadata": {},
   "outputs": [],
   "source": [
    "\"\"\"K-FOLD CROSSVALIDATION for class_weight='balanced',\"\"\"\n",
    "SGD =SGDClassifier(class_weight='balanced',loss='hinge',alpha= 0.01,learning_rate='optimal',eta0=0.001)\n",
    "scores=cross_val_score(SGD,X1,y1,cv=5)\n",
    "SGD_WB_score=scores.mean()\n",
    "scores.mean()"
   ]
  },
  {
   "cell_type": "code",
   "execution_count": null,
   "metadata": {},
   "outputs": [],
   "source": [
    "SGD =SGDClassifier(class_weight='balanced',loss='hinge',alpha= 0.01,learning_rate='optimal',eta0=0.001)\n",
    "scores=cross_val_score(SGD,X1,y1,cv=5,scoring='f1')\n",
    "SGD_WB_f1score=scores.mean()\n",
    "SGD_WB_f1score"
   ]
  },
  {
   "cell_type": "markdown",
   "metadata": {},
   "source": [
    "# \"\"\" KNN \"\"\""
   ]
  },
  {
   "cell_type": "code",
   "execution_count": 150,
   "metadata": {},
   "outputs": [],
   "source": [
    "from sklearn.neighbors import KNeighborsClassifier\n",
    "model3 = KNeighborsClassifier()\n",
    "\n",
    "model3.fit(X_train,y_train)\n",
    "\n",
    "y_pred3 = model3.predict(X_test)"
   ]
  },
  {
   "cell_type": "code",
   "execution_count": 151,
   "metadata": {},
   "outputs": [
    {
     "data": {
      "text/plain": [
       "0.48148513873802706"
      ]
     },
     "execution_count": 151,
     "metadata": {},
     "output_type": "execute_result"
    }
   ],
   "source": [
    "accuracy_score(y_test,y_pred3)"
   ]
  },
  {
   "cell_type": "code",
   "execution_count": 152,
   "metadata": {},
   "outputs": [],
   "source": [
    "scores = []\n",
    "for i in range(1,20):# range(1,20)\n",
    "    clf3 = KNeighborsClassifier(n_neighbors=i)\n",
    "    scores.append(cross_val_score(clf3,X,y,cv=4).mean())"
   ]
  },
  {
   "cell_type": "code",
   "execution_count": 153,
   "metadata": {},
   "outputs": [
    {
     "data": {
      "text/plain": [
       "Text(0.5, 1.0, 'Finding optimal K')"
      ]
     },
     "execution_count": 153,
     "metadata": {},
     "output_type": "execute_result"
    },
    {
     "data": {
      "image/png": "[encoded data removed]",
      "text/plain": [
       "<Figure size 432x288 with 1 Axes>"
      ]
     },
     "metadata": {
      "needs_background": "light"
     },
     "output_type": "display_data"
    }
   ],
   "source": [
    "plt.plot(range(1,20),scores)\n",
    "plt.xlabel(\"K\")\n",
    "plt.ylabel(\"Accuracy\")\n",
    "plt.title(\"Finding optimal K\")"
   ]
  },
  {
   "cell_type": "code",
   "execution_count": 154,
   "metadata": {},
   "outputs": [
    {
     "data": {
      "text/plain": [
       "0.5003949885827825"
      ]
     },
     "execution_count": 154,
     "metadata": {},
     "output_type": "execute_result"
    }
   ],
   "source": [
    "max(scores)"
   ]
  },
  {
   "cell_type": "code",
   "execution_count": 155,
   "metadata": {},
   "outputs": [
    {
     "data": {
      "text/plain": [
       "[0.5003949885827825,\n",
       " 0.4982718560787967,\n",
       " 0.49866676420988115,\n",
       " 0.4964448223929783,\n",
       " 0.4963955201295902,\n",
       " 0.4997283706877232,\n",
       " 0.4977039207242814,\n",
       " 0.49765453069540444,\n",
       " 0.4978025935131045,\n",
       " 0.4976546111471025,\n",
       " 0.4968398256033424,\n",
       " 0.4979261990145652,\n",
       " 0.4986667715236719,\n",
       " 0.4966177545371296,\n",
       " 0.49938269168211946,\n",
       " 0.49849392226914896,\n",
       " 0.5000246474747987,\n",
       " 0.5002962353422613,\n",
       " 0.4999258527894632]"
      ]
     },
     "execution_count": 155,
     "metadata": {},
     "output_type": "execute_result"
    }
   ],
   "source": [
    "scores"
   ]
  },
  {
   "cell_type": "markdown",
   "metadata": {},
   "source": [
    "There is no much diference between them so you can select 5 or 6\n",
    "since this data is imbalnced you should better to choose k based on f_measure"
   ]
  },
  {
   "cell_type": "code",
   "execution_count": 156,
   "metadata": {},
   "outputs": [],
   "source": [
    "scores = []\n",
    "for i in range(1,10):# you should try range(1,20) , but for saving time I will try only 1 to 10\n",
    "    clf3 = KNeighborsClassifier(n_neighbors=i)\n",
    "    scores.append(cross_val_score(clf3,X,y,cv=4,scoring='f1').mean())"
   ]
  },
  {
   "cell_type": "code",
   "execution_count": 157,
   "metadata": {},
   "outputs": [
    {
     "data": {
      "text/plain": [
       "Text(0.5, 1.0, 'Finding optimal K')"
      ]
     },
     "execution_count": 157,
     "metadata": {},
     "output_type": "execute_result"
    },
    {
     "data": {
      "image/png": "[encoded data removed]",
      "text/plain": [
       "<Figure size 432x288 with 1 Axes>"
      ]
     },
     "metadata": {
      "needs_background": "light"
     },
     "output_type": "display_data"
    }
   ],
   "source": [
    "plt.plot(range(1,10),scores)\n",
    "plt.xlabel(\"K\")\n",
    "plt.ylabel(\"f1\")\n",
    "plt.title(\"Finding optimal K\")"
   ]
  },
  {
   "cell_type": "code",
   "execution_count": 158,
   "metadata": {},
   "outputs": [
    {
     "data": {
      "text/plain": [
       "[0.5009198573584891,\n",
       " 0.3295114779633496,\n",
       " 0.4968151646886467,\n",
       " 0.37715063326470977,\n",
       " 0.4948498203333134,\n",
       " 0.4054850153603581,\n",
       " 0.4965470530816367,\n",
       " 0.4166531350208473,\n",
       " 0.4972553741501144]"
      ]
     },
     "execution_count": 158,
     "metadata": {},
     "output_type": "execute_result"
    }
   ],
   "source": [
    "scores"
   ]
  },
  {
   "cell_type": "raw",
   "metadata": {},
   "source": [
    "So I select K=5"
   ]
  },
  {
   "cell_type": "code",
   "execution_count": 159,
   "metadata": {},
   "outputs": [],
   "source": [
    "model3 = KNeighborsClassifier(n_neighbors=5)\n",
    "\n",
    "model3.fit(X_train,y_train)\n",
    "\n",
    "y_pred3 = model3.predict(X_test)"
   ]
  },
  {
   "cell_type": "markdown",
   "metadata": {},
   "source": [
    "### Model evaluation"
   ]
  },
  {
   "cell_type": "code",
   "execution_count": 160,
   "metadata": {},
   "outputs": [
    {
     "data": {
      "text/plain": [
       "0.6882715033411239"
      ]
     },
     "execution_count": 160,
     "metadata": {},
     "output_type": "execute_result"
    }
   ],
   "source": [
    "accuracy_score(y_train,model3.predict(X_train))"
   ]
  },
  {
   "cell_type": "code",
   "execution_count": 161,
   "metadata": {},
   "outputs": [
    {
     "data": {
      "text/plain": [
       "0.48148513873802706"
      ]
     },
     "execution_count": 161,
     "metadata": {},
     "output_type": "execute_result"
    }
   ],
   "source": [
    "accuracy_score(y_test,y_pred3)"
   ]
  },
  {
   "cell_type": "code",
   "execution_count": 162,
   "metadata": {},
   "outputs": [
    {
     "name": "stdout",
     "output_type": "stream",
     "text": [
      "confusion_matrix =\n"
     ]
    },
    {
     "data": {
      "text/plain": [
       "array([[2469, 2560],\n",
       "       [2691, 2407]], dtype=int64)"
      ]
     },
     "execution_count": 162,
     "metadata": {},
     "output_type": "execute_result"
    }
   ],
   "source": [
    "print('confusion_matrix =')\n",
    "confusion_matrix(y_test,y_pred3)"
   ]
  },
  {
   "cell_type": "code",
   "execution_count": 163,
   "metadata": {},
   "outputs": [
    {
     "name": "stdout",
     "output_type": "stream",
     "text": [
      "              precision    recall  f1-score   support\n",
      "\n",
      "         0.0       0.48      0.49      0.48      5029\n",
      "         1.0       0.48      0.47      0.48      5098\n",
      "\n",
      "    accuracy                           0.48     10127\n",
      "   macro avg       0.48      0.48      0.48     10127\n",
      "weighted avg       0.48      0.48      0.48     10127\n",
      "\n"
     ]
    }
   ],
   "source": [
    "print(classification_report(y_test,y_pred3))"
   ]
  },
  {
   "cell_type": "markdown",
   "metadata": {},
   "source": [
    "## Tuning"
   ]
  },
  {
   "cell_type": "code",
   "execution_count": 164,
   "metadata": {},
   "outputs": [],
   "source": [
    "param= {'n_neighbors':(5,6,7),'leaf_size':(10,20,30,40)}"
   ]
  },
  {
   "cell_type": "markdown",
   "metadata": {},
   "source": [
    "### For down sampling balanced data"
   ]
  },
  {
   "cell_type": "code",
   "execution_count": 165,
   "metadata": {},
   "outputs": [
    {
     "data": {
      "text/plain": [
       "{'leaf_size': 40, 'n_neighbors': 7}"
      ]
     },
     "execution_count": 165,
     "metadata": {},
     "output_type": "execute_result"
    }
   ],
   "source": [
    "KNN =KNeighborsClassifier()\n",
    "model=GridSearchCV(KNN,param,cv=5,scoring='f1')\n",
    "model.fit(X,y)\n",
    "model.best_params_"
   ]
  },
  {
   "cell_type": "code",
   "execution_count": 166,
   "metadata": {},
   "outputs": [
    {
     "data": {
      "text/plain": [
       "KNeighborsClassifier(algorithm='auto', leaf_size=40, metric='minkowski',\n",
       "                     metric_params=None, n_jobs=None, n_neighbors=7, p=2,\n",
       "                     weights='uniform')"
      ]
     },
     "execution_count": 166,
     "metadata": {},
     "output_type": "execute_result"
    }
   ],
   "source": [
    "model.best_estimator_"
   ]
  },
  {
   "cell_type": "code",
   "execution_count": 167,
   "metadata": {},
   "outputs": [
    {
     "data": {
      "text/plain": [
       "0.4974818624566161"
      ]
     },
     "execution_count": 167,
     "metadata": {},
     "output_type": "execute_result"
    }
   ],
   "source": [
    "\"\"\"K-FOLD CROSSVALIDATION\"\"\"\n",
    "KNN = model.best_estimator_\n",
    "scores=cross_val_score(KNN,X,y,cv=5)\n",
    "KNN_DS_score=scores.mean()\n",
    "KNN_DS_score"
   ]
  },
  {
   "cell_type": "code",
   "execution_count": 168,
   "metadata": {},
   "outputs": [
    {
     "data": {
      "text/plain": [
       "0.4967034801838993"
      ]
     },
     "execution_count": 168,
     "metadata": {},
     "output_type": "execute_result"
    }
   ],
   "source": [
    "KNN =  model.best_estimator_\n",
    "scores=cross_val_score(KNN,X,y,cv=5,scoring='f1')\n",
    "KNN_DS_f1score=scores.mean()\n",
    "KNN_DS_f1score"
   ]
  },
  {
   "cell_type": "markdown",
   "metadata": {},
   "source": [
    "### For over sampling balanced data"
   ]
  },
  {
   "cell_type": "code",
   "execution_count": 169,
   "metadata": {},
   "outputs": [
    {
     "data": {
      "text/plain": [
       "{'leaf_size': 30, 'n_neighbors': 5}"
      ]
     },
     "execution_count": 169,
     "metadata": {},
     "output_type": "execute_result"
    }
   ],
   "source": [
    "KNN =KNeighborsClassifier()\n",
    "model=GridSearchCV(KNN,param,cv=5,scoring='f1')\n",
    "model.fit(X2,y2)\n",
    "model.best_params_"
   ]
  },
  {
   "cell_type": "code",
   "execution_count": 170,
   "metadata": {},
   "outputs": [
    {
     "data": {
      "text/plain": [
       "0.7040255360756427"
      ]
     },
     "execution_count": 170,
     "metadata": {},
     "output_type": "execute_result"
    }
   ],
   "source": [
    "KNN = model.best_estimator_\n",
    "scores=cross_val_score(KNN,X2,y2,cv=5)\n",
    "KNN_OS_score=scores.mean()\n",
    "KNN_OS_score"
   ]
  },
  {
   "cell_type": "code",
   "execution_count": 171,
   "metadata": {},
   "outputs": [
    {
     "data": {
      "text/plain": [
       "0.4961324422642249"
      ]
     },
     "execution_count": 171,
     "metadata": {},
     "output_type": "execute_result"
    }
   ],
   "source": [
    "KNN = model.best_estimator_\n",
    "scores=cross_val_score(KNN,X,y,cv=5,scoring='f1')\n",
    "KNN_OS_f1score=scores.mean()\n",
    "KNN_OS_f1score"
   ]
  },
  {
   "cell_type": "markdown",
   "metadata": {},
   "source": [
    "### For weights='distance' (Cost-Sensitive Training"
   ]
  },
  {
   "cell_type": "code",
   "execution_count": 172,
   "metadata": {},
   "outputs": [
    {
     "data": {
      "text/plain": [
       "{'leaf_size': 40, 'n_neighbors': 7}"
      ]
     },
     "execution_count": 172,
     "metadata": {},
     "output_type": "execute_result"
    }
   ],
   "source": [
    "KNN=KNeighborsClassifier(weights='distance')\n",
    "model=GridSearchCV(KNN,param,cv=5,scoring='f1')\n",
    "model.fit(X1,y1)\n",
    "model.best_params_"
   ]
  },
  {
   "cell_type": "code",
   "execution_count": 173,
   "metadata": {},
   "outputs": [
    {
     "data": {
      "text/plain": [
       "0.4974078310454189"
      ]
     },
     "execution_count": 173,
     "metadata": {},
     "output_type": "execute_result"
    }
   ],
   "source": [
    "\"\"\"K-FOLD CROSSVALIDATION for weights='distance'\"\"\"\n",
    "KNN = model.best_estimator_\n",
    "scores=cross_val_score(KNN,X1,y1,cv=5)\n",
    "KNN_WB_score=scores.mean()\n",
    "KNN_WB_score"
   ]
  },
  {
   "cell_type": "code",
   "execution_count": 174,
   "metadata": {},
   "outputs": [
    {
     "data": {
      "text/plain": [
       "0.4968898117680934"
      ]
     },
     "execution_count": 174,
     "metadata": {},
     "output_type": "execute_result"
    }
   ],
   "source": [
    "KNN = model.best_estimator_\n",
    "scores=cross_val_score(KNN,X1,y1,cv=5,scoring='f1')\n",
    "KNN_WB_f1score=scores.mean()\n",
    "KNN_WB_f1score"
   ]
  },
  {
   "cell_type": "markdown",
   "metadata": {},
   "source": [
    "## For not balanced data"
   ]
  },
  {
   "cell_type": "code",
   "execution_count": 175,
   "metadata": {},
   "outputs": [
    {
     "data": {
      "text/plain": [
       "{'leaf_size': 40, 'n_neighbors': 7}"
      ]
     },
     "execution_count": 175,
     "metadata": {},
     "output_type": "execute_result"
    }
   ],
   "source": [
    "KNN =KNeighborsClassifier()\n",
    "model=GridSearchCV(KNN,param,cv=5,scoring='f1')\n",
    "model.fit(X1,y1)\n",
    "model.best_params_"
   ]
  },
  {
   "cell_type": "code",
   "execution_count": 176,
   "metadata": {},
   "outputs": [
    {
     "data": {
      "text/plain": [
       "0.4974818624566161"
      ]
     },
     "execution_count": 176,
     "metadata": {},
     "output_type": "execute_result"
    }
   ],
   "source": [
    "KNN = model.best_estimator_\n",
    "scores=cross_val_score(KNN,X1,y1,cv=5)\n",
    "KNN_score=scores.mean()\n",
    "KNN_score"
   ]
  },
  {
   "cell_type": "code",
   "execution_count": 177,
   "metadata": {},
   "outputs": [
    {
     "data": {
      "text/plain": [
       "0.4967034801838993"
      ]
     },
     "execution_count": 177,
     "metadata": {},
     "output_type": "execute_result"
    }
   ],
   "source": [
    "KNN = model.best_estimator_\n",
    "scores=cross_val_score(KNN,X1,y1,cv=5,scoring='f1')\n",
    "KNN_f1score=scores.mean()\n",
    "KNN_f1score"
   ]
  },
  {
   "cell_type": "markdown",
   "metadata": {},
   "source": [
    "# SVM"
   ]
  },
  {
   "cell_type": "code",
   "execution_count": 150,
   "metadata": {},
   "outputs": [],
   "source": [
    "from sklearn.svm import SVC"
   ]
  },
  {
   "cell_type": "code",
   "execution_count": 179,
   "metadata": {},
   "outputs": [
    {
     "data": {
      "text/plain": [
       "0.5011602835358865"
      ]
     },
     "execution_count": 179,
     "metadata": {},
     "output_type": "execute_result"
    }
   ],
   "source": [
    "# kernel= 'linear', 'poly', 'rbf'\n",
    "SV = SVC(kernel='poly')\n",
    "scores = cross_val_score(SV, X, y, cv=5)\n",
    "scores.mean()"
   ]
  },
  {
   "cell_type": "code",
   "execution_count": 180,
   "metadata": {},
   "outputs": [],
   "source": [
    "svc = SVC(kernel='poly')\n",
    "svc.fit(X_train,y_train)\n",
    "\n",
    "y_pred6 =svc.predict(X_test)"
   ]
  },
  {
   "cell_type": "code",
   "execution_count": 181,
   "metadata": {},
   "outputs": [
    {
     "data": {
      "text/plain": [
       "0.49738323294164116"
      ]
     },
     "execution_count": 181,
     "metadata": {},
     "output_type": "execute_result"
    }
   ],
   "source": [
    "accuracy_score(y_test,y_pred6)"
   ]
  },
  {
   "cell_type": "code",
   "execution_count": 182,
   "metadata": {},
   "outputs": [
    {
     "data": {
      "text/plain": [
       "array([[2113, 2916],\n",
       "       [2174, 2924]], dtype=int64)"
      ]
     },
     "execution_count": 182,
     "metadata": {},
     "output_type": "execute_result"
    }
   ],
   "source": [
    "cm6 = confusion_matrix(y_test,y_pred6)\n",
    "cm6"
   ]
  },
  {
   "cell_type": "code",
   "execution_count": 183,
   "metadata": {},
   "outputs": [
    {
     "name": "stdout",
     "output_type": "stream",
     "text": [
      "              precision    recall  f1-score   support\n",
      "\n",
      "         0.0       0.49      0.42      0.45      5029\n",
      "         1.0       0.50      0.57      0.53      5098\n",
      "\n",
      "    accuracy                           0.50     10127\n",
      "   macro avg       0.50      0.50      0.49     10127\n",
      "weighted avg       0.50      0.50      0.49     10127\n",
      "\n"
     ]
    }
   ],
   "source": [
    "print(classification_report(y_test,y_pred6))"
   ]
  },
  {
   "cell_type": "markdown",
   "metadata": {},
   "source": [
    "## Tunning"
   ]
  },
  {
   "cell_type": "raw",
   "metadata": {},
   "source": [
    "param_grid= {\n",
    "                        'C' : [0.1, 1, 10],\n",
    "                        'kernel': ['linear', 'poly', 'rbf', 'sigmoid'],\n",
    "                        'degree': [2,3],\n",
    "                        'gamma' : [0.1,1,10]\n",
    "                    }\n"
   ]
  },
  {
   "cell_type": "code",
   "execution_count": 184,
   "metadata": {},
   "outputs": [],
   "source": [
    "param_grid={'kernel': ['linear', 'poly', 'rbf', 'sigmoid']}"
   ]
  },
  {
   "cell_type": "markdown",
   "metadata": {},
   "source": [
    "## For down sampling balanced data"
   ]
  },
  {
   "cell_type": "raw",
   "metadata": {},
   "source": [
    "model=GridSearchCV(SVC(),param_grid,cv=4,scoring='f1')\n",
    "model.fit(X,y)\n",
    "model.best_params_"
   ]
  },
  {
   "cell_type": "raw",
   "metadata": {},
   "source": [
    "model.best_estimator_"
   ]
  },
  {
   "attachments": {
    "image.png": {
     "image/png": "[encoded data removed]"
    }
   },
   "cell_type": "markdown",
   "metadata": {},
   "source": [
    "![image.png](attachment:image.png)"
   ]
  },
  {
   "cell_type": "raw",
   "metadata": {},
   "source": [
    "model.best_score_"
   ]
  },
  {
   "cell_type": "raw",
   "metadata": {},
   "source": [
    "model.refit_time_"
   ]
  },
  {
   "cell_type": "code",
   "execution_count": 151,
   "metadata": {},
   "outputs": [
    {
     "data": {
      "text/plain": [
       "0.49412461735953395"
      ]
     },
     "execution_count": 151,
     "metadata": {},
     "output_type": "execute_result"
    }
   ],
   "source": [
    "#svc2=model.best_estimator_\n",
    "svc2 = SVC(kernel='linear')\n",
    "\n",
    "svc2.fit(X_train,y_train)\n",
    "\n",
    "y_pred62 =svc2.predict(X_test)\n",
    "\n",
    "accuracy_score(y_test,y_pred62)"
   ]
  },
  {
   "cell_type": "code",
   "execution_count": 152,
   "metadata": {},
   "outputs": [
    {
     "data": {
      "text/plain": [
       "array([[3088, 1941],\n",
       "       [3182, 1916]], dtype=int64)"
      ]
     },
     "execution_count": 152,
     "metadata": {},
     "output_type": "execute_result"
    }
   ],
   "source": [
    "cm62 = confusion_matrix(y_test,y_pred62)\n",
    "cm62"
   ]
  },
  {
   "cell_type": "code",
   "execution_count": 153,
   "metadata": {},
   "outputs": [
    {
     "name": "stdout",
     "output_type": "stream",
     "text": [
      "              precision    recall  f1-score   support\n",
      "\n",
      "         0.0       0.49      0.61      0.55      5029\n",
      "         1.0       0.50      0.38      0.43      5098\n",
      "\n",
      "    accuracy                           0.49     10127\n",
      "   macro avg       0.49      0.49      0.49     10127\n",
      "weighted avg       0.49      0.49      0.49     10127\n",
      "\n"
     ]
    }
   ],
   "source": [
    "print(classification_report(y_test,y_pred62))"
   ]
  },
  {
   "cell_type": "code",
   "execution_count": 154,
   "metadata": {},
   "outputs": [
    {
     "data": {
      "text/plain": [
       "0.5023206036380184"
      ]
     },
     "execution_count": 154,
     "metadata": {},
     "output_type": "execute_result"
    }
   ],
   "source": [
    "\"\"\"K-FOLD CROSSVALIDATION\"\"\"\n",
    "#SV=model.best_estimator_\n",
    "SV = SVC(kernel='linear')\n",
    "scores=cross_val_score(SV,X,y,cv=5)\n",
    "SVM_DS_score=scores.mean()\n",
    "SVM_DS_score"
   ]
  },
  {
   "cell_type": "code",
   "execution_count": 155,
   "metadata": {},
   "outputs": [
    {
     "data": {
      "text/plain": [
       "0.584083310041554"
      ]
     },
     "execution_count": 155,
     "metadata": {},
     "output_type": "execute_result"
    }
   ],
   "source": [
    "#SV=model.best_estimator_\n",
    "SV = SVC(kernel='linear')\n",
    "scores=cross_val_score(SV,X,y,cv=5,scoring='f1')\n",
    "SVM_DS_f1score=scores.mean()\n",
    "SVM_DS_f1score"
   ]
  },
  {
   "cell_type": "markdown",
   "metadata": {},
   "source": [
    "### For over samling balanced data"
   ]
  },
  {
   "cell_type": "raw",
   "metadata": {},
   "source": [
    "model=GridSearchCV(SVC(),param_grid,cv=4,scoring='f1')\n",
    "model.fit(X2,y2)\n",
    "model.best_params_"
   ]
  },
  {
   "cell_type": "code",
   "execution_count": null,
   "metadata": {},
   "outputs": [],
   "source": [
    "#SV=model.best_estimator_\n",
    "SV = SVC(kernel='rbf')\n",
    "scores=cross_val_score(SV,X2,y2,cv=5)\n",
    "SVM_OS_score=scores.mean()\n",
    "SVM_OS_score"
   ]
  },
  {
   "cell_type": "code",
   "execution_count": null,
   "metadata": {},
   "outputs": [],
   "source": [
    "#SV=model.best_estimator_\n",
    "SV = SVC(kernel='rbf')\n",
    "scores=cross_val_score(SV,X2,y2,cv=5,scoring='f1')\n",
    "SVM_OS_f1score=scores.mean()\n",
    "SVM_OS_f1score"
   ]
  },
  {
   "cell_type": "markdown",
   "metadata": {},
   "source": [
    "### For class_weight='balanced' (Cost-Sensitive Training)"
   ]
  },
  {
   "cell_type": "raw",
   "metadata": {},
   "source": [
    "model=GridSearchCV(SVC(class_weight='balanced'),param_grid,cv=4,scoring='f1')\n",
    "model.fit(X1,y1)\n",
    "model.best_params_"
   ]
  },
  {
   "cell_type": "code",
   "execution_count": null,
   "metadata": {},
   "outputs": [],
   "source": [
    "\"\"\"K-FOLD CROSSVALIDATION for class_weight='balanced'\"\"\"\n",
    "#SV=model.best_estimator_\n",
    "SV = SVC(kernel='rbf',class_weight='balanced')\n",
    "scores=cross_val_score(SV,X1,y1,cv=5)\n",
    "SVM_WB_score=scores.mean()\n",
    "SVM_WB_score"
   ]
  },
  {
   "cell_type": "code",
   "execution_count": null,
   "metadata": {},
   "outputs": [],
   "source": [
    "#SV=model.best_estimator_\n",
    "SV = SVC(kernel='rbf',class_weight='balanced')\n",
    "scores=cross_val_score(SV,X1,y1,cv=5,scoring='f1')\n",
    "SVM_WB_f1score=scores.mean()\n",
    "SVM_WB_f1score"
   ]
  },
  {
   "cell_type": "markdown",
   "metadata": {},
   "source": [
    "### For not balanced data"
   ]
  },
  {
   "cell_type": "raw",
   "metadata": {},
   "source": [
    "model=GridSearchCV(SVC(),param_grid,cv=4,scoring='f1')\n",
    "model.fit(X1,y1)\n",
    "model.best_params_"
   ]
  },
  {
   "cell_type": "code",
   "execution_count": null,
   "metadata": {},
   "outputs": [],
   "source": [
    "\"\"\"K-FOLD CROSSVALIDATION for class_weight='balanced'\"\"\"\n",
    "#SV=model.best_estimator_\n",
    "SV = SVC(kernel='rbf')\n",
    "scores=cross_val_score(SV,X1,y1,cv=5)\n",
    "SVM_WB_score=scores.mean()\n",
    "SVM_WB_score"
   ]
  },
  {
   "cell_type": "code",
   "execution_count": null,
   "metadata": {},
   "outputs": [],
   "source": [
    "#SV=model.best_estimator_\n",
    "SV = SVC(kernel='rbf')\n",
    "scores=cross_val_score(SV,X1,y1,cv=5,scoring='f1')\n",
    "SVM_WB_f1score=scores.mean()\n",
    "SVM_WB_f1score"
   ]
  },
  {
   "cell_type": "markdown",
   "metadata": {},
   "source": [
    "# \"\"\"Naive Bayes\"\"\""
   ]
  },
  {
   "cell_type": "code",
   "execution_count": 100,
   "metadata": {},
   "outputs": [],
   "source": [
    "from sklearn.naive_bayes import GaussianNB # step1\n",
    "GNB = GaussianNB() # step 2\n",
    "GNB.fit(X_train, y_train) # step 3\n",
    "y_pred10 = GNB.predict(X_test) # step 4"
   ]
  },
  {
   "cell_type": "markdown",
   "metadata": {},
   "source": [
    "### Model evaluation"
   ]
  },
  {
   "cell_type": "code",
   "execution_count": 101,
   "metadata": {},
   "outputs": [
    {
     "data": {
      "text/plain": [
       "0.5011355781574011"
      ]
     },
     "execution_count": 101,
     "metadata": {},
     "output_type": "execute_result"
    }
   ],
   "source": [
    "GNB.score(X_test,y_test)"
   ]
  },
  {
   "cell_type": "code",
   "execution_count": 102,
   "metadata": {},
   "outputs": [
    {
     "data": {
      "text/plain": [
       "0.5011355781574011"
      ]
     },
     "execution_count": 102,
     "metadata": {},
     "output_type": "execute_result"
    }
   ],
   "source": [
    "accuracy_score(y_test,y_pred10)"
   ]
  },
  {
   "cell_type": "code",
   "execution_count": 103,
   "metadata": {},
   "outputs": [
    {
     "data": {
      "text/plain": [
       "array([[ 469, 4560],\n",
       "       [ 492, 4606]], dtype=int64)"
      ]
     },
     "execution_count": 103,
     "metadata": {},
     "output_type": "execute_result"
    }
   ],
   "source": [
    "confusion_matrix(y_test,y_pred10)"
   ]
  },
  {
   "cell_type": "code",
   "execution_count": 104,
   "metadata": {},
   "outputs": [
    {
     "name": "stdout",
     "output_type": "stream",
     "text": [
      "              precision    recall  f1-score   support\n",
      "\n",
      "         0.0       0.49      0.09      0.16      5029\n",
      "         1.0       0.50      0.90      0.65      5098\n",
      "\n",
      "    accuracy                           0.50     10127\n",
      "   macro avg       0.50      0.50      0.40     10127\n",
      "weighted avg       0.50      0.50      0.40     10127\n",
      "\n"
     ]
    }
   ],
   "source": [
    "print(classification_report(y_test,y_pred10))"
   ]
  },
  {
   "cell_type": "markdown",
   "metadata": {},
   "source": [
    "### For down sampling balanced data"
   ]
  },
  {
   "cell_type": "code",
   "execution_count": 105,
   "metadata": {},
   "outputs": [
    {
     "data": {
      "text/plain": [
       "0.5014812071894967"
      ]
     },
     "execution_count": 105,
     "metadata": {},
     "output_type": "execute_result"
    }
   ],
   "source": [
    "GNB=GaussianNB()\n",
    "scores=cross_val_score(GNB,X,y,cv=5)\n",
    "GNB_DS_score=scores.mean()\n",
    "GNB_DS_score"
   ]
  },
  {
   "cell_type": "code",
   "execution_count": 106,
   "metadata": {},
   "outputs": [
    {
     "data": {
      "text/plain": [
       "0.6391113385279124"
      ]
     },
     "execution_count": 106,
     "metadata": {},
     "output_type": "execute_result"
    }
   ],
   "source": [
    "GNB=GaussianNB()\n",
    "scores=cross_val_score(GNB,X,y,cv=5,scoring='f1')\n",
    "GNB_DS_f1score=scores.mean()\n",
    "GNB_DS_f1score"
   ]
  },
  {
   "cell_type": "markdown",
   "metadata": {},
   "source": [
    "### For over sampling Data"
   ]
  },
  {
   "cell_type": "code",
   "execution_count": 107,
   "metadata": {},
   "outputs": [
    {
     "data": {
      "text/plain": [
       "0.5077162941165299"
      ]
     },
     "execution_count": 107,
     "metadata": {},
     "output_type": "execute_result"
    }
   ],
   "source": [
    "GNB=GaussianNB()\n",
    "scores=cross_val_score(GNB,X2,y2,cv=5)\n",
    "GNB_OS_score=scores.mean()\n",
    "GNB_OS_score"
   ]
  },
  {
   "cell_type": "code",
   "execution_count": 108,
   "metadata": {},
   "outputs": [
    {
     "data": {
      "text/plain": [
       "0.6442730551879375"
      ]
     },
     "execution_count": 108,
     "metadata": {},
     "output_type": "execute_result"
    }
   ],
   "source": [
    "GNB=GaussianNB()\n",
    "scores=cross_val_score(GNB,X2,y2,cv=5,scoring='f1')\n",
    "GNB_OS_f1score=scores.mean()\n",
    "GNB_OS_f1score"
   ]
  },
  {
   "cell_type": "markdown",
   "metadata": {},
   "source": [
    "## For class_weight='balanced' (Cost-Sensitive Training)¶"
   ]
  },
  {
   "cell_type": "raw",
   "metadata": {},
   "source": [
    "Naive Bayes doesn;t have this option"
   ]
  },
  {
   "cell_type": "markdown",
   "metadata": {},
   "source": [
    "### For not balanced data"
   ]
  },
  {
   "cell_type": "code",
   "execution_count": 136,
   "metadata": {},
   "outputs": [
    {
     "data": {
      "text/plain": [
       "0.5014812071894967"
      ]
     },
     "execution_count": 136,
     "metadata": {},
     "output_type": "execute_result"
    }
   ],
   "source": [
    "\"\"\"K-FOLD CROSSVALIDATION for not balanced data\"\"\"\n",
    "GNB=GaussianNB()\n",
    "scores=cross_val_score(GNB,X1,y1,cv=5)\n",
    "GNB_score=scores.mean()\n",
    "GNB_score"
   ]
  },
  {
   "cell_type": "code",
   "execution_count": 110,
   "metadata": {},
   "outputs": [
    {
     "data": {
      "text/plain": [
       "0.6391113385279124"
      ]
     },
     "execution_count": 110,
     "metadata": {},
     "output_type": "execute_result"
    }
   ],
   "source": [
    "GNB=GaussianNB()\n",
    "scores=cross_val_score(GNB,X1,y1,cv=5,scoring='f1')\n",
    "GNB_f1score=scores.mean()\n",
    "GNB_f1score"
   ]
  },
  {
   "cell_type": "markdown",
   "metadata": {},
   "source": [
    "# \"\"\"Ensemble\"\"\""
   ]
  },
  {
   "cell_type": "markdown",
   "metadata": {},
   "source": [
    "# Random Forest"
   ]
  },
  {
   "cell_type": "code",
   "execution_count": 111,
   "metadata": {},
   "outputs": [],
   "source": [
    "#etep 1 importing classifier\n",
    "from sklearn.ensemble import RandomForestClassifier"
   ]
  },
  {
   "cell_type": "code",
   "execution_count": 112,
   "metadata": {},
   "outputs": [],
   "source": [
    "#step 2 create an instance from that cliassifier\n",
    "model7=RandomForestClassifier(max_depth=3,n_estimators=20,random_state=0)"
   ]
  },
  {
   "cell_type": "code",
   "execution_count": 113,
   "metadata": {},
   "outputs": [
    {
     "data": {
      "text/plain": [
       "RandomForestClassifier(bootstrap=True, ccp_alpha=0.0, class_weight=None,\n",
       "                       criterion='gini', max_depth=3, max_features='auto',\n",
       "                       max_leaf_nodes=None, max_samples=None,\n",
       "                       min_impurity_decrease=0.0, min_impurity_split=None,\n",
       "                       min_samples_leaf=1, min_samples_split=2,\n",
       "                       min_weight_fraction_leaf=0.0, n_estimators=20,\n",
       "                       n_jobs=None, oob_score=False, random_state=0, verbose=0,\n",
       "                       warm_start=False)"
      ]
     },
     "execution_count": 113,
     "metadata": {},
     "output_type": "execute_result"
    }
   ],
   "source": [
    "#step3 fit that model on train data set\n",
    "model7.fit(X_train,y_train)"
   ]
  },
  {
   "cell_type": "code",
   "execution_count": 114,
   "metadata": {},
   "outputs": [],
   "source": [
    "#step4 use fitted model for prediction on test data set\n",
    "y_pred7 =model7.predict(X_test)"
   ]
  },
  {
   "cell_type": "code",
   "execution_count": 115,
   "metadata": {},
   "outputs": [
    {
     "data": {
      "text/plain": [
       "0.5008393403772095"
      ]
     },
     "execution_count": 115,
     "metadata": {},
     "output_type": "execute_result"
    }
   ],
   "source": [
    "#model evaluation\n",
    "model7.score(X_test,y_test)"
   ]
  },
  {
   "cell_type": "code",
   "execution_count": 116,
   "metadata": {},
   "outputs": [
    {
     "name": "stdout",
     "output_type": "stream",
     "text": [
      "              precision    recall  f1-score   support\n",
      "\n",
      "         0.0       0.50      0.53      0.51      5029\n",
      "         1.0       0.50      0.47      0.49      5098\n",
      "\n",
      "    accuracy                           0.50     10127\n",
      "   macro avg       0.50      0.50      0.50     10127\n",
      "weighted avg       0.50      0.50      0.50     10127\n",
      "\n"
     ]
    }
   ],
   "source": [
    "print(classification_report(y_test,y_pred7))"
   ]
  },
  {
   "cell_type": "markdown",
   "metadata": {},
   "source": [
    "Let's find the best depth for trees"
   ]
  },
  {
   "cell_type": "code",
   "execution_count": 117,
   "metadata": {},
   "outputs": [],
   "source": [
    "scores = []\n",
    "for i in range(1,14):\n",
    "    dt = RandomForestClassifier(max_depth=i,n_estimators=20,random_state=0)\n",
    "    scores.append(cross_val_score(dt,X,y,cv=4).mean())"
   ]
  },
  {
   "cell_type": "code",
   "execution_count": 118,
   "metadata": {},
   "outputs": [
    {
     "data": {
      "text/plain": [
       "Text(0.5, 1.0, 'Finding optimal max_depth')"
      ]
     },
     "execution_count": 118,
     "metadata": {},
     "output_type": "execute_result"
    },
    {
     "data": {
      "image/png": "[encoded data removed]",
      "text/plain": [
       "<Figure size 432x288 with 1 Axes>"
      ]
     },
     "metadata": {
      "needs_background": "light"
     },
     "output_type": "display_data"
    }
   ],
   "source": [
    "plt.plot(range(1,14),scores)\n",
    "plt.xlabel(\"max_depth\")\n",
    "plt.ylabel(\"Accuracy\")\n",
    "plt.title(\"Finding optimal max_depth\")"
   ]
  },
  {
   "cell_type": "code",
   "execution_count": 119,
   "metadata": {},
   "outputs": [],
   "source": [
    "scores = []\n",
    "for i in range(1,14):\n",
    "    dt = RandomForestClassifier(max_depth=i,n_estimators=20,random_state=0)\n",
    "    scores.append(cross_val_score(dt,X,y,cv=4,scoring='f1').mean())"
   ]
  },
  {
   "cell_type": "code",
   "execution_count": 120,
   "metadata": {},
   "outputs": [
    {
     "data": {
      "text/plain": [
       "Text(0.5, 1.0, 'Finding optimal max_depth')"
      ]
     },
     "execution_count": 120,
     "metadata": {},
     "output_type": "execute_result"
    },
    {
     "data": {
      "image/png": "[encoded data removed]",
      "text/plain": [
       "<Figure size 432x288 with 1 Axes>"
      ]
     },
     "metadata": {
      "needs_background": "light"
     },
     "output_type": "display_data"
    }
   ],
   "source": [
    "plt.plot(range(1,14),scores)\n",
    "plt.xlabel(\"max_depth\")\n",
    "plt.ylabel(\"f1\")\n",
    "plt.title(\"Finding optimal max_depth\")"
   ]
  },
  {
   "cell_type": "code",
   "execution_count": 121,
   "metadata": {},
   "outputs": [],
   "source": [
    "model72=RandomForestClassifier(max_depth=1,n_estimators=20,random_state=0)"
   ]
  },
  {
   "cell_type": "code",
   "execution_count": 122,
   "metadata": {},
   "outputs": [
    {
     "data": {
      "text/plain": [
       "RandomForestClassifier(bootstrap=True, ccp_alpha=0.0, class_weight=None,\n",
       "                       criterion='gini', max_depth=1, max_features='auto',\n",
       "                       max_leaf_nodes=None, max_samples=None,\n",
       "                       min_impurity_decrease=0.0, min_impurity_split=None,\n",
       "                       min_samples_leaf=1, min_samples_split=2,\n",
       "                       min_weight_fraction_leaf=0.0, n_estimators=20,\n",
       "                       n_jobs=None, oob_score=False, random_state=0, verbose=0,\n",
       "                       warm_start=False)"
      ]
     },
     "execution_count": 122,
     "metadata": {},
     "output_type": "execute_result"
    }
   ],
   "source": [
    "model72.fit(X_train,y_train)"
   ]
  },
  {
   "cell_type": "code",
   "execution_count": 124,
   "metadata": {},
   "outputs": [],
   "source": [
    "#step4 use fitted model for prediction on test data set\n",
    "y_pred72 =model72.predict(X_test)"
   ]
  },
  {
   "cell_type": "code",
   "execution_count": 123,
   "metadata": {},
   "outputs": [
    {
     "data": {
      "text/plain": [
       "0.49817320035548535"
      ]
     },
     "execution_count": 123,
     "metadata": {},
     "output_type": "execute_result"
    }
   ],
   "source": [
    "model72.score(X_test,y_test)"
   ]
  },
  {
   "cell_type": "code",
   "execution_count": 125,
   "metadata": {},
   "outputs": [
    {
     "name": "stdout",
     "output_type": "stream",
     "text": [
      "              precision    recall  f1-score   support\n",
      "\n",
      "         0.0       0.50      0.78      0.61      5029\n",
      "         1.0       0.50      0.22      0.31      5098\n",
      "\n",
      "    accuracy                           0.50     10127\n",
      "   macro avg       0.50      0.50      0.46     10127\n",
      "weighted avg       0.50      0.50      0.46     10127\n",
      "\n"
     ]
    }
   ],
   "source": [
    "print(classification_report(y_test,y_pred72))"
   ]
  },
  {
   "cell_type": "markdown",
   "metadata": {},
   "source": [
    "# Tunning"
   ]
  },
  {
   "cell_type": "markdown",
   "metadata": {},
   "source": [
    "### For down sampling balanced data"
   ]
  },
  {
   "cell_type": "code",
   "execution_count": 139,
   "metadata": {},
   "outputs": [],
   "source": [
    "param_grid={'n_estimators':range(10,110,10),'max_depth':[1,2,3,5,7,9],'min_samples_split':[3,5],'criterion':['gini','entropy']}"
   ]
  },
  {
   "cell_type": "code",
   "execution_count": 127,
   "metadata": {},
   "outputs": [
    {
     "data": {
      "text/plain": [
       "{'criterion': 'entropy',\n",
       " 'max_depth': 3,\n",
       " 'min_samples_split': 3,\n",
       " 'n_estimators': 50}"
      ]
     },
     "execution_count": 127,
     "metadata": {},
     "output_type": "execute_result"
    }
   ],
   "source": [
    "clf7=GridSearchCV(RandomForestClassifier(random_state=0),param_grid,cv=5,scoring='f1')\n",
    "clf7.fit(X,y)\n",
    "clf7.best_params_"
   ]
  },
  {
   "cell_type": "code",
   "execution_count": 128,
   "metadata": {},
   "outputs": [
    {
     "data": {
      "text/plain": [
       "0.5556556730031971"
      ]
     },
     "execution_count": 128,
     "metadata": {},
     "output_type": "execute_result"
    }
   ],
   "source": [
    "clf7.best_score_"
   ]
  },
  {
   "cell_type": "code",
   "execution_count": 129,
   "metadata": {},
   "outputs": [],
   "source": [
    "#model73=RandomForestClassifier(criterion='gini',max_depth=7,min_samples_split= 5,n_estimators=30,random_state=0)\n",
    "model73=clf7.best_estimator_"
   ]
  },
  {
   "cell_type": "code",
   "execution_count": 130,
   "metadata": {},
   "outputs": [
    {
     "data": {
      "text/plain": [
       "RandomForestClassifier(bootstrap=True, ccp_alpha=0.0, class_weight=None,\n",
       "                       criterion='entropy', max_depth=3, max_features='auto',\n",
       "                       max_leaf_nodes=None, max_samples=None,\n",
       "                       min_impurity_decrease=0.0, min_impurity_split=None,\n",
       "                       min_samples_leaf=1, min_samples_split=3,\n",
       "                       min_weight_fraction_leaf=0.0, n_estimators=50,\n",
       "                       n_jobs=None, oob_score=False, random_state=0, verbose=0,\n",
       "                       warm_start=False)"
      ]
     },
     "execution_count": 130,
     "metadata": {},
     "output_type": "execute_result"
    }
   ],
   "source": [
    "model73.fit(X_train,y_train)"
   ]
  },
  {
   "cell_type": "code",
   "execution_count": 131,
   "metadata": {},
   "outputs": [],
   "source": [
    "y_pred73 =model73.predict(X_test)"
   ]
  },
  {
   "cell_type": "markdown",
   "metadata": {},
   "source": [
    "## Model evaluation"
   ]
  },
  {
   "cell_type": "code",
   "execution_count": 132,
   "metadata": {},
   "outputs": [
    {
     "data": {
      "text/plain": [
       "0.49145847733780984"
      ]
     },
     "execution_count": 132,
     "metadata": {},
     "output_type": "execute_result"
    }
   ],
   "source": [
    "accuracy_score(y_test,y_pred73)"
   ]
  },
  {
   "cell_type": "code",
   "execution_count": 133,
   "metadata": {},
   "outputs": [
    {
     "data": {
      "text/plain": [
       "array([[3328, 1701],\n",
       "       [3449, 1649]], dtype=int64)"
      ]
     },
     "execution_count": 133,
     "metadata": {},
     "output_type": "execute_result"
    }
   ],
   "source": [
    "confusion_matrix(y_test,y_pred73 )"
   ]
  },
  {
   "cell_type": "code",
   "execution_count": 134,
   "metadata": {},
   "outputs": [
    {
     "name": "stdout",
     "output_type": "stream",
     "text": [
      "              precision    recall  f1-score   support\n",
      "\n",
      "         0.0       0.49      0.66      0.56      5029\n",
      "         1.0       0.49      0.32      0.39      5098\n",
      "\n",
      "    accuracy                           0.49     10127\n",
      "   macro avg       0.49      0.49      0.48     10127\n",
      "weighted avg       0.49      0.49      0.48     10127\n",
      "\n"
     ]
    }
   ],
   "source": [
    "print(classification_report(y_test,y_pred73))"
   ]
  },
  {
   "cell_type": "code",
   "execution_count": 137,
   "metadata": {},
   "outputs": [
    {
     "data": {
      "text/plain": [
       "0.5014812071894967"
      ]
     },
     "execution_count": 137,
     "metadata": {},
     "output_type": "execute_result"
    }
   ],
   "source": [
    "\"\"\"K-FOLD CROSSVALIDATION\"\"\"\n",
    "#RF=RandomForestClassifier(criterion='gini',max_depth=3,min_samples_split= 3,n_estimators=50,random_state=0)\n",
    "RF=clf7.best_estimator_\n",
    "RFscores=cross_val_score(RF,X,y,cv=5)\n",
    "RF_DS_score=scores.mean()\n",
    "RF_DS_score"
   ]
  },
  {
   "cell_type": "code",
   "execution_count": 138,
   "metadata": {},
   "outputs": [
    {
     "data": {
      "text/plain": [
       "0.5228039535656259"
      ]
     },
     "execution_count": 138,
     "metadata": {},
     "output_type": "execute_result"
    }
   ],
   "source": [
    "RF=RandomForestClassifier(criterion='gini',max_depth=7,min_samples_split= 5,n_estimators=30,random_state=0)\n",
    "scores=cross_val_score(RF,X,y,cv=5,scoring='f1')\n",
    "RF_DS_f1score=scores.mean()\n",
    "RF_DS_f1score"
   ]
  },
  {
   "cell_type": "markdown",
   "metadata": {},
   "source": [
    "### For over sampling balanced data"
   ]
  },
  {
   "cell_type": "code",
   "execution_count": 140,
   "metadata": {},
   "outputs": [
    {
     "ename": "KeyboardInterrupt",
     "evalue": "",
     "output_type": "error",
     "traceback": [
      "\u001b[1;31m---------------------------------------------------------------------------\u001b[0m",
      "\u001b[1;31mKeyboardInterrupt\u001b[0m                         Traceback (most recent call last)",
      "\u001b[1;32m<ipython-input-140-25a8a77576c4>\u001b[0m in \u001b[0;36m<module>\u001b[1;34m\u001b[0m\n\u001b[0;32m      1\u001b[0m \u001b[0mclf7\u001b[0m\u001b[1;33m=\u001b[0m\u001b[0mGridSearchCV\u001b[0m\u001b[1;33m(\u001b[0m\u001b[0mRandomForestClassifier\u001b[0m\u001b[1;33m(\u001b[0m\u001b[0mrandom_state\u001b[0m\u001b[1;33m=\u001b[0m\u001b[1;36m0\u001b[0m\u001b[1;33m)\u001b[0m\u001b[1;33m,\u001b[0m\u001b[0mparam_grid\u001b[0m\u001b[1;33m,\u001b[0m\u001b[0mcv\u001b[0m\u001b[1;33m=\u001b[0m\u001b[1;36m5\u001b[0m\u001b[1;33m,\u001b[0m\u001b[0mscoring\u001b[0m\u001b[1;33m=\u001b[0m\u001b[1;34m'f1'\u001b[0m\u001b[1;33m)\u001b[0m\u001b[1;33m\u001b[0m\u001b[1;33m\u001b[0m\u001b[0m\n\u001b[1;32m----> 2\u001b[1;33m \u001b[0mclf7\u001b[0m\u001b[1;33m.\u001b[0m\u001b[0mfit\u001b[0m\u001b[1;33m(\u001b[0m\u001b[0mX2\u001b[0m\u001b[1;33m,\u001b[0m\u001b[0my2\u001b[0m\u001b[1;33m)\u001b[0m\u001b[1;33m\u001b[0m\u001b[1;33m\u001b[0m\u001b[0m\n\u001b[0m\u001b[0;32m      3\u001b[0m \u001b[0mclf7\u001b[0m\u001b[1;33m.\u001b[0m\u001b[0mbest_params\u001b[0m\u001b[1;33m\u001b[0m\u001b[1;33m\u001b[0m\u001b[0m\n",
      "\u001b[1;32m~\\AppData\\Local\\Continuum\\anaconda3\\lib\\site-packages\\sklearn\\model_selection\\_search.py\u001b[0m in \u001b[0;36mfit\u001b[1;34m(self, X, y, groups, **fit_params)\u001b[0m\n\u001b[0;32m    708\u001b[0m                 \u001b[1;32mreturn\u001b[0m \u001b[0mresults\u001b[0m\u001b[1;33m\u001b[0m\u001b[1;33m\u001b[0m\u001b[0m\n\u001b[0;32m    709\u001b[0m \u001b[1;33m\u001b[0m\u001b[0m\n\u001b[1;32m--> 710\u001b[1;33m             \u001b[0mself\u001b[0m\u001b[1;33m.\u001b[0m\u001b[0m_run_search\u001b[0m\u001b[1;33m(\u001b[0m\u001b[0mevaluate_candidates\u001b[0m\u001b[1;33m)\u001b[0m\u001b[1;33m\u001b[0m\u001b[1;33m\u001b[0m\u001b[0m\n\u001b[0m\u001b[0;32m    711\u001b[0m \u001b[1;33m\u001b[0m\u001b[0m\n\u001b[0;32m    712\u001b[0m         \u001b[1;31m# For multi-metric evaluation, store the best_index_, best_params_ and\u001b[0m\u001b[1;33m\u001b[0m\u001b[1;33m\u001b[0m\u001b[1;33m\u001b[0m\u001b[0m\n",
      "\u001b[1;32m~\\AppData\\Local\\Continuum\\anaconda3\\lib\\site-packages\\sklearn\\model_selection\\_search.py\u001b[0m in \u001b[0;36m_run_search\u001b[1;34m(self, evaluate_candidates)\u001b[0m\n\u001b[0;32m   1149\u001b[0m     \u001b[1;32mdef\u001b[0m \u001b[0m_run_search\u001b[0m\u001b[1;33m(\u001b[0m\u001b[0mself\u001b[0m\u001b[1;33m,\u001b[0m \u001b[0mevaluate_candidates\u001b[0m\u001b[1;33m)\u001b[0m\u001b[1;33m:\u001b[0m\u001b[1;33m\u001b[0m\u001b[1;33m\u001b[0m\u001b[0m\n\u001b[0;32m   1150\u001b[0m         \u001b[1;34m\"\"\"Search all candidates in param_grid\"\"\"\u001b[0m\u001b[1;33m\u001b[0m\u001b[1;33m\u001b[0m\u001b[0m\n\u001b[1;32m-> 1151\u001b[1;33m         \u001b[0mevaluate_candidates\u001b[0m\u001b[1;33m(\u001b[0m\u001b[0mParameterGrid\u001b[0m\u001b[1;33m(\u001b[0m\u001b[0mself\u001b[0m\u001b[1;33m.\u001b[0m\u001b[0mparam_grid\u001b[0m\u001b[1;33m)\u001b[0m\u001b[1;33m)\u001b[0m\u001b[1;33m\u001b[0m\u001b[1;33m\u001b[0m\u001b[0m\n\u001b[0m\u001b[0;32m   1152\u001b[0m \u001b[1;33m\u001b[0m\u001b[0m\n\u001b[0;32m   1153\u001b[0m \u001b[1;33m\u001b[0m\u001b[0m\n",
      "\u001b[1;32m~\\AppData\\Local\\Continuum\\anaconda3\\lib\\site-packages\\sklearn\\model_selection\\_search.py\u001b[0m in \u001b[0;36mevaluate_candidates\u001b[1;34m(candidate_params)\u001b[0m\n\u001b[0;32m    687\u001b[0m                                \u001b[1;32mfor\u001b[0m \u001b[0mparameters\u001b[0m\u001b[1;33m,\u001b[0m \u001b[1;33m(\u001b[0m\u001b[0mtrain\u001b[0m\u001b[1;33m,\u001b[0m \u001b[0mtest\u001b[0m\u001b[1;33m)\u001b[0m\u001b[1;33m\u001b[0m\u001b[1;33m\u001b[0m\u001b[0m\n\u001b[0;32m    688\u001b[0m                                in product(candidate_params,\n\u001b[1;32m--> 689\u001b[1;33m                                           cv.split(X, y, groups)))\n\u001b[0m\u001b[0;32m    690\u001b[0m \u001b[1;33m\u001b[0m\u001b[0m\n\u001b[0;32m    691\u001b[0m                 \u001b[1;32mif\u001b[0m \u001b[0mlen\u001b[0m\u001b[1;33m(\u001b[0m\u001b[0mout\u001b[0m\u001b[1;33m)\u001b[0m \u001b[1;33m<\u001b[0m \u001b[1;36m1\u001b[0m\u001b[1;33m:\u001b[0m\u001b[1;33m\u001b[0m\u001b[1;33m\u001b[0m\u001b[0m\n",
      "\u001b[1;32m~\\AppData\\Local\\Continuum\\anaconda3\\lib\\site-packages\\joblib\\parallel.py\u001b[0m in \u001b[0;36m__call__\u001b[1;34m(self, iterable)\u001b[0m\n\u001b[0;32m   1044\u001b[0m                 \u001b[0mself\u001b[0m\u001b[1;33m.\u001b[0m\u001b[0m_iterating\u001b[0m \u001b[1;33m=\u001b[0m \u001b[0mself\u001b[0m\u001b[1;33m.\u001b[0m\u001b[0m_original_iterator\u001b[0m \u001b[1;32mis\u001b[0m \u001b[1;32mnot\u001b[0m \u001b[1;32mNone\u001b[0m\u001b[1;33m\u001b[0m\u001b[1;33m\u001b[0m\u001b[0m\n\u001b[0;32m   1045\u001b[0m \u001b[1;33m\u001b[0m\u001b[0m\n\u001b[1;32m-> 1046\u001b[1;33m             \u001b[1;32mwhile\u001b[0m \u001b[0mself\u001b[0m\u001b[1;33m.\u001b[0m\u001b[0mdispatch_one_batch\u001b[0m\u001b[1;33m(\u001b[0m\u001b[0miterator\u001b[0m\u001b[1;33m)\u001b[0m\u001b[1;33m:\u001b[0m\u001b[1;33m\u001b[0m\u001b[1;33m\u001b[0m\u001b[0m\n\u001b[0m\u001b[0;32m   1047\u001b[0m                 \u001b[1;32mpass\u001b[0m\u001b[1;33m\u001b[0m\u001b[1;33m\u001b[0m\u001b[0m\n\u001b[0;32m   1048\u001b[0m \u001b[1;33m\u001b[0m\u001b[0m\n",
      "\u001b[1;32m~\\AppData\\Local\\Continuum\\anaconda3\\lib\\site-packages\\joblib\\parallel.py\u001b[0m in \u001b[0;36mdispatch_one_batch\u001b[1;34m(self, iterator)\u001b[0m\n\u001b[0;32m    859\u001b[0m                 \u001b[1;32mreturn\u001b[0m \u001b[1;32mFalse\u001b[0m\u001b[1;33m\u001b[0m\u001b[1;33m\u001b[0m\u001b[0m\n\u001b[0;32m    860\u001b[0m             \u001b[1;32melse\u001b[0m\u001b[1;33m:\u001b[0m\u001b[1;33m\u001b[0m\u001b[1;33m\u001b[0m\u001b[0m\n\u001b[1;32m--> 861\u001b[1;33m                 \u001b[0mself\u001b[0m\u001b[1;33m.\u001b[0m\u001b[0m_dispatch\u001b[0m\u001b[1;33m(\u001b[0m\u001b[0mtasks\u001b[0m\u001b[1;33m)\u001b[0m\u001b[1;33m\u001b[0m\u001b[1;33m\u001b[0m\u001b[0m\n\u001b[0m\u001b[0;32m    862\u001b[0m                 \u001b[1;32mreturn\u001b[0m \u001b[1;32mTrue\u001b[0m\u001b[1;33m\u001b[0m\u001b[1;33m\u001b[0m\u001b[0m\n\u001b[0;32m    863\u001b[0m \u001b[1;33m\u001b[0m\u001b[0m\n",
      "\u001b[1;32m~\\AppData\\Local\\Continuum\\anaconda3\\lib\\site-packages\\joblib\\parallel.py\u001b[0m in \u001b[0;36m_dispatch\u001b[1;34m(self, batch)\u001b[0m\n\u001b[0;32m    777\u001b[0m         \u001b[1;32mwith\u001b[0m \u001b[0mself\u001b[0m\u001b[1;33m.\u001b[0m\u001b[0m_lock\u001b[0m\u001b[1;33m:\u001b[0m\u001b[1;33m\u001b[0m\u001b[1;33m\u001b[0m\u001b[0m\n\u001b[0;32m    778\u001b[0m             \u001b[0mjob_idx\u001b[0m \u001b[1;33m=\u001b[0m \u001b[0mlen\u001b[0m\u001b[1;33m(\u001b[0m\u001b[0mself\u001b[0m\u001b[1;33m.\u001b[0m\u001b[0m_jobs\u001b[0m\u001b[1;33m)\u001b[0m\u001b[1;33m\u001b[0m\u001b[1;33m\u001b[0m\u001b[0m\n\u001b[1;32m--> 779\u001b[1;33m             \u001b[0mjob\u001b[0m \u001b[1;33m=\u001b[0m \u001b[0mself\u001b[0m\u001b[1;33m.\u001b[0m\u001b[0m_backend\u001b[0m\u001b[1;33m.\u001b[0m\u001b[0mapply_async\u001b[0m\u001b[1;33m(\u001b[0m\u001b[0mbatch\u001b[0m\u001b[1;33m,\u001b[0m \u001b[0mcallback\u001b[0m\u001b[1;33m=\u001b[0m\u001b[0mcb\u001b[0m\u001b[1;33m)\u001b[0m\u001b[1;33m\u001b[0m\u001b[1;33m\u001b[0m\u001b[0m\n\u001b[0m\u001b[0;32m    780\u001b[0m             \u001b[1;31m# A job can complete so quickly than its callback is\u001b[0m\u001b[1;33m\u001b[0m\u001b[1;33m\u001b[0m\u001b[1;33m\u001b[0m\u001b[0m\n\u001b[0;32m    781\u001b[0m             \u001b[1;31m# called before we get here, causing self._jobs to\u001b[0m\u001b[1;33m\u001b[0m\u001b[1;33m\u001b[0m\u001b[1;33m\u001b[0m\u001b[0m\n",
      "\u001b[1;32m~\\AppData\\Local\\Continuum\\anaconda3\\lib\\site-packages\\joblib\\_parallel_backends.py\u001b[0m in \u001b[0;36mapply_async\u001b[1;34m(self, func, callback)\u001b[0m\n\u001b[0;32m    206\u001b[0m     \u001b[1;32mdef\u001b[0m \u001b[0mapply_async\u001b[0m\u001b[1;33m(\u001b[0m\u001b[0mself\u001b[0m\u001b[1;33m,\u001b[0m \u001b[0mfunc\u001b[0m\u001b[1;33m,\u001b[0m \u001b[0mcallback\u001b[0m\u001b[1;33m=\u001b[0m\u001b[1;32mNone\u001b[0m\u001b[1;33m)\u001b[0m\u001b[1;33m:\u001b[0m\u001b[1;33m\u001b[0m\u001b[1;33m\u001b[0m\u001b[0m\n\u001b[0;32m    207\u001b[0m         \u001b[1;34m\"\"\"Schedule a func to be run\"\"\"\u001b[0m\u001b[1;33m\u001b[0m\u001b[1;33m\u001b[0m\u001b[0m\n\u001b[1;32m--> 208\u001b[1;33m         \u001b[0mresult\u001b[0m \u001b[1;33m=\u001b[0m \u001b[0mImmediateResult\u001b[0m\u001b[1;33m(\u001b[0m\u001b[0mfunc\u001b[0m\u001b[1;33m)\u001b[0m\u001b[1;33m\u001b[0m\u001b[1;33m\u001b[0m\u001b[0m\n\u001b[0m\u001b[0;32m    209\u001b[0m         \u001b[1;32mif\u001b[0m \u001b[0mcallback\u001b[0m\u001b[1;33m:\u001b[0m\u001b[1;33m\u001b[0m\u001b[1;33m\u001b[0m\u001b[0m\n\u001b[0;32m    210\u001b[0m             \u001b[0mcallback\u001b[0m\u001b[1;33m(\u001b[0m\u001b[0mresult\u001b[0m\u001b[1;33m)\u001b[0m\u001b[1;33m\u001b[0m\u001b[1;33m\u001b[0m\u001b[0m\n",
      "\u001b[1;32m~\\AppData\\Local\\Continuum\\anaconda3\\lib\\site-packages\\joblib\\_parallel_backends.py\u001b[0m in \u001b[0;36m__init__\u001b[1;34m(self, batch)\u001b[0m\n\u001b[0;32m    570\u001b[0m         \u001b[1;31m# Don't delay the application, to avoid keeping the input\u001b[0m\u001b[1;33m\u001b[0m\u001b[1;33m\u001b[0m\u001b[1;33m\u001b[0m\u001b[0m\n\u001b[0;32m    571\u001b[0m         \u001b[1;31m# arguments in memory\u001b[0m\u001b[1;33m\u001b[0m\u001b[1;33m\u001b[0m\u001b[1;33m\u001b[0m\u001b[0m\n\u001b[1;32m--> 572\u001b[1;33m         \u001b[0mself\u001b[0m\u001b[1;33m.\u001b[0m\u001b[0mresults\u001b[0m \u001b[1;33m=\u001b[0m \u001b[0mbatch\u001b[0m\u001b[1;33m(\u001b[0m\u001b[1;33m)\u001b[0m\u001b[1;33m\u001b[0m\u001b[1;33m\u001b[0m\u001b[0m\n\u001b[0m\u001b[0;32m    573\u001b[0m \u001b[1;33m\u001b[0m\u001b[0m\n\u001b[0;32m    574\u001b[0m     \u001b[1;32mdef\u001b[0m \u001b[0mget\u001b[0m\u001b[1;33m(\u001b[0m\u001b[0mself\u001b[0m\u001b[1;33m)\u001b[0m\u001b[1;33m:\u001b[0m\u001b[1;33m\u001b[0m\u001b[1;33m\u001b[0m\u001b[0m\n",
      "\u001b[1;32m~\\AppData\\Local\\Continuum\\anaconda3\\lib\\site-packages\\joblib\\parallel.py\u001b[0m in \u001b[0;36m__call__\u001b[1;34m(self)\u001b[0m\n\u001b[0;32m    261\u001b[0m         \u001b[1;32mwith\u001b[0m \u001b[0mparallel_backend\u001b[0m\u001b[1;33m(\u001b[0m\u001b[0mself\u001b[0m\u001b[1;33m.\u001b[0m\u001b[0m_backend\u001b[0m\u001b[1;33m,\u001b[0m \u001b[0mn_jobs\u001b[0m\u001b[1;33m=\u001b[0m\u001b[0mself\u001b[0m\u001b[1;33m.\u001b[0m\u001b[0m_n_jobs\u001b[0m\u001b[1;33m)\u001b[0m\u001b[1;33m:\u001b[0m\u001b[1;33m\u001b[0m\u001b[1;33m\u001b[0m\u001b[0m\n\u001b[0;32m    262\u001b[0m             return [func(*args, **kwargs)\n\u001b[1;32m--> 263\u001b[1;33m                     for func, args, kwargs in self.items]\n\u001b[0m\u001b[0;32m    264\u001b[0m \u001b[1;33m\u001b[0m\u001b[0m\n\u001b[0;32m    265\u001b[0m     \u001b[1;32mdef\u001b[0m \u001b[0m__reduce__\u001b[0m\u001b[1;33m(\u001b[0m\u001b[0mself\u001b[0m\u001b[1;33m)\u001b[0m\u001b[1;33m:\u001b[0m\u001b[1;33m\u001b[0m\u001b[1;33m\u001b[0m\u001b[0m\n",
      "\u001b[1;32m~\\AppData\\Local\\Continuum\\anaconda3\\lib\\site-packages\\joblib\\parallel.py\u001b[0m in \u001b[0;36m<listcomp>\u001b[1;34m(.0)\u001b[0m\n\u001b[0;32m    261\u001b[0m         \u001b[1;32mwith\u001b[0m \u001b[0mparallel_backend\u001b[0m\u001b[1;33m(\u001b[0m\u001b[0mself\u001b[0m\u001b[1;33m.\u001b[0m\u001b[0m_backend\u001b[0m\u001b[1;33m,\u001b[0m \u001b[0mn_jobs\u001b[0m\u001b[1;33m=\u001b[0m\u001b[0mself\u001b[0m\u001b[1;33m.\u001b[0m\u001b[0m_n_jobs\u001b[0m\u001b[1;33m)\u001b[0m\u001b[1;33m:\u001b[0m\u001b[1;33m\u001b[0m\u001b[1;33m\u001b[0m\u001b[0m\n\u001b[0;32m    262\u001b[0m             return [func(*args, **kwargs)\n\u001b[1;32m--> 263\u001b[1;33m                     for func, args, kwargs in self.items]\n\u001b[0m\u001b[0;32m    264\u001b[0m \u001b[1;33m\u001b[0m\u001b[0m\n\u001b[0;32m    265\u001b[0m     \u001b[1;32mdef\u001b[0m \u001b[0m__reduce__\u001b[0m\u001b[1;33m(\u001b[0m\u001b[0mself\u001b[0m\u001b[1;33m)\u001b[0m\u001b[1;33m:\u001b[0m\u001b[1;33m\u001b[0m\u001b[1;33m\u001b[0m\u001b[0m\n",
      "\u001b[1;32m~\\AppData\\Local\\Continuum\\anaconda3\\lib\\site-packages\\sklearn\\model_selection\\_validation.py\u001b[0m in \u001b[0;36m_fit_and_score\u001b[1;34m(estimator, X, y, scorer, train, test, verbose, parameters, fit_params, return_train_score, return_parameters, return_n_test_samples, return_times, return_estimator, error_score)\u001b[0m\n\u001b[0;32m    513\u001b[0m             \u001b[0mestimator\u001b[0m\u001b[1;33m.\u001b[0m\u001b[0mfit\u001b[0m\u001b[1;33m(\u001b[0m\u001b[0mX_train\u001b[0m\u001b[1;33m,\u001b[0m \u001b[1;33m**\u001b[0m\u001b[0mfit_params\u001b[0m\u001b[1;33m)\u001b[0m\u001b[1;33m\u001b[0m\u001b[1;33m\u001b[0m\u001b[0m\n\u001b[0;32m    514\u001b[0m         \u001b[1;32melse\u001b[0m\u001b[1;33m:\u001b[0m\u001b[1;33m\u001b[0m\u001b[1;33m\u001b[0m\u001b[0m\n\u001b[1;32m--> 515\u001b[1;33m             \u001b[0mestimator\u001b[0m\u001b[1;33m.\u001b[0m\u001b[0mfit\u001b[0m\u001b[1;33m(\u001b[0m\u001b[0mX_train\u001b[0m\u001b[1;33m,\u001b[0m \u001b[0my_train\u001b[0m\u001b[1;33m,\u001b[0m \u001b[1;33m**\u001b[0m\u001b[0mfit_params\u001b[0m\u001b[1;33m)\u001b[0m\u001b[1;33m\u001b[0m\u001b[1;33m\u001b[0m\u001b[0m\n\u001b[0m\u001b[0;32m    516\u001b[0m \u001b[1;33m\u001b[0m\u001b[0m\n\u001b[0;32m    517\u001b[0m     \u001b[1;32mexcept\u001b[0m \u001b[0mException\u001b[0m \u001b[1;32mas\u001b[0m \u001b[0me\u001b[0m\u001b[1;33m:\u001b[0m\u001b[1;33m\u001b[0m\u001b[1;33m\u001b[0m\u001b[0m\n",
      "\u001b[1;32m~\\AppData\\Local\\Continuum\\anaconda3\\lib\\site-packages\\sklearn\\ensemble\\_forest.py\u001b[0m in \u001b[0;36mfit\u001b[1;34m(self, X, y, sample_weight)\u001b[0m\n\u001b[0;32m    381\u001b[0m                     \u001b[0mverbose\u001b[0m\u001b[1;33m=\u001b[0m\u001b[0mself\u001b[0m\u001b[1;33m.\u001b[0m\u001b[0mverbose\u001b[0m\u001b[1;33m,\u001b[0m \u001b[0mclass_weight\u001b[0m\u001b[1;33m=\u001b[0m\u001b[0mself\u001b[0m\u001b[1;33m.\u001b[0m\u001b[0mclass_weight\u001b[0m\u001b[1;33m,\u001b[0m\u001b[1;33m\u001b[0m\u001b[1;33m\u001b[0m\u001b[0m\n\u001b[0;32m    382\u001b[0m                     n_samples_bootstrap=n_samples_bootstrap)\n\u001b[1;32m--> 383\u001b[1;33m                 for i, t in enumerate(trees))\n\u001b[0m\u001b[0;32m    384\u001b[0m \u001b[1;33m\u001b[0m\u001b[0m\n\u001b[0;32m    385\u001b[0m             \u001b[1;31m# Collect newly grown trees\u001b[0m\u001b[1;33m\u001b[0m\u001b[1;33m\u001b[0m\u001b[1;33m\u001b[0m\u001b[0m\n",
      "\u001b[1;32m~\\AppData\\Local\\Continuum\\anaconda3\\lib\\site-packages\\joblib\\parallel.py\u001b[0m in \u001b[0;36m__call__\u001b[1;34m(self, iterable)\u001b[0m\n\u001b[0;32m   1044\u001b[0m                 \u001b[0mself\u001b[0m\u001b[1;33m.\u001b[0m\u001b[0m_iterating\u001b[0m \u001b[1;33m=\u001b[0m \u001b[0mself\u001b[0m\u001b[1;33m.\u001b[0m\u001b[0m_original_iterator\u001b[0m \u001b[1;32mis\u001b[0m \u001b[1;32mnot\u001b[0m \u001b[1;32mNone\u001b[0m\u001b[1;33m\u001b[0m\u001b[1;33m\u001b[0m\u001b[0m\n\u001b[0;32m   1045\u001b[0m \u001b[1;33m\u001b[0m\u001b[0m\n\u001b[1;32m-> 1046\u001b[1;33m             \u001b[1;32mwhile\u001b[0m \u001b[0mself\u001b[0m\u001b[1;33m.\u001b[0m\u001b[0mdispatch_one_batch\u001b[0m\u001b[1;33m(\u001b[0m\u001b[0miterator\u001b[0m\u001b[1;33m)\u001b[0m\u001b[1;33m:\u001b[0m\u001b[1;33m\u001b[0m\u001b[1;33m\u001b[0m\u001b[0m\n\u001b[0m\u001b[0;32m   1047\u001b[0m                 \u001b[1;32mpass\u001b[0m\u001b[1;33m\u001b[0m\u001b[1;33m\u001b[0m\u001b[0m\n\u001b[0;32m   1048\u001b[0m \u001b[1;33m\u001b[0m\u001b[0m\n",
      "\u001b[1;32m~\\AppData\\Local\\Continuum\\anaconda3\\lib\\site-packages\\joblib\\parallel.py\u001b[0m in \u001b[0;36mdispatch_one_batch\u001b[1;34m(self, iterator)\u001b[0m\n\u001b[0;32m    859\u001b[0m                 \u001b[1;32mreturn\u001b[0m \u001b[1;32mFalse\u001b[0m\u001b[1;33m\u001b[0m\u001b[1;33m\u001b[0m\u001b[0m\n\u001b[0;32m    860\u001b[0m             \u001b[1;32melse\u001b[0m\u001b[1;33m:\u001b[0m\u001b[1;33m\u001b[0m\u001b[1;33m\u001b[0m\u001b[0m\n\u001b[1;32m--> 861\u001b[1;33m                 \u001b[0mself\u001b[0m\u001b[1;33m.\u001b[0m\u001b[0m_dispatch\u001b[0m\u001b[1;33m(\u001b[0m\u001b[0mtasks\u001b[0m\u001b[1;33m)\u001b[0m\u001b[1;33m\u001b[0m\u001b[1;33m\u001b[0m\u001b[0m\n\u001b[0m\u001b[0;32m    862\u001b[0m                 \u001b[1;32mreturn\u001b[0m \u001b[1;32mTrue\u001b[0m\u001b[1;33m\u001b[0m\u001b[1;33m\u001b[0m\u001b[0m\n\u001b[0;32m    863\u001b[0m \u001b[1;33m\u001b[0m\u001b[0m\n",
      "\u001b[1;32m~\\AppData\\Local\\Continuum\\anaconda3\\lib\\site-packages\\joblib\\parallel.py\u001b[0m in \u001b[0;36m_dispatch\u001b[1;34m(self, batch)\u001b[0m\n\u001b[0;32m    777\u001b[0m         \u001b[1;32mwith\u001b[0m \u001b[0mself\u001b[0m\u001b[1;33m.\u001b[0m\u001b[0m_lock\u001b[0m\u001b[1;33m:\u001b[0m\u001b[1;33m\u001b[0m\u001b[1;33m\u001b[0m\u001b[0m\n\u001b[0;32m    778\u001b[0m             \u001b[0mjob_idx\u001b[0m \u001b[1;33m=\u001b[0m \u001b[0mlen\u001b[0m\u001b[1;33m(\u001b[0m\u001b[0mself\u001b[0m\u001b[1;33m.\u001b[0m\u001b[0m_jobs\u001b[0m\u001b[1;33m)\u001b[0m\u001b[1;33m\u001b[0m\u001b[1;33m\u001b[0m\u001b[0m\n\u001b[1;32m--> 779\u001b[1;33m             \u001b[0mjob\u001b[0m \u001b[1;33m=\u001b[0m \u001b[0mself\u001b[0m\u001b[1;33m.\u001b[0m\u001b[0m_backend\u001b[0m\u001b[1;33m.\u001b[0m\u001b[0mapply_async\u001b[0m\u001b[1;33m(\u001b[0m\u001b[0mbatch\u001b[0m\u001b[1;33m,\u001b[0m \u001b[0mcallback\u001b[0m\u001b[1;33m=\u001b[0m\u001b[0mcb\u001b[0m\u001b[1;33m)\u001b[0m\u001b[1;33m\u001b[0m\u001b[1;33m\u001b[0m\u001b[0m\n\u001b[0m\u001b[0;32m    780\u001b[0m             \u001b[1;31m# A job can complete so quickly than its callback is\u001b[0m\u001b[1;33m\u001b[0m\u001b[1;33m\u001b[0m\u001b[1;33m\u001b[0m\u001b[0m\n\u001b[0;32m    781\u001b[0m             \u001b[1;31m# called before we get here, causing self._jobs to\u001b[0m\u001b[1;33m\u001b[0m\u001b[1;33m\u001b[0m\u001b[1;33m\u001b[0m\u001b[0m\n",
      "\u001b[1;32m~\\AppData\\Local\\Continuum\\anaconda3\\lib\\site-packages\\joblib\\_parallel_backends.py\u001b[0m in \u001b[0;36mapply_async\u001b[1;34m(self, func, callback)\u001b[0m\n\u001b[0;32m    206\u001b[0m     \u001b[1;32mdef\u001b[0m \u001b[0mapply_async\u001b[0m\u001b[1;33m(\u001b[0m\u001b[0mself\u001b[0m\u001b[1;33m,\u001b[0m \u001b[0mfunc\u001b[0m\u001b[1;33m,\u001b[0m \u001b[0mcallback\u001b[0m\u001b[1;33m=\u001b[0m\u001b[1;32mNone\u001b[0m\u001b[1;33m)\u001b[0m\u001b[1;33m:\u001b[0m\u001b[1;33m\u001b[0m\u001b[1;33m\u001b[0m\u001b[0m\n\u001b[0;32m    207\u001b[0m         \u001b[1;34m\"\"\"Schedule a func to be run\"\"\"\u001b[0m\u001b[1;33m\u001b[0m\u001b[1;33m\u001b[0m\u001b[0m\n\u001b[1;32m--> 208\u001b[1;33m         \u001b[0mresult\u001b[0m \u001b[1;33m=\u001b[0m \u001b[0mImmediateResult\u001b[0m\u001b[1;33m(\u001b[0m\u001b[0mfunc\u001b[0m\u001b[1;33m)\u001b[0m\u001b[1;33m\u001b[0m\u001b[1;33m\u001b[0m\u001b[0m\n\u001b[0m\u001b[0;32m    209\u001b[0m         \u001b[1;32mif\u001b[0m \u001b[0mcallback\u001b[0m\u001b[1;33m:\u001b[0m\u001b[1;33m\u001b[0m\u001b[1;33m\u001b[0m\u001b[0m\n\u001b[0;32m    210\u001b[0m             \u001b[0mcallback\u001b[0m\u001b[1;33m(\u001b[0m\u001b[0mresult\u001b[0m\u001b[1;33m)\u001b[0m\u001b[1;33m\u001b[0m\u001b[1;33m\u001b[0m\u001b[0m\n",
      "\u001b[1;32m~\\AppData\\Local\\Continuum\\anaconda3\\lib\\site-packages\\joblib\\_parallel_backends.py\u001b[0m in \u001b[0;36m__init__\u001b[1;34m(self, batch)\u001b[0m\n\u001b[0;32m    570\u001b[0m         \u001b[1;31m# Don't delay the application, to avoid keeping the input\u001b[0m\u001b[1;33m\u001b[0m\u001b[1;33m\u001b[0m\u001b[1;33m\u001b[0m\u001b[0m\n\u001b[0;32m    571\u001b[0m         \u001b[1;31m# arguments in memory\u001b[0m\u001b[1;33m\u001b[0m\u001b[1;33m\u001b[0m\u001b[1;33m\u001b[0m\u001b[0m\n\u001b[1;32m--> 572\u001b[1;33m         \u001b[0mself\u001b[0m\u001b[1;33m.\u001b[0m\u001b[0mresults\u001b[0m \u001b[1;33m=\u001b[0m \u001b[0mbatch\u001b[0m\u001b[1;33m(\u001b[0m\u001b[1;33m)\u001b[0m\u001b[1;33m\u001b[0m\u001b[1;33m\u001b[0m\u001b[0m\n\u001b[0m\u001b[0;32m    573\u001b[0m \u001b[1;33m\u001b[0m\u001b[0m\n\u001b[0;32m    574\u001b[0m     \u001b[1;32mdef\u001b[0m \u001b[0mget\u001b[0m\u001b[1;33m(\u001b[0m\u001b[0mself\u001b[0m\u001b[1;33m)\u001b[0m\u001b[1;33m:\u001b[0m\u001b[1;33m\u001b[0m\u001b[1;33m\u001b[0m\u001b[0m\n",
      "\u001b[1;32m~\\AppData\\Local\\Continuum\\anaconda3\\lib\\site-packages\\joblib\\parallel.py\u001b[0m in \u001b[0;36m__call__\u001b[1;34m(self)\u001b[0m\n\u001b[0;32m    261\u001b[0m         \u001b[1;32mwith\u001b[0m \u001b[0mparallel_backend\u001b[0m\u001b[1;33m(\u001b[0m\u001b[0mself\u001b[0m\u001b[1;33m.\u001b[0m\u001b[0m_backend\u001b[0m\u001b[1;33m,\u001b[0m \u001b[0mn_jobs\u001b[0m\u001b[1;33m=\u001b[0m\u001b[0mself\u001b[0m\u001b[1;33m.\u001b[0m\u001b[0m_n_jobs\u001b[0m\u001b[1;33m)\u001b[0m\u001b[1;33m:\u001b[0m\u001b[1;33m\u001b[0m\u001b[1;33m\u001b[0m\u001b[0m\n\u001b[0;32m    262\u001b[0m             return [func(*args, **kwargs)\n\u001b[1;32m--> 263\u001b[1;33m                     for func, args, kwargs in self.items]\n\u001b[0m\u001b[0;32m    264\u001b[0m \u001b[1;33m\u001b[0m\u001b[0m\n\u001b[0;32m    265\u001b[0m     \u001b[1;32mdef\u001b[0m \u001b[0m__reduce__\u001b[0m\u001b[1;33m(\u001b[0m\u001b[0mself\u001b[0m\u001b[1;33m)\u001b[0m\u001b[1;33m:\u001b[0m\u001b[1;33m\u001b[0m\u001b[1;33m\u001b[0m\u001b[0m\n",
      "\u001b[1;32m~\\AppData\\Local\\Continuum\\anaconda3\\lib\\site-packages\\joblib\\parallel.py\u001b[0m in \u001b[0;36m<listcomp>\u001b[1;34m(.0)\u001b[0m\n\u001b[0;32m    261\u001b[0m         \u001b[1;32mwith\u001b[0m \u001b[0mparallel_backend\u001b[0m\u001b[1;33m(\u001b[0m\u001b[0mself\u001b[0m\u001b[1;33m.\u001b[0m\u001b[0m_backend\u001b[0m\u001b[1;33m,\u001b[0m \u001b[0mn_jobs\u001b[0m\u001b[1;33m=\u001b[0m\u001b[0mself\u001b[0m\u001b[1;33m.\u001b[0m\u001b[0m_n_jobs\u001b[0m\u001b[1;33m)\u001b[0m\u001b[1;33m:\u001b[0m\u001b[1;33m\u001b[0m\u001b[1;33m\u001b[0m\u001b[0m\n\u001b[0;32m    262\u001b[0m             return [func(*args, **kwargs)\n\u001b[1;32m--> 263\u001b[1;33m                     for func, args, kwargs in self.items]\n\u001b[0m\u001b[0;32m    264\u001b[0m \u001b[1;33m\u001b[0m\u001b[0m\n\u001b[0;32m    265\u001b[0m     \u001b[1;32mdef\u001b[0m \u001b[0m__reduce__\u001b[0m\u001b[1;33m(\u001b[0m\u001b[0mself\u001b[0m\u001b[1;33m)\u001b[0m\u001b[1;33m:\u001b[0m\u001b[1;33m\u001b[0m\u001b[1;33m\u001b[0m\u001b[0m\n",
      "\u001b[1;32m~\\AppData\\Local\\Continuum\\anaconda3\\lib\\site-packages\\sklearn\\ensemble\\_forest.py\u001b[0m in \u001b[0;36m_parallel_build_trees\u001b[1;34m(tree, forest, X, y, sample_weight, tree_idx, n_trees, verbose, class_weight, n_samples_bootstrap)\u001b[0m\n\u001b[0;32m    163\u001b[0m             \u001b[0mcurr_sample_weight\u001b[0m \u001b[1;33m*=\u001b[0m \u001b[0mcompute_sample_weight\u001b[0m\u001b[1;33m(\u001b[0m\u001b[1;34m'balanced'\u001b[0m\u001b[1;33m,\u001b[0m \u001b[0my\u001b[0m\u001b[1;33m,\u001b[0m \u001b[0mindices\u001b[0m\u001b[1;33m)\u001b[0m\u001b[1;33m\u001b[0m\u001b[1;33m\u001b[0m\u001b[0m\n\u001b[0;32m    164\u001b[0m \u001b[1;33m\u001b[0m\u001b[0m\n\u001b[1;32m--> 165\u001b[1;33m         \u001b[0mtree\u001b[0m\u001b[1;33m.\u001b[0m\u001b[0mfit\u001b[0m\u001b[1;33m(\u001b[0m\u001b[0mX\u001b[0m\u001b[1;33m,\u001b[0m \u001b[0my\u001b[0m\u001b[1;33m,\u001b[0m \u001b[0msample_weight\u001b[0m\u001b[1;33m=\u001b[0m\u001b[0mcurr_sample_weight\u001b[0m\u001b[1;33m,\u001b[0m \u001b[0mcheck_input\u001b[0m\u001b[1;33m=\u001b[0m\u001b[1;32mFalse\u001b[0m\u001b[1;33m)\u001b[0m\u001b[1;33m\u001b[0m\u001b[1;33m\u001b[0m\u001b[0m\n\u001b[0m\u001b[0;32m    166\u001b[0m     \u001b[1;32melse\u001b[0m\u001b[1;33m:\u001b[0m\u001b[1;33m\u001b[0m\u001b[1;33m\u001b[0m\u001b[0m\n\u001b[0;32m    167\u001b[0m         \u001b[0mtree\u001b[0m\u001b[1;33m.\u001b[0m\u001b[0mfit\u001b[0m\u001b[1;33m(\u001b[0m\u001b[0mX\u001b[0m\u001b[1;33m,\u001b[0m \u001b[0my\u001b[0m\u001b[1;33m,\u001b[0m \u001b[0msample_weight\u001b[0m\u001b[1;33m=\u001b[0m\u001b[0msample_weight\u001b[0m\u001b[1;33m,\u001b[0m \u001b[0mcheck_input\u001b[0m\u001b[1;33m=\u001b[0m\u001b[1;32mFalse\u001b[0m\u001b[1;33m)\u001b[0m\u001b[1;33m\u001b[0m\u001b[1;33m\u001b[0m\u001b[0m\n",
      "\u001b[1;32m~\\AppData\\Local\\Continuum\\anaconda3\\lib\\site-packages\\sklearn\\tree\\_classes.py\u001b[0m in \u001b[0;36mfit\u001b[1;34m(self, X, y, sample_weight, check_input, X_idx_sorted)\u001b[0m\n\u001b[0;32m    875\u001b[0m             \u001b[0msample_weight\u001b[0m\u001b[1;33m=\u001b[0m\u001b[0msample_weight\u001b[0m\u001b[1;33m,\u001b[0m\u001b[1;33m\u001b[0m\u001b[1;33m\u001b[0m\u001b[0m\n\u001b[0;32m    876\u001b[0m             \u001b[0mcheck_input\u001b[0m\u001b[1;33m=\u001b[0m\u001b[0mcheck_input\u001b[0m\u001b[1;33m,\u001b[0m\u001b[1;33m\u001b[0m\u001b[1;33m\u001b[0m\u001b[0m\n\u001b[1;32m--> 877\u001b[1;33m             X_idx_sorted=X_idx_sorted)\n\u001b[0m\u001b[0;32m    878\u001b[0m         \u001b[1;32mreturn\u001b[0m \u001b[0mself\u001b[0m\u001b[1;33m\u001b[0m\u001b[1;33m\u001b[0m\u001b[0m\n\u001b[0;32m    879\u001b[0m \u001b[1;33m\u001b[0m\u001b[0m\n",
      "\u001b[1;32m~\\AppData\\Local\\Continuum\\anaconda3\\lib\\site-packages\\sklearn\\tree\\_classes.py\u001b[0m in \u001b[0;36mfit\u001b[1;34m(self, X, y, sample_weight, check_input, X_idx_sorted)\u001b[0m\n\u001b[0;32m    365\u001b[0m                                            min_impurity_split)\n\u001b[0;32m    366\u001b[0m \u001b[1;33m\u001b[0m\u001b[0m\n\u001b[1;32m--> 367\u001b[1;33m         \u001b[0mbuilder\u001b[0m\u001b[1;33m.\u001b[0m\u001b[0mbuild\u001b[0m\u001b[1;33m(\u001b[0m\u001b[0mself\u001b[0m\u001b[1;33m.\u001b[0m\u001b[0mtree_\u001b[0m\u001b[1;33m,\u001b[0m \u001b[0mX\u001b[0m\u001b[1;33m,\u001b[0m \u001b[0my\u001b[0m\u001b[1;33m,\u001b[0m \u001b[0msample_weight\u001b[0m\u001b[1;33m,\u001b[0m \u001b[0mX_idx_sorted\u001b[0m\u001b[1;33m)\u001b[0m\u001b[1;33m\u001b[0m\u001b[1;33m\u001b[0m\u001b[0m\n\u001b[0m\u001b[0;32m    368\u001b[0m \u001b[1;33m\u001b[0m\u001b[0m\n\u001b[0;32m    369\u001b[0m         \u001b[1;32mif\u001b[0m \u001b[0mself\u001b[0m\u001b[1;33m.\u001b[0m\u001b[0mn_outputs_\u001b[0m \u001b[1;33m==\u001b[0m \u001b[1;36m1\u001b[0m \u001b[1;32mand\u001b[0m \u001b[0mis_classifier\u001b[0m\u001b[1;33m(\u001b[0m\u001b[0mself\u001b[0m\u001b[1;33m)\u001b[0m\u001b[1;33m:\u001b[0m\u001b[1;33m\u001b[0m\u001b[1;33m\u001b[0m\u001b[0m\n",
      "\u001b[1;31mKeyboardInterrupt\u001b[0m: "
     ]
    }
   ],
   "source": [
    "clf7=GridSearchCV(RandomForestClassifier(random_state=0),param_grid,cv=5,scoring='f1')\n",
    "clf7.fit(X2,y2)\n",
    "clf7.best_params"
   ]
  },
  {
   "cell_type": "code",
   "execution_count": null,
   "metadata": {},
   "outputs": [],
   "source": [
    "#RF=RandomForestClassifier(criterion='gini',max_depth=9,min_samples_split= 5,n_estimators=100,random_state=0)\n",
    "RF=clf7.best_estimator_\n",
    "RFscores=cross_val_score(RF,X2,y2,cv=5)\n",
    "RF_OS_score=scores.mean()\n",
    "RF_OS_score"
   ]
  },
  {
   "cell_type": "code",
   "execution_count": null,
   "metadata": {},
   "outputs": [],
   "source": [
    "RF=clf7.best_estimator_\n",
    "scores=cross_val_score(RF,X2,y2,cv=5,scoring='f1')\n",
    "RF_OS_f1score=scores.mean()\n",
    "RF_OS_f1score"
   ]
  },
  {
   "cell_type": "markdown",
   "metadata": {},
   "source": [
    "## For not balanced data"
   ]
  },
  {
   "cell_type": "code",
   "execution_count": null,
   "metadata": {},
   "outputs": [],
   "source": [
    "clf7=GridSearchCV(RandomForestClassifier(random_state=0),param_grid,cv=5,scoring='f1')\n",
    "clf7.fit(X1,y1)\n",
    "clf7.best_params_"
   ]
  },
  {
   "cell_type": "code",
   "execution_count": null,
   "metadata": {},
   "outputs": [],
   "source": [
    "\"\"\"K-FOLD CROSSVALIDATION for not balanced data \"\"\"\n",
    "#RF=RandomForestClassifier(criterion='gini',max_depth=7,min_samples_split= 5,n_estimators=30,random_state=0)\n",
    "RF=clf7.best_estimator_\n",
    "scores=cross_val_score(RF,X1,y1,cv=5)\n",
    "RF_score=scores.mean()\n",
    "RF_score"
   ]
  },
  {
   "cell_type": "code",
   "execution_count": null,
   "metadata": {},
   "outputs": [],
   "source": [
    "#RF=RandomForestClassifier(criterion='gini',max_depth=7,min_samples_split= 5,n_estimators=30,random_state=0)\n",
    "RF=clf7.best_estimator_\n",
    "scores=cross_val_score(RF,X1,y1,cv=5,scoring='f1')\n",
    "RF_f1score=scores.mean()\n",
    "RF_f1score"
   ]
  },
  {
   "cell_type": "markdown",
   "metadata": {},
   "source": [
    "## For class_weight='balanced' (Cost-Sensitive Training)"
   ]
  },
  {
   "cell_type": "code",
   "execution_count": null,
   "metadata": {},
   "outputs": [],
   "source": [
    "clf7=GridSearchCV(RandomForestClassifier(class_weight='balanced',random_state=0),param_grid,cv=5,scoring='f1')\n",
    "clf7.fit(X1,y1)\n",
    "clf7.best_params_"
   ]
  },
  {
   "cell_type": "code",
   "execution_count": null,
   "metadata": {},
   "outputs": [],
   "source": [
    "\"\"\"K-FOLD CROSSVALIDATION for class_weight='balanced' \"\"\"\n",
    "#RF=RandomForestClassifier(class_weight='balanced',criterion='gini',max_depth=7,min_samples_split= 5,n_estimators=30,random_state=0)\n",
    "RF=clf7.best_estimator_\n",
    "scores=cross_val_score(RF,X1,y1,cv=5)\n",
    "RF_WB_score=scores.mean()\n",
    "RF_WB_score"
   ]
  },
  {
   "cell_type": "code",
   "execution_count": null,
   "metadata": {},
   "outputs": [],
   "source": [
    "#RF=RandomForestClassifier(class_weight='balanced',criterion='gini',max_depth=7,min_samples_split= 5,n_estimators=30,random_state=0)\n",
    "RF=clf7.best_estimator_\n",
    "scores=cross_val_score(RF,X1,y1,cv=5,scoring='f1')\n",
    "RF_WB_f1score=scores.mean()\n",
    "RF_WB_f1score"
   ]
  },
  {
   "cell_type": "markdown",
   "metadata": {},
   "source": [
    "# Adaboost"
   ]
  },
  {
   "cell_type": "code",
   "execution_count": 141,
   "metadata": {},
   "outputs": [],
   "source": [
    "from sklearn.ensemble import AdaBoostClassifier"
   ]
  },
  {
   "cell_type": "code",
   "execution_count": 142,
   "metadata": {},
   "outputs": [],
   "source": [
    "model8= AdaBoostClassifier(random_state=0)"
   ]
  },
  {
   "cell_type": "code",
   "execution_count": 143,
   "metadata": {},
   "outputs": [
    {
     "data": {
      "text/plain": [
       "0.4972844870149106"
      ]
     },
     "execution_count": 143,
     "metadata": {},
     "output_type": "execute_result"
    }
   ],
   "source": [
    "model8.fit(X_train,y_train)\n",
    "model8.score(X_test,y_test)"
   ]
  },
  {
   "cell_type": "code",
   "execution_count": 144,
   "metadata": {},
   "outputs": [],
   "source": [
    "model8_2= AdaBoostClassifier(DecisionTreeClassifier(max_depth=3),n_estimators=40,random_state=0)"
   ]
  },
  {
   "cell_type": "code",
   "execution_count": 145,
   "metadata": {},
   "outputs": [
    {
     "data": {
      "text/plain": [
       "AdaBoostClassifier(algorithm='SAMME.R',\n",
       "                   base_estimator=DecisionTreeClassifier(ccp_alpha=0.0,\n",
       "                                                         class_weight=None,\n",
       "                                                         criterion='gini',\n",
       "                                                         max_depth=3,\n",
       "                                                         max_features=None,\n",
       "                                                         max_leaf_nodes=None,\n",
       "                                                         min_impurity_decrease=0.0,\n",
       "                                                         min_impurity_split=None,\n",
       "                                                         min_samples_leaf=1,\n",
       "                                                         min_samples_split=2,\n",
       "                                                         min_weight_fraction_leaf=0.0,\n",
       "                                                         presort='deprecated',\n",
       "                                                         random_state=None,\n",
       "                                                         splitter='best'),\n",
       "                   learning_rate=1.0, n_estimators=40, random_state=0)"
      ]
     },
     "execution_count": 145,
     "metadata": {},
     "output_type": "execute_result"
    }
   ],
   "source": [
    "model8_2.fit(X_train,y_train)"
   ]
  },
  {
   "cell_type": "code",
   "execution_count": 146,
   "metadata": {},
   "outputs": [
    {
     "data": {
      "text/plain": [
       "AdaBoostClassifier(algorithm='SAMME.R',\n",
       "                   base_estimator=DecisionTreeClassifier(ccp_alpha=0.0,\n",
       "                                                         class_weight=None,\n",
       "                                                         criterion='gini',\n",
       "                                                         max_depth=3,\n",
       "                                                         max_features=None,\n",
       "                                                         max_leaf_nodes=None,\n",
       "                                                         min_impurity_decrease=0.0,\n",
       "                                                         min_impurity_split=None,\n",
       "                                                         min_samples_leaf=1,\n",
       "                                                         min_samples_split=2,\n",
       "                                                         min_weight_fraction_leaf=0.0,\n",
       "                                                         presort='deprecated',\n",
       "                                                         random_state=None,\n",
       "                                                         splitter='best'),\n",
       "                   learning_rate=1.0, n_estimators=40, random_state=0)"
      ]
     },
     "execution_count": 146,
     "metadata": {},
     "output_type": "execute_result"
    }
   ],
   "source": [
    "model8_2.fit(X_train,y_train)"
   ]
  },
  {
   "cell_type": "code",
   "execution_count": 147,
   "metadata": {},
   "outputs": [
    {
     "data": {
      "text/plain": [
       "0.4998518811099042"
      ]
     },
     "execution_count": 147,
     "metadata": {},
     "output_type": "execute_result"
    }
   ],
   "source": [
    "model8_2.score(X_test,y_test)"
   ]
  },
  {
   "cell_type": "markdown",
   "metadata": {},
   "source": [
    "# Tuning"
   ]
  },
  {
   "cell_type": "markdown",
   "metadata": {},
   "source": [
    "### For down sampling balanced data"
   ]
  },
  {
   "cell_type": "code",
   "execution_count": 148,
   "metadata": {},
   "outputs": [],
   "source": [
    "param_grid={'n_estimators':range(10,110,10)}\n",
    "clf8=GridSearchCV(AdaBoostClassifier(DecisionTreeClassifier(max_depth=3)),param_grid,cv=5,scoring='f1')\n"
   ]
  },
  {
   "cell_type": "code",
   "execution_count": 149,
   "metadata": {},
   "outputs": [
    {
     "data": {
      "text/plain": [
       "{'n_estimators': 20}"
      ]
     },
     "execution_count": 149,
     "metadata": {},
     "output_type": "execute_result"
    }
   ],
   "source": [
    "clf8.fit(X_train,y_train)\n",
    "clf8.best_params_"
   ]
  },
  {
   "cell_type": "code",
   "execution_count": null,
   "metadata": {},
   "outputs": [],
   "source": [
    "adab=AdaBoostClassifier(DecisionTreeClassifier(max_depth=3),n_estimators=20,random_state=0)\n",
    "\n",
    "adab.fit(X_train,y_train)\n",
    "\n",
    "y_pred83 =adab.predict(X_test)"
   ]
  },
  {
   "cell_type": "markdown",
   "metadata": {},
   "source": [
    "### Model evaluation"
   ]
  },
  {
   "cell_type": "code",
   "execution_count": null,
   "metadata": {},
   "outputs": [],
   "source": [
    "adab.score(X_test,y_test)"
   ]
  },
  {
   "cell_type": "code",
   "execution_count": null,
   "metadata": {},
   "outputs": [],
   "source": [
    "confusion_matrix(y_test,y_pred83)"
   ]
  },
  {
   "cell_type": "code",
   "execution_count": null,
   "metadata": {},
   "outputs": [],
   "source": [
    "print(classification_report(y_test,y_pred83))"
   ]
  },
  {
   "cell_type": "code",
   "execution_count": null,
   "metadata": {},
   "outputs": [],
   "source": [
    "\"\"\"K-FOLD CROSSVALIDATION\"\"\"\n",
    "ADA=AdaBoostClassifier(DecisionTreeClassifier(max_depth=3),n_estimators=20,random_state=0)\n",
    "scores=cross_val_score(ADA,X,y,cv=5)\n",
    "ADA_DS_score=scores.mean()\n",
    "ADA_DS_score"
   ]
  },
  {
   "cell_type": "code",
   "execution_count": null,
   "metadata": {},
   "outputs": [],
   "source": [
    "\"\"\"K-FOLD CROSSVALIDATION\"\"\"\n",
    "ADA=AdaBoostClassifier(DecisionTreeClassifier(max_depth=3),n_estimators=20,random_state=0)\n",
    "scores=cross_val_score(ADA,X,y,cv=5,scoring='f1')\n",
    "ADA_DS_f1score=scores.mean()\n",
    "ADA_DS_f1score"
   ]
  },
  {
   "cell_type": "markdown",
   "metadata": {},
   "source": [
    "## We should do the same for over sampling balanced data , not balance data, and class_weight='balanced'"
   ]
  },
  {
   "cell_type": "markdown",
   "metadata": {},
   "source": [
    "# \"\"\"XGBOOST\"\"\""
   ]
  },
  {
   "cell_type": "code",
   "execution_count": null,
   "metadata": {},
   "outputs": [],
   "source": [
    "! pip install xgboost"
   ]
  },
  {
   "cell_type": "code",
   "execution_count": null,
   "metadata": {},
   "outputs": [],
   "source": [
    "import xgboost\n",
    "from xgboost.sklearn import XGBClassifier"
   ]
  },
  {
   "cell_type": "code",
   "execution_count": null,
   "metadata": {},
   "outputs": [],
   "source": [
    "\"\"\"K-FOLD CROSSVALIDATION\"\"\"\n",
    "XGB=XGBClassifier()\n",
    "scores=cross_val_score(XGB,X,y,cv=5)\n",
    "scores.mean()"
   ]
  },
  {
   "cell_type": "code",
   "execution_count": null,
   "metadata": {},
   "outputs": [],
   "source": [
    "XGB=XGBClassifier()\n",
    "scores=cross_val_score(XGB,X,y,cv=5,scoring='f1')\n",
    "scores.mean()"
   ]
  },
  {
   "cell_type": "markdown",
   "metadata": {},
   "source": [
    "### Tuning"
   ]
  },
  {
   "cell_type": "code",
   "execution_count": null,
   "metadata": {},
   "outputs": [],
   "source": [
    "# Loss function to be optimized: loss \n",
    "\n",
    "# Number of trees used in the boosting process : n_estimators\n",
    "\n",
    "# Maximum depth of each tree: max_depth \n",
    "\n",
    "# Minimum number of samples per leaf : min_samples_leaf\n",
    "\n",
    "# Minimum number of samples to split a node: min_samples_split\n",
    "\n",
    "# Maximum number of features to consider for making splits : max_features \n",
    "\n",
    "# Define the grid of hyperparameters to search : param_grid "
   ]
  },
  {
   "cell_type": "code",
   "execution_count": null,
   "metadata": {},
   "outputs": [],
   "source": [
    "param_grid={'loss':['ls', 'lad', 'huber'],'n_estimators':range(5,50,10),'max_depth':[3,4,5,6],\n",
    "            'min_samples_leaf':range(2,10,3),'max_features':['auto', 'sqrt', 'log2', None]}\n",
    "clf9=GridSearchCV(XGBClassifier(random_state=0),param_grid,cv=5,scoring='f1')\n",
    "clf9.fit(X,y)\n",
    "clf9.best_params_"
   ]
  },
  {
   "cell_type": "code",
   "execution_count": null,
   "metadata": {},
   "outputs": [],
   "source": []
  }
 ],
 "metadata": {
  "kernelspec": {
   "display_name": "Python 3",
   "language": "python",
   "name": "python3"
  },
  "language_info": {
   "codemirror_mode": {
    "name": "ipython",
    "version": 3
   },
   "file_extension": ".py",
   "mimetype": "text/x-python",
   "name": "python",
   "nbconvert_exporter": "python",
   "pygments_lexer": "ipython3",
   "version": "3.8.8"
  }
 },
 "nbformat": 4,
 "nbformat_minor": 2
}
